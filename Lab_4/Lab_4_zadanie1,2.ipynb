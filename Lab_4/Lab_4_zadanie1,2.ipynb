{
 "cells": [
  {
   "cell_type": "code",
   "execution_count": 0,
   "metadata": {
    "application/vnd.databricks.v1+cell": {
     "cellMetadata": {
      "byteLimit": 2048000,
      "rowLimit": 10000
     },
     "inputWidgets": {},
     "nuid": "e6531efb-0920-49b8-99b1-6f0c462ae5de",
     "showTitle": false,
     "tableResultSettingsMap": {},
     "title": ""
    }
   },
   "outputs": [
    {
     "output_type": "display_data",
     "data": {
      "text/html": [
       "<style scoped>\n",
       "  .table-result-container {\n",
       "    max-height: 300px;\n",
       "    overflow: auto;\n",
       "  }\n",
       "  table, th, td {\n",
       "    border: 1px solid black;\n",
       "    border-collapse: collapse;\n",
       "  }\n",
       "  th, td {\n",
       "    padding: 5px;\n",
       "  }\n",
       "  th {\n",
       "    text-align: left;\n",
       "  }\n",
       "</style><div class='table-result-container'><table class='table-result'><thead style='background-color: white'><tr><th>imdb_name_id</th><th>name</th><th>birth_name</th><th>height</th><th>bio</th><th>birth_details</th><th>date_of_birth</th><th>place_of_birth</th><th>death_details</th><th>date_of_death</th><th>place_of_death</th><th>reason_of_death</th><th>spouses_string</th><th>spouses</th><th>divorces</th><th>spouses_with_children</th><th>children</th></tr></thead><tbody><tr><td>nm0000001</td><td>Fred Astaire</td><td>Frederic Austerlitz Jr.</td><td>177</td><td>Fred Astaire was born in Omaha, Nebraska, to Johanna (Geilus) and Fritz Austerlitz, a brewer. Fred entered show business at age 5. He was successful both in vaudeville and on Broadway in partnership with his sister, Adele Astaire. After Adele retired to marry in 1932, Astaire headed to Hollywood. Signed to RKO, he was loaned to MGM to appear in La danza di Venere (1933) before starting work on RKO's Carioca (1933). In the latter film, he began his highly successful partnership with Ginger Rogers, with whom he danced in 9 RKO pictures. During these years, he was also active in recording and radio. On film, Astaire later appeared opposite a number of partners through various studios. After a temporary retirement in 1945-7, during which he opened Fred Astaire Dance Studios, Astaire returned to film to star in more musicals through 1957. He subsequently performed a number of straight dramatic roles in film and TV.</td><td>May 10, 1899 in Omaha, Nebraska, USA</td><td>1899-05-10</td><td>Omaha, Nebraska, USA</td><td>June 22, 1987 in Los Angeles, California, USA  (pneumonia)</td><td>22.06.1987</td><td>Los Angeles, California, USA  </td><td>pneumonia</td><td>Robyn Smith  (27 June 1980 - 22 June 1987) (his death)Phyllis Livingston Potter  (12 July 1933 - 13 September 1954) (her death) (2 children)</td><td>2</td><td>0</td><td>1</td><td>2</td></tr><tr><td>nm0000002</td><td>Lauren Bacall</td><td>Betty Joan Perske</td><td>174</td><td>Lauren Bacall was born Betty Joan Perske on September 16, 1924, in New York City. She was the daughter of Natalie Weinstein-Bacal, a Romanian Jewish immigrant, and William Perske, who was born in New Jersey, to Polish Jewish parents. Her family was middle-class, with her father working as a salesman and her mother as a secretary. They divorced when she was five and she rarely saw her father after that.As a school girl, she originally wanted to be a dancer, but later switched gears to head into acting. She studied at the American Academy of Dramatic Arts in New York, after attending She was educated at Highland Manor, a private boarding school in Tarrytown, New York (through the generosity of wealthy uncles), and then at Julia Richman High School, which enabled her to get her feet wet in some off-Broadway productions.Out of school, she entered modeling and, because of her beauty, appeared on the cover of Harper's Bazaar, one of the most popular magazines in the US. The wife of famed director Howard Hawks spotted the picture in the publication and arranged with her husband to have Lauren take a screen test. As a result, which was entirely positive, she was given the part of Marie Browning in Acque del Sud (1944), a thriller opposite Humphrey Bogart, when she was just 19 years old. This not only set the tone for a fabulous career but also one of Hollywood's greatest love stories (she married Bogart in 1945). It was also the first of several Bogie-Bacall films.After 1945's L'agente confidenziale (1945), Lauren received second billing in Il grande sonno (1946) with Bogart. The mystery, in the role of Vivian Sternwood Rutledge, was a resounding success. Although she was making one film a year, each production would be eagerly awaited by the public. In 1947, again with her husband, Lauren starred in the thriller La fuga (1947). The film kept movie patrons on the edge of their seats. The following year, she starred with Bogart, Edward G. Robinson, and Lionel Barrymore in L'isola di corallo (1948). The crime drama was even more of a nail biter than her previous film.In 1950, Lauren starred in Le foglie d'oro (1950), a drama set in 1894. It was a film of note because she appeared without her husband - her co-star was Gary Cooper. In 1953, Lauren appeared in her first comedy as Schatze Page in Come sposare un milionario (1953). The film, with co-stars Marilyn Monroe and Betty Grable, was a smash hit all across the theaters of America.After filming La donna del destino (1957), which was released in 1957, Humphrey Bogart died on January 14 from throat cancer. Devastated at being a widow, Lauren returned to the silver screen with Dono d'amore (1958) in 1958 opposite Robert Stack. The production turned out to be a big disappointment. Undaunted, Lauren moved back to New York City and appeared in several Broadway plays to huge critical acclaim. She was enjoying acting before live audiences and the audiences in turn enjoyed her fine performances.Lauren was away from the big screen for five years, but she returned in 1964 to appear in Elettroshock (1964) and Donne v'insegno come si seduce un uomo (1964). The latter film was a comedy starring Henry Fonda and Tony Curtis. In 1966, Lauren starred in Detective's Story (1966) with Paul Newman and Julie Harris, which was one of former's signature films.Alternating her time between films and the stage, Lauren returned in 1974's Assassinio sull'Orient Express (1974). The film, based on Agatha Christie's best-selling book was a huge hit. It also garnered Ingrid Bergman her third Oscar. Actually, the huge star-studded cast helped to ensure its success. Two years later, in 1976, Lauren co-starred with John Wayne in Il pistolero (1976). The film was Wayne's last - he died from cancer in 1979.In 1981, she played an actress being stalked by a crazed admirer in Un'ombra nel buio (1981). The thriller was absolutely fascinating with Lauren in the lead role. After that production, Lauren was away from films again, this time for seven years. In the interim, she again appeared on the stages of Broadway. When she returned, it was for the filming of 1988's Mr. North (1988). After 1990's Misery non deve morire (1990) and several made for television films, Lauren appeared in 1996's Fuga dalla Casa Bianca (1996), a comedy romp with Jack Lemmon and James Garner as two ex-presidents and their escapades.Despite her age and failing health, she made a small-scale comeback in the English-language dub of Hayao Miyazaki's Il castello errante di Howl (2004) (Howl's Moving Castle, based on the young-adult novel by Diana Wynne Jones) as the Witch of the Waste, but acting endeavors for the beloved actress became increasingly rare. Lauren Bacall died on 12 August 2014, five weeks short of her 90th birthday.</td><td>September 16, 1924 in The Bronx, New York City, New York, USA</td><td>16.09.1924</td><td>The Bronx, New York City, New York, USA</td><td>August 12, 2014 in New York City, New York, USA  (stroke)</td><td>12.08.2014</td><td>New York City, New York, USA  </td><td>stroke</td><td>Jason Robards  (4 July 1961 - 10 September 1969) (divorced) (1 child)Humphrey Bogart  (21 May 1945 - 14 January 1957) (his death) (2 children)</td><td>2</td><td>1</td><td>2</td><td>3</td></tr><tr><td>nm0000003</td><td>Brigitte Bardot</td><td>Brigitte Bardot</td><td>166</td><td>Brigitte Bardot was born on September 28, 1934 in Paris, France. Her father had an engineering degree and worked with his father in the family business. Brigitte's mother encouraged her daughter to take up music and dance, and she proved to be very adept at it. By the time she was 15, Brigitte was trying a modeling career, and found herself in the French magazine Elle. Her incredible beauty readily apparent, Brigitte next tried films. In 1952, she appeared on screen for the first time as Javotte Lemoine in Le trou normand (1952). Two more films followed and it was also the same year she married Roger Vadim (the union lasted 3½ years). Capitalizing on her success in French films, Brigitte made her first American production in Atto d'amore (1953) with Kirk Douglas, but she continued to make films in France. Brigitte's explosive sexuality took the United States by storm, and the effect she had on millions of American men who had not seen a woman like her in a long, long time--if ever--was electric. Rise to the phrase sex kitten and fascination of her in the United States consisted of magazines photographs and dubbed over French films--good, bad or indifferent, her films drew audiences--mainly men--into theaters like lemmings. In 1965, she appeared as herself in the American-made Erasmo il lentigginoso (1965) with James Stewart (she only appeared in one scene). Just before she turned 40, Brigitte retired from movies after filming Colinot l'alzasottane (1973). She prefers life outside of stardom. While it enabled her to become internationally famous, it also carried with it annoyances. It was not anything for her to have fans enter her house or wander around the grounds of her home in the hopes of getting a glimpse of her or to take something that belonged to her. Paparazzi constantly hounded her with their cameras. She has been so soft-hearted that some people even have taken advantage of her generosity. After her life in the spotlight, Brigitte went on to become a leading spokesperson for animal rights and started the Foundation Brigitte Bardot dedicated solely to that cause. Her work in that realm is, perhaps, far greater than any film she could have made. Brigitte has been married to Bernard d'Ormale since 1992 and they reside in St. Tropez with their nearly 50 pets.</td><td>September 28, 1934 in Paris, France</td><td>28.09.1934</td><td>Paris, France</td><td>null</td><td>null</td><td>null</td><td>null</td><td>Bernard d'Ormale  (16 August 1992 - present)Gunter Sachs  (14 July 1966 - 3 July 1969) (divorced)Jacques Charrier  (18 June 1959 - 20 November 1962) (divorced) (1 child)Roger Vadim  (20 December 1952 - 6 December 1957) (divorced)</td><td>4</td><td>3</td><td>1</td><td>1</td></tr><tr><td>nm0000004</td><td>John Belushi</td><td>John Adam Belushi</td><td>170</td><td>John Belushi was born in Chicago, Illinois, USA, on January 24, 1949, to Agnes Demetri (Samaras) and Adam Anastos Belushi, a restaurant owner. His father was an Albanian immigrant, from Qytezë, and his mother was also of Albanian descent. He grew up in Wheaton, where the family moved when he was six. Though a young hellion in grade school, John became the perfect all-American boy during his high school years where he was co-captain of the Wheaton Central High School football team and was elected homecoming king his senior year. He also developed an interest in acting and appeared in the high school variety show. Encouraged by his drama teacher, John decided to put aside his plans to become a football coach to pursue a career in acting.After graduation in 1967, John performed in summer stock in rural Indiana in a variety of roles from Cardinal Wolsey in Anne of a Thousand Days to a comic detective in Ten Little Indians. In the fall of his freshman year at the University of Wisconsin at Whitewater, John changed his image into a bad-boy appearance by growing his hair long and began to have problems with discipline and structure of attending classes.Dropping out of Wisconsin, John spent the next two years at the College of DuPage, a junior college a few miles from his parents' Wheaton home, where his father began persuading him to become a partner in his restaurant, but John still preferred acting. While attending DuPage, John helped found the West Compass Players, an improv comedy troupe patterned after Chicago's famous Second City ensemble.In 1971, John made the leap to Second City itself where he performed in various on-stage comic performances with others, who included Harold Ramis and Joe Flaherty. John loved his life at Second City where he performed six nights a week, perfecting the physical gonzo style of comedy he later made famous.A year later, John and his live-in girlfriend from his high school years, Judith Belushi-Pisano, moved to New York because John had joined the cast of National Lampoon's Lemmings, an off-Broadway rock musical revue that was originally booked for a six-week run but played to full crowds for nearly 10 months.In 1973, John was hired as a writer for the syndicated National Lampoon's Radio Hour which became the National Lampoon Show in 1975. John's big break came that same year when he joined the ground-breaking TV variety series Il Saturday Night Live (1975) which made him a star. The unpredictable, aggressively physical style of humor that he began on Second City flowered on SNL.In 1978, while still working on Il Saturday Night Live (1975), John appeared in the movie Verso il sud (1978) which starred and was directed by Jack Nicholson. It was here that director John Landis noticed John and decided to cast him in his movie National Lampoon's Animal House (1978). John's minor role as the notorious, beer-swilling Bluto made it a box-office smash and the year's top grossing comedy. Despite appearing in only a dozen scenes, John's performance stole the movie, which portrays college fraternity shenanigans at a small college set in the year 1962.In 1979, John along with fellow SNL regular Dan Aykroyd quit the series to pursue movie projects. John and Dan Aykroyd appeared in minor roles in Steven Spielberg's financially unsuccessful 1941 - Allarme a Hollywood (1979) and, the following year, in John Landis' The Blues Brothers - I fratelli Blues (1980). Around this time, John's drug use began escalating. Cocaine, which was ubiquitous in show-business circles in the 1970's, became his drug of choice. After he first experimented with cocaine in the mid 1970s, John almost immediately became addicted to it. His frequent cocaine sniffing binges became a source of friction between him and Judy, whom he married in 1976.John's love for blues and soul music inspired the Blues Brothers. He and Aykroyd first appeared as Joliet Jake and Elwood Blues, a pair of white soul men dressed in black suits, skinny ties, fedora hats and Rayban sunglasses, as a warm-up act before the telecasts of Il Saturday Night Live (1975). Building on the success of their acts and the release of their album A Briefcase Full of Blues, John and Dan Aykroyd starred in the movie, which gave John a chance to act with his favorite musical heroes including Ray Charles, James Brown and Aretha Franklin.Although John's reputation for being an off-screen party animal is legendary, his generous side is less well known. Using some of his money, he bought his father a ranch outside San Diego for him to live. John helped set up some of his Chicago friends with their own businesses and even financially helped his younger brother, Jim Belushi, who followed his older brother's path to both Second City and Il Saturday Night Live (1975).In 1981, John appeared in the movie Chiamami Aquila (1981), playing a hard-nosed Chicago newspaperman who finds romance in Colorado with eagle expert Blair Brown. That same year, John and Dan Aykroyd appeared again in the movie I vicini di casa (1981), which gave them a chance to reverse roles, with John playing a straight-arrow family man whose life is turned upside down when a wild family man (Aykroyd) moves in next door.In January 1982, John began work on the screenplay for another movie to be titled Noble Rot. Also, John had checked into a bungalow at the Chateau Marmont, a popular celebrity hotel in Los Angeles. John's drug use had been steadily increasing for over a year now, which alarmed his wife and friends, but he continued to promise Judy that he would quit someday. On March 5, 1982, John Belushi was found dead in his hotel room at the age of 33. The local coroner gave the cause of death as a lethal injection of cocaine and heroin. Several years later, John's drug dealing/drug user companion during his final weeks, Cathy Smith, was tried and sentenced to three years in prison for supplying John with the drugs. Close friend James Taylor sang That Lonesome Road at a memorial service at Martha's Vineyard cemetery where John was buried.</td><td>January 24, 1949 in Chicago, Illinois, USA</td><td>24.01.1949</td><td>Chicago, Illinois, USA</td><td>March 5, 1982 in Hollywood, Los Angeles, California, USA  (acute cocaine and heroin intoxication)</td><td>05.03.1982</td><td>Hollywood, Los Angeles, California, USA  </td><td>acute cocaine and heroin intoxication</td><td>Judith Belushi-Pisano  (31 December 1976 - 5 March 1982) (his death)</td><td>1</td><td>0</td><td>0</td><td>0</td></tr><tr><td>nm0000005</td><td>Ingmar Bergman</td><td>Ernst Ingmar Bergman</td><td>179</td><td>Ernst Ingmar Bergman was born July 14, 1918, the son of a priest. The film and T.V. series, Con le migliori intenzioni (1992) is biographical and shows the early marriage of his parents. The film 'Söndagsbarn' depicts a bicycle journey with his father. In the miniseries Conversazioni private (1996) is the trilogy closed. Here, as in 'Den Goda Viljan' Pernilla August play his mother. Note that all three movies are not always full true biographical stories. He began his career early with a puppet theatre which he, his sister and their friends played with. But he was the manager. Strictly professional he begun writing in 1941. He had written a play called 'Kaspers död' (A.K.A. 'Kaspers Death') which was produced the same year. It became his entrance into the movie business as Stina Bergman (not a close relative), from the company S.F. (Swedish Filmindustry), had seen the play and thought that there must be some dramatic talent in young Ingmar. His first job was to save other more famous writers' poor scripts. Under one of that script-saving works he remembered that he had written a novel about his last year as a student. He took the novel, did the save-poor-script job first, then wrote a screenplay on his own novel. When he went back to S.F., he delivered two scripts rather than one. The script was Spasimo (1944) and was the fist Bergman screenplay that was put into film (by Alf Sjöberg). It was also in that movie Bergman did his first professional film-director job. Because Alf Sjöberg was busy, Bergman got the order to shoot the last sequence of the film. Ingmar Bergman is the father of Daniel Bergman, director, and Mats Bergman, actor at the Swedish Royal Dramatic Theater. Ingmar Bergman was also C.E.O. of the same theatre between 1963-1966, where he hired almost every professional actor in Sweden. In 1976 he had a famous tax problem. Bergman had trusted other people to advise him on his finances, but it turned out to be very bad advice. Bergman had to leave the country immediately, and so he went to Germany. A few years later he returned to Sweden and made his last theatrical film Fanny & Alexander (1982) (A.K.A. 'Fanny and Alexander'). In later life he retired from movie directing, but still wrote scripts for film and T.V. and directed plays at the Swedish Royal Dramatic Theatre for many years. He died peacefully in his sleep on July 30, 2007.</td><td>July 14, 1918 in Uppsala, Uppsala län, Sweden</td><td>14.07.1918</td><td>Uppsala, Uppsala län, Sweden</td><td>July 30, 2007 in Fårö, Gotlands län, Sweden  (natural causes)</td><td>30.07.2007</td><td>Fårö, Gotlands län, Sweden  </td><td>natural causes</td><td>Ingrid Bergman  (11 November 1971 - 20 May 1995) (her death) (1 child)Käbi Laretei  (1959 - 1969) (divorced) (1 child)Gun Grut  (1951 - 1959) (divorced) (1 child)Ellen Bergman  (22 July 1945 - 1950) (divorced) (4 children)Else Fisher  (25 March 1943 - 1945) (divorced) (1 child)</td><td>5</td><td>4</td><td>5</td><td>8</td></tr><tr><td>nm0000006</td><td>Ingrid Bergman</td><td>Ingrid Bergman</td><td>178</td><td>Ingrid Bergman was one of the greatest actresses from Hollywood's lamented Golden Era. Her natural and unpretentious beauty and her immense acting talent made her one of the most celebrated figures in the history of American cinema. Bergman is also one of the most Oscar-awarded actresses, tied with Meryl Streep, both second only to Katharine Hepburn.Ingrid Bergman was born on August 29, 1915 in Stockholm, Sweden, to a German mother, Frieda Henrietta (Adler), and a Swedish father, Justus Samuel Bergman, an artist and photographer. Her mother died when she was only two and her father died when she was 12. She went to live with an elderly uncle.The woman who would be one of the top stars in Hollywood in the 1940s had decided to become an actress after finishing her formal schooling. She had had a taste of acting at age 17 when she played an uncredited role of a girl standing in line in the Swedish film Landskamp (1932) in 1932 - not much of a beginning for a girl who would be known as Sweden's illustrious gift to Hollywood. Her parents died when she was just a girl and the uncle she lived with didn't want to stand in the way of Ingrid's dream. The next year she enrolled at the Royal Dramatic Theatre School in Stockholm but decided that stage acting was not for her. It would be three more years before she would have another chance at a film. When she did, it was more than just a bit part. The film in question was Munkbrogreven (1935), where she had a speaking part as Elsa Edlund. After several films that year that established her as a class actress, Ingrid appeared in La sposa scomparsa (1936) as Anita Hoffman. Luckily for her, American producer David O. Selznick saw it and sent a representative from Selznick International Pictures to gain rights to the story and have Ingrid signed to a contract. Once signed, she came to California and starred in United Artists' 1939 remake of her 1936 film, Intermezzo (1939), reprising her original role. The film was a hit and so was Ingrid.Her beauty was unlike anything the movie industry had seen before and her acting was superb. Hollywood was about to find out that they had the most versatile actress the industry had ever seen. Here was a woman who truly cared about the craft she represented. The public fell in love with her. Ingrid was under contract to go back to Sweden to film Solo una notte (1939) in 1939 and Juninatten (1940) in 1940. Back in the US she appeared in three films, all well-received. She made only one film in 1942, but it was the classic Casablanca (1942) opposite Humphrey Bogart.Ingrid was choosing her roles well. In 1943 she was nominated for an Academy Award for her role in Per chi suona la campana (1943), the only film she made that year. The critics and public didn't forget her when she made Angoscia (1944) the following year--her role of Paula Alquist got her the Oscar for Best Actress. In 1945 Ingrid played in Io ti salverò (1945), Saratoga (1945) and Le campane di Santa Maria (1945), for which she received her third Oscar nomination for her role of Sister Benedict. She made no films in 1947, but bounced back with a fourth nomination for Giovanna d'Arco (1948). In 1949 she went to Italy to film Stromboli (Terra di Dio) (1950), directed by Roberto Rossellini. She fell in love with him and left her husband, Dr. Peter Lindstrom, and daughter, Pia Lindström. America's moral guardians in the press and the pulpits were outraged. She was pregnant and decided to remain in Italy, where her son was born. In 1952 Ingrid had twins, Isotta and Isabella Rossellini, who became an outstanding actress in her own right, as did Pia.Ingrid continued to make films in Italy and finally returned to Hollywood in 1956 in the title role in Anastasia (1956), which was filmed in England. For this she won her second Academy Award. She had scarcely missed a beat. Ingrid continued to bounce between Europe and the US making movies, and fine ones at that. A film with Ingrid Bergman was sure to be a quality production. In her final big-screen performance in 1978's Sinfonia d'autunno (1978) she had her final Academy Award nomination. Though she didn't win, many felt it was the most sterling performance of her career. Ingrid retired, but not before she gave an outstanding performance in the mini-series Una donna di nome Golda (1982), a film about Israeli prime minister Golda Meir. For this she won an Emmy Award as Best Actress, but, unfortunately, she did not live to see the fruits of her labor.Ingrid died from cancer on August 29, 1982, her 67th birthday, in London, England.</td><td>August 29, 1915 in Stockholm, Sweden</td><td>29.08.1915</td><td>Stockholm, Sweden</td><td>August 29, 1982 in Chelsea, London, England, UK  (lymphoma complications following a breast cancer operation)</td><td>29.08.1982</td><td>Chelsea, London, England, UK  </td><td>lymphoma complications following a breast cancer operation</td><td>Lars Schmidt  (21 December 1958 - 1978) (divorced)Roberto Rossellini  (24 May 1950 - 7 November 1957) (divorced) (3 children)Dr. Petter Aron Lindström  (10 July 1937 - 9 February 1950) (divorced) (1 child)</td><td>3</td><td>3</td><td>2</td><td>4</td></tr><tr><td>nm0000007</td><td>Humphrey Bogart</td><td>Humphrey DeForest Bogart</td><td>173</td><td>Humphrey DeForest Bogart was born in New York City, New York, to Maud Humphrey, a famed magazine illustrator and suffragette, and Belmont DeForest Bogart, a moderately wealthy surgeon (who was secretly addicted to opium). Bogart was educated at Trinity School, NYC, and was sent to Phillips Academy in Andover, Massachusetts, in preparation for medical studies at Yale. He was expelled from Phillips and joined the U.S. Naval Reserve. From 1920 to 1922, he managed a stage company owned by family friend William A. Brady (the father of actress Alice Brady), performing a variety of tasks at Brady's film studio in New York. He then began regular stage performances. Alexander Woollcott described his acting in a 1922 play as inadequate. In 1930, he gained a contract with Fox, his feature film debut in a ten-minute short, Broadway's Like That (1930), co-starring Ruth Etting and Joan Blondell. Fox released him after two years. After five years of stage and minor film roles, he had his breakthrough role in La foresta pietrificata (1936) from Warner Bros. He won the part over Edward G. Robinson only after the star, Leslie Howard, threatened Warner Bros. that he would quit unless Bogart was given the key role of Duke Mantee, which he had played in the Broadway production with Howard. The film was a major success and led to a long-term contract with Warner Bros. From 1936 to 1940, Bogart appeared in 28 films, usually as a gangster, twice in Westerns and even a horror film. His landmark year was 1941 (often capitalizing on parts George Raft had stupidly rejected) with roles in classics such as Una pallottola per Roy (1941) and as Sam Spade in one of his most fondly remembered films, Il mistero del falco (1941). These were followed by Casablanca (1942), Il grande sonno (1946), and L'isola di corallo (1948). Bogart, despite his erratic education, was incredibly well-read and he favored writers and intellectuals within his small circle of friends. In 1947, he joined wife Lauren Bacall and other actors protesting the House Un-American Activities Committee witch hunts. He also formed his own production company, and the next year made Il tesoro della Sierra Madre (1948). Bogie won the best actor Academy Award for La regina d'Africa (1951) and was nominated for Casablanca (1942) and as Captain Queeg in L'ammutinamento del Caine (1954), a film made when he was already seriously ill. He died in his sleep at his Hollywood home following surgeries and a battle with throat cancer.</td><td>December 25, 1899 in New York City, New York, USA</td><td>1899-12-25</td><td>New York City, New York, USA</td><td>January 14, 1957 in Los Angeles, California, USA  (esophageal cancer)</td><td>14.01.1957</td><td>Los Angeles, California, USA  </td><td>esophageal cancer</td><td>Lauren Bacall  (21 May 1945 - 14 January 1957) (his death) (2 children)Mayo Methot  (21 August 1938 - 10 May 1945) (divorced)Mary Philips  (3 April 1928 - 11 August 1938) (divorced)Helen Menken  (20 May 1926 - 18 November 1927) (divorced)</td><td>4</td><td>3</td><td>1</td><td>2</td></tr><tr><td>nm0000009</td><td>Richard Burton</td><td>Richard Walter Jenkins</td><td>178</td><td>Probably best-remembered for his turbulent personal life with Elizabeth Taylor (whom he married twice), Richard Burton was nonetheless also regarded as an often brilliant British actor of the post-WWII period.Burton was born Richard Walter Jenkins in 1925 into a Welsh (Cymraeg)-speaking family in Pontrhydyfen to Edith Maude (Thomas) and Richard Walter Jenkins, a coal miner. The twelfth of thirteen children, his mother died while he was a toddler and his father later abandoned the family, leaving him to be raised by an elder sister, Cecilia. An avid fan of Shakespeare, poetry and reading, he once said home is where the books are. He received a scholarship to Oxford University to study acting and made his first stage appearance in 1944.His first film appearances were in routine British movies such as The Last Days of Dolwyn (1949), Tempesta a Liverpool (1950) and La quinta offensiva (1951). Then he started to appear in Hollywood movies such as Mia cugina Rachele (1952), La tunica (1953) and Alessandro il grande (1956), added to this he was also spending considerable time in stage productions, both in the UK and USA, often to splendid reviews. The late 1950s was an exciting and inventive time in UK cinema, often referred to as the British New Wave, and Burton was right in the thick of things, and showcased a sensational performance in I giovani arrabbiati (1959). He also appeared with a cavalcade of international stars in the World War II magnum opus Il giorno più lungo (1962), and then onto arguably his most notorious role as that of Marc Antony opposite Elizabeth Taylor in the hugely expensive Cleopatra (1963). This was, of course, the film that kick-started their fiery and passionate romance (plus two marriages), and the two of them appeared in several productions over the next few years including International Hotel (1963), Castelli di sabbia (1965), the dynamic Chi ha paura di Virginia Woolf? (1966) and La bisbetica domata (1967), as well as box office flops like I commedianti (1967). Burton did better when he was off on his own giving higher caliber performances, such as those in Becket e il suo re (1964), the film adaptation of the Tennessee Williams play La notte dell'iguana (1964), the brilliant espionage thriller La spia che venne dal freddo (1965) and alongside Clint Eastwood in the World War II action adventure film Dove osano le aquile (1968).His audience appeal began to decline somewhat by the end of the 1960s as fans turned to younger, more virile male stars, however Burton was superb in Anna dei mille giorni (1969) as King Henry VIII, he put on a reasonable show in the boring Attacco a Rommel (1971), was over the top in the awful Il mascalzone (1971), gave sleepwalking performances in Una faccia di c... (1972) and Barbablù (1972), and was wildly miscast in the ludicrous L'assassinio di Trotsky (1972).By the early 1970s, quality male lead roles were definitely going to other stars, and Burton found himself appearing in some movies of dubious quality, just to pay the bills and support family, including Divorzia lui divorzia lei (1973) (his last on-screen appearance with Taylor), L'uomo del clan (1974), Breve incontro (1974), Jackpot (1974) (which was never completed) and L'esorcista II - L'eretico (1977). However, he won another Oscar nomination for his excellent performance as a concerned psychiatrist in Equus (1977). He appeared with fellow acting icons Richard Harris and Roger Moore in I 4 dell'oca selvaggia (1978) about mercenaries in South Africa. While the film had a modest initial run, over the past thirty-five years it has picked up quite a cult following. His final performances were as the wily inquisitor O'Brien in the most recent film version of George Orwell's dystopian Orwell 1984 (1984), in which he won good reviews, and in the TV mini series Ellis Island (1984). He passed away on August 5, 1984 in Celigny, Switzerland from a cerebral hemorrhage.</td><td>November 10, 1925 in Pontrhydyfen, Wales, UK</td><td>10.11.1925</td><td>Pontrhydyfen, Wales, UK</td><td>August 5, 1984 in Céligny, Geneva, Switzerland  (cerebral hemorrhage)</td><td>05.08.1984</td><td>Céligny, Geneva, Switzerland  </td><td>cerebral hemorrhage</td><td>Sally Burton  (3 July 1983 - 5 August 1984) (his death)Susan Hunt  (21 August 1976 - 27 February 1983) (divorced)Elizabeth Taylor  (10 October 1975 - 29 July 1976) (divorced)Elizabeth Taylor  (15 March 1964 - 26 June 1974) (divorced) (1 child)Sybil Williams  (5 February 1949 - 5 December 1963) (divorced) (2 children)</td><td>5</td><td>4</td><td>2</td><td>3</td></tr><tr><td>nm0000010</td><td>James Cagney</td><td>James Francis Cagney</td><td>165</td><td>One of Hollywood's preeminent male stars of all time, James Cagney was also an accomplished dancer and easily played light comedy. James Francis Cagney was born on the Lower East Side of Manhattan in New York City, to Carolyn (Nelson) and James Francis Cagney, Sr., who was a bartender and amateur boxer. Cagney was of Norwegian (from his maternal grandfather) and Irish descent. Ending three decades on the screen, he retired to his farm in Stanfordville, New York (some 77 miles/124 km. north of his New York City birthplace), after starring in Billy Wilder's Uno, due, tre! (1961). He emerged from retirement to star in the 1981 screen adaptation of E.L. Doctorow's novel Ragtime (Ragtime (1981)), in which he was reunited with his frequent co-star of the 1930s, Pat O'Brien, and which was his last theatrical film and O'Brien's as well). Cagney's final performance came in the title role of the made-for-TV movie Terrible Joe Moran (1984), in which he played opposite Art Carney.</td><td>July 17, 1899 in New York City, New York, USA</td><td>1899-07-17</td><td>New York City, New York, USA</td><td>March 30, 1986 in Stanfordville, New York, USA  (heart attack following illness from diabetes)</td><td>30.03.1986</td><td>Stanfordville, New York, USA  </td><td>heart attack following illness from diabetes</td><td>Frances Cagney  (28 September 1922 - 30 March 1986) (his death) (2 children)</td><td>1</td><td>0</td><td>1</td><td>2</td></tr><tr><td>nm0000011</td><td>Gary Cooper</td><td>Frank James Cooper</td><td>191</td><td>Born to Alice Cooper and Charles Cooper. Gary attended school at Dunstable school England, Helena Montana and Grinnell College, Grinnell, Iowa (then called Iowa College). His first stage experience was during high school and college. Afterwards, he worked as an extra for one year before getting a part in a two-reeler by the independent producer Hans Tiesler . Eileen Sedgwick was his first leading lady. He then appeared in Fiore del deserto (1926) for United Artists before moving to Paramount. While there he appeared in a small part in Ali (1927), Cosetta (1927), and other films.</td><td>May 7, 1901 in Helena, Montana, USA</td><td>07.05.1901</td><td>Helena, Montana, USA</td><td>May 13, 1961 in Beverly Hills, Los Angeles, California, USA  (prostate cancer)</td><td>13.05.1961</td><td>Beverly Hills, Los Angeles, California, USA  </td><td>prostate cancer</td><td>Sandra Shaw  (15 December 1933 - 13 May 1961) (his death) (1 child)</td><td>1</td><td>0</td><td>1</td><td>1</td></tr></tbody></table></div>"
      ]
     },
     "metadata": {
      "application/vnd.databricks.v1+output": {
       "addedWidgets": {},
       "aggData": [],
       "aggError": "",
       "aggOverflow": false,
       "aggSchema": [],
       "aggSeriesLimitReached": false,
       "aggType": "",
       "arguments": {},
       "columnCustomDisplayInfos": {},
       "data": [
        [
         "nm0000001",
         "Fred Astaire",
         "Frederic Austerlitz Jr.",
         177,
         "Fred Astaire was born in Omaha, Nebraska, to Johanna (Geilus) and Fritz Austerlitz, a brewer. Fred entered show business at age 5. He was successful both in vaudeville and on Broadway in partnership with his sister, Adele Astaire. After Adele retired to marry in 1932, Astaire headed to Hollywood. Signed to RKO, he was loaned to MGM to appear in La danza di Venere (1933) before starting work on RKO's Carioca (1933). In the latter film, he began his highly successful partnership with Ginger Rogers, with whom he danced in 9 RKO pictures. During these years, he was also active in recording and radio. On film, Astaire later appeared opposite a number of partners through various studios. After a temporary retirement in 1945-7, during which he opened Fred Astaire Dance Studios, Astaire returned to film to star in more musicals through 1957. He subsequently performed a number of straight dramatic roles in film and TV.",
         "May 10, 1899 in Omaha, Nebraska, USA",
         "1899-05-10",
         "Omaha, Nebraska, USA",
         "June 22, 1987 in Los Angeles, California, USA  (pneumonia)",
         "22.06.1987",
         "Los Angeles, California, USA  ",
         "pneumonia",
         "Robyn Smith  (27 June 1980 - 22 June 1987) (his death)Phyllis Livingston Potter  (12 July 1933 - 13 September 1954) (her death) (2 children)",
         2,
         0,
         1,
         2
        ],
        [
         "nm0000002",
         "Lauren Bacall",
         "Betty Joan Perske",
         174,
         "Lauren Bacall was born Betty Joan Perske on September 16, 1924, in New York City. She was the daughter of Natalie Weinstein-Bacal, a Romanian Jewish immigrant, and William Perske, who was born in New Jersey, to Polish Jewish parents. Her family was middle-class, with her father working as a salesman and her mother as a secretary. They divorced when she was five and she rarely saw her father after that.As a school girl, she originally wanted to be a dancer, but later switched gears to head into acting. She studied at the American Academy of Dramatic Arts in New York, after attending She was educated at Highland Manor, a private boarding school in Tarrytown, New York (through the generosity of wealthy uncles), and then at Julia Richman High School, which enabled her to get her feet wet in some off-Broadway productions.Out of school, she entered modeling and, because of her beauty, appeared on the cover of Harper's Bazaar, one of the most popular magazines in the US. The wife of famed director Howard Hawks spotted the picture in the publication and arranged with her husband to have Lauren take a screen test. As a result, which was entirely positive, she was given the part of Marie Browning in Acque del Sud (1944), a thriller opposite Humphrey Bogart, when she was just 19 years old. This not only set the tone for a fabulous career but also one of Hollywood's greatest love stories (she married Bogart in 1945). It was also the first of several Bogie-Bacall films.After 1945's L'agente confidenziale (1945), Lauren received second billing in Il grande sonno (1946) with Bogart. The mystery, in the role of Vivian Sternwood Rutledge, was a resounding success. Although she was making one film a year, each production would be eagerly awaited by the public. In 1947, again with her husband, Lauren starred in the thriller La fuga (1947). The film kept movie patrons on the edge of their seats. The following year, she starred with Bogart, Edward G. Robinson, and Lionel Barrymore in L'isola di corallo (1948). The crime drama was even more of a nail biter than her previous film.In 1950, Lauren starred in Le foglie d'oro (1950), a drama set in 1894. It was a film of note because she appeared without her husband - her co-star was Gary Cooper. In 1953, Lauren appeared in her first comedy as Schatze Page in Come sposare un milionario (1953). The film, with co-stars Marilyn Monroe and Betty Grable, was a smash hit all across the theaters of America.After filming La donna del destino (1957), which was released in 1957, Humphrey Bogart died on January 14 from throat cancer. Devastated at being a widow, Lauren returned to the silver screen with Dono d'amore (1958) in 1958 opposite Robert Stack. The production turned out to be a big disappointment. Undaunted, Lauren moved back to New York City and appeared in several Broadway plays to huge critical acclaim. She was enjoying acting before live audiences and the audiences in turn enjoyed her fine performances.Lauren was away from the big screen for five years, but she returned in 1964 to appear in Elettroshock (1964) and Donne v'insegno come si seduce un uomo (1964). The latter film was a comedy starring Henry Fonda and Tony Curtis. In 1966, Lauren starred in Detective's Story (1966) with Paul Newman and Julie Harris, which was one of former's signature films.Alternating her time between films and the stage, Lauren returned in 1974's Assassinio sull'Orient Express (1974). The film, based on Agatha Christie's best-selling book was a huge hit. It also garnered Ingrid Bergman her third Oscar. Actually, the huge star-studded cast helped to ensure its success. Two years later, in 1976, Lauren co-starred with John Wayne in Il pistolero (1976). The film was Wayne's last - he died from cancer in 1979.In 1981, she played an actress being stalked by a crazed admirer in Un'ombra nel buio (1981). The thriller was absolutely fascinating with Lauren in the lead role. After that production, Lauren was away from films again, this time for seven years. In the interim, she again appeared on the stages of Broadway. When she returned, it was for the filming of 1988's Mr. North (1988). After 1990's Misery non deve morire (1990) and several made for television films, Lauren appeared in 1996's Fuga dalla Casa Bianca (1996), a comedy romp with Jack Lemmon and James Garner as two ex-presidents and their escapades.Despite her age and failing health, she made a small-scale comeback in the English-language dub of Hayao Miyazaki's Il castello errante di Howl (2004) (Howl's Moving Castle, based on the young-adult novel by Diana Wynne Jones) as the Witch of the Waste, but acting endeavors for the beloved actress became increasingly rare. Lauren Bacall died on 12 August 2014, five weeks short of her 90th birthday.",
         "September 16, 1924 in The Bronx, New York City, New York, USA",
         "16.09.1924",
         "The Bronx, New York City, New York, USA",
         "August 12, 2014 in New York City, New York, USA  (stroke)",
         "12.08.2014",
         "New York City, New York, USA  ",
         "stroke",
         "Jason Robards  (4 July 1961 - 10 September 1969) (divorced) (1 child)Humphrey Bogart  (21 May 1945 - 14 January 1957) (his death) (2 children)",
         2,
         1,
         2,
         3
        ],
        [
         "nm0000003",
         "Brigitte Bardot",
         "Brigitte Bardot",
         166,
         "Brigitte Bardot was born on September 28, 1934 in Paris, France. Her father had an engineering degree and worked with his father in the family business. Brigitte's mother encouraged her daughter to take up music and dance, and she proved to be very adept at it. By the time she was 15, Brigitte was trying a modeling career, and found herself in the French magazine Elle. Her incredible beauty readily apparent, Brigitte next tried films. In 1952, she appeared on screen for the first time as Javotte Lemoine in Le trou normand (1952). Two more films followed and it was also the same year she married Roger Vadim (the union lasted 3½ years). Capitalizing on her success in French films, Brigitte made her first American production in Atto d'amore (1953) with Kirk Douglas, but she continued to make films in France. Brigitte's explosive sexuality took the United States by storm, and the effect she had on millions of American men who had not seen a woman like her in a long, long time--if ever--was electric. Rise to the phrase sex kitten and fascination of her in the United States consisted of magazines photographs and dubbed over French films--good, bad or indifferent, her films drew audiences--mainly men--into theaters like lemmings. In 1965, she appeared as herself in the American-made Erasmo il lentigginoso (1965) with James Stewart (she only appeared in one scene). Just before she turned 40, Brigitte retired from movies after filming Colinot l'alzasottane (1973). She prefers life outside of stardom. While it enabled her to become internationally famous, it also carried with it annoyances. It was not anything for her to have fans enter her house or wander around the grounds of her home in the hopes of getting a glimpse of her or to take something that belonged to her. Paparazzi constantly hounded her with their cameras. She has been so soft-hearted that some people even have taken advantage of her generosity. After her life in the spotlight, Brigitte went on to become a leading spokesperson for animal rights and started the Foundation Brigitte Bardot dedicated solely to that cause. Her work in that realm is, perhaps, far greater than any film she could have made. Brigitte has been married to Bernard d'Ormale since 1992 and they reside in St. Tropez with their nearly 50 pets.",
         "September 28, 1934 in Paris, France",
         "28.09.1934",
         "Paris, France",
         null,
         null,
         null,
         null,
         "Bernard d'Ormale  (16 August 1992 - present)Gunter Sachs  (14 July 1966 - 3 July 1969) (divorced)Jacques Charrier  (18 June 1959 - 20 November 1962) (divorced) (1 child)Roger Vadim  (20 December 1952 - 6 December 1957) (divorced)",
         4,
         3,
         1,
         1
        ],
        [
         "nm0000004",
         "John Belushi",
         "John Adam Belushi",
         170,
         "John Belushi was born in Chicago, Illinois, USA, on January 24, 1949, to Agnes Demetri (Samaras) and Adam Anastos Belushi, a restaurant owner. His father was an Albanian immigrant, from Qytezë, and his mother was also of Albanian descent. He grew up in Wheaton, where the family moved when he was six. Though a young hellion in grade school, John became the perfect all-American boy during his high school years where he was co-captain of the Wheaton Central High School football team and was elected homecoming king his senior year. He also developed an interest in acting and appeared in the high school variety show. Encouraged by his drama teacher, John decided to put aside his plans to become a football coach to pursue a career in acting.After graduation in 1967, John performed in summer stock in rural Indiana in a variety of roles from Cardinal Wolsey in Anne of a Thousand Days to a comic detective in Ten Little Indians. In the fall of his freshman year at the University of Wisconsin at Whitewater, John changed his image into a bad-boy appearance by growing his hair long and began to have problems with discipline and structure of attending classes.Dropping out of Wisconsin, John spent the next two years at the College of DuPage, a junior college a few miles from his parents' Wheaton home, where his father began persuading him to become a partner in his restaurant, but John still preferred acting. While attending DuPage, John helped found the West Compass Players, an improv comedy troupe patterned after Chicago's famous Second City ensemble.In 1971, John made the leap to Second City itself where he performed in various on-stage comic performances with others, who included Harold Ramis and Joe Flaherty. John loved his life at Second City where he performed six nights a week, perfecting the physical gonzo style of comedy he later made famous.A year later, John and his live-in girlfriend from his high school years, Judith Belushi-Pisano, moved to New York because John had joined the cast of National Lampoon's Lemmings, an off-Broadway rock musical revue that was originally booked for a six-week run but played to full crowds for nearly 10 months.In 1973, John was hired as a writer for the syndicated National Lampoon's Radio Hour which became the National Lampoon Show in 1975. John's big break came that same year when he joined the ground-breaking TV variety series Il Saturday Night Live (1975) which made him a star. The unpredictable, aggressively physical style of humor that he began on Second City flowered on SNL.In 1978, while still working on Il Saturday Night Live (1975), John appeared in the movie Verso il sud (1978) which starred and was directed by Jack Nicholson. It was here that director John Landis noticed John and decided to cast him in his movie National Lampoon's Animal House (1978). John's minor role as the notorious, beer-swilling Bluto made it a box-office smash and the year's top grossing comedy. Despite appearing in only a dozen scenes, John's performance stole the movie, which portrays college fraternity shenanigans at a small college set in the year 1962.In 1979, John along with fellow SNL regular Dan Aykroyd quit the series to pursue movie projects. John and Dan Aykroyd appeared in minor roles in Steven Spielberg's financially unsuccessful 1941 - Allarme a Hollywood (1979) and, the following year, in John Landis' The Blues Brothers - I fratelli Blues (1980). Around this time, John's drug use began escalating. Cocaine, which was ubiquitous in show-business circles in the 1970's, became his drug of choice. After he first experimented with cocaine in the mid 1970s, John almost immediately became addicted to it. His frequent cocaine sniffing binges became a source of friction between him and Judy, whom he married in 1976.John's love for blues and soul music inspired the Blues Brothers. He and Aykroyd first appeared as Joliet Jake and Elwood Blues, a pair of white soul men dressed in black suits, skinny ties, fedora hats and Rayban sunglasses, as a warm-up act before the telecasts of Il Saturday Night Live (1975). Building on the success of their acts and the release of their album A Briefcase Full of Blues, John and Dan Aykroyd starred in the movie, which gave John a chance to act with his favorite musical heroes including Ray Charles, James Brown and Aretha Franklin.Although John's reputation for being an off-screen party animal is legendary, his generous side is less well known. Using some of his money, he bought his father a ranch outside San Diego for him to live. John helped set up some of his Chicago friends with their own businesses and even financially helped his younger brother, Jim Belushi, who followed his older brother's path to both Second City and Il Saturday Night Live (1975).In 1981, John appeared in the movie Chiamami Aquila (1981), playing a hard-nosed Chicago newspaperman who finds romance in Colorado with eagle expert Blair Brown. That same year, John and Dan Aykroyd appeared again in the movie I vicini di casa (1981), which gave them a chance to reverse roles, with John playing a straight-arrow family man whose life is turned upside down when a wild family man (Aykroyd) moves in next door.In January 1982, John began work on the screenplay for another movie to be titled Noble Rot. Also, John had checked into a bungalow at the Chateau Marmont, a popular celebrity hotel in Los Angeles. John's drug use had been steadily increasing for over a year now, which alarmed his wife and friends, but he continued to promise Judy that he would quit someday. On March 5, 1982, John Belushi was found dead in his hotel room at the age of 33. The local coroner gave the cause of death as a lethal injection of cocaine and heroin. Several years later, John's drug dealing/drug user companion during his final weeks, Cathy Smith, was tried and sentenced to three years in prison for supplying John with the drugs. Close friend James Taylor sang That Lonesome Road at a memorial service at Martha's Vineyard cemetery where John was buried.",
         "January 24, 1949 in Chicago, Illinois, USA",
         "24.01.1949",
         "Chicago, Illinois, USA",
         "March 5, 1982 in Hollywood, Los Angeles, California, USA  (acute cocaine and heroin intoxication)",
         "05.03.1982",
         "Hollywood, Los Angeles, California, USA  ",
         "acute cocaine and heroin intoxication",
         "Judith Belushi-Pisano  (31 December 1976 - 5 March 1982) (his death)",
         1,
         0,
         0,
         0
        ],
        [
         "nm0000005",
         "Ingmar Bergman",
         "Ernst Ingmar Bergman",
         179,
         "Ernst Ingmar Bergman was born July 14, 1918, the son of a priest. The film and T.V. series, Con le migliori intenzioni (1992) is biographical and shows the early marriage of his parents. The film 'Söndagsbarn' depicts a bicycle journey with his father. In the miniseries Conversazioni private (1996) is the trilogy closed. Here, as in 'Den Goda Viljan' Pernilla August play his mother. Note that all three movies are not always full true biographical stories. He began his career early with a puppet theatre which he, his sister and their friends played with. But he was the manager. Strictly professional he begun writing in 1941. He had written a play called 'Kaspers död' (A.K.A. 'Kaspers Death') which was produced the same year. It became his entrance into the movie business as Stina Bergman (not a close relative), from the company S.F. (Swedish Filmindustry), had seen the play and thought that there must be some dramatic talent in young Ingmar. His first job was to save other more famous writers' poor scripts. Under one of that script-saving works he remembered that he had written a novel about his last year as a student. He took the novel, did the save-poor-script job first, then wrote a screenplay on his own novel. When he went back to S.F., he delivered two scripts rather than one. The script was Spasimo (1944) and was the fist Bergman screenplay that was put into film (by Alf Sjöberg). It was also in that movie Bergman did his first professional film-director job. Because Alf Sjöberg was busy, Bergman got the order to shoot the last sequence of the film. Ingmar Bergman is the father of Daniel Bergman, director, and Mats Bergman, actor at the Swedish Royal Dramatic Theater. Ingmar Bergman was also C.E.O. of the same theatre between 1963-1966, where he hired almost every professional actor in Sweden. In 1976 he had a famous tax problem. Bergman had trusted other people to advise him on his finances, but it turned out to be very bad advice. Bergman had to leave the country immediately, and so he went to Germany. A few years later he returned to Sweden and made his last theatrical film Fanny & Alexander (1982) (A.K.A. 'Fanny and Alexander'). In later life he retired from movie directing, but still wrote scripts for film and T.V. and directed plays at the Swedish Royal Dramatic Theatre for many years. He died peacefully in his sleep on July 30, 2007.",
         "July 14, 1918 in Uppsala, Uppsala län, Sweden",
         "14.07.1918",
         "Uppsala, Uppsala län, Sweden",
         "July 30, 2007 in Fårö, Gotlands län, Sweden  (natural causes)",
         "30.07.2007",
         "Fårö, Gotlands län, Sweden  ",
         "natural causes",
         "Ingrid Bergman  (11 November 1971 - 20 May 1995) (her death) (1 child)Käbi Laretei  (1959 - 1969) (divorced) (1 child)Gun Grut  (1951 - 1959) (divorced) (1 child)Ellen Bergman  (22 July 1945 - 1950) (divorced) (4 children)Else Fisher  (25 March 1943 - 1945) (divorced) (1 child)",
         5,
         4,
         5,
         8
        ],
        [
         "nm0000006",
         "Ingrid Bergman",
         "Ingrid Bergman",
         178,
         "Ingrid Bergman was one of the greatest actresses from Hollywood's lamented Golden Era. Her natural and unpretentious beauty and her immense acting talent made her one of the most celebrated figures in the history of American cinema. Bergman is also one of the most Oscar-awarded actresses, tied with Meryl Streep, both second only to Katharine Hepburn.Ingrid Bergman was born on August 29, 1915 in Stockholm, Sweden, to a German mother, Frieda Henrietta (Adler), and a Swedish father, Justus Samuel Bergman, an artist and photographer. Her mother died when she was only two and her father died when she was 12. She went to live with an elderly uncle.The woman who would be one of the top stars in Hollywood in the 1940s had decided to become an actress after finishing her formal schooling. She had had a taste of acting at age 17 when she played an uncredited role of a girl standing in line in the Swedish film Landskamp (1932) in 1932 - not much of a beginning for a girl who would be known as Sweden's illustrious gift to Hollywood. Her parents died when she was just a girl and the uncle she lived with didn't want to stand in the way of Ingrid's dream. The next year she enrolled at the Royal Dramatic Theatre School in Stockholm but decided that stage acting was not for her. It would be three more years before she would have another chance at a film. When she did, it was more than just a bit part. The film in question was Munkbrogreven (1935), where she had a speaking part as Elsa Edlund. After several films that year that established her as a class actress, Ingrid appeared in La sposa scomparsa (1936) as Anita Hoffman. Luckily for her, American producer David O. Selznick saw it and sent a representative from Selznick International Pictures to gain rights to the story and have Ingrid signed to a contract. Once signed, she came to California and starred in United Artists' 1939 remake of her 1936 film, Intermezzo (1939), reprising her original role. The film was a hit and so was Ingrid.Her beauty was unlike anything the movie industry had seen before and her acting was superb. Hollywood was about to find out that they had the most versatile actress the industry had ever seen. Here was a woman who truly cared about the craft she represented. The public fell in love with her. Ingrid was under contract to go back to Sweden to film Solo una notte (1939) in 1939 and Juninatten (1940) in 1940. Back in the US she appeared in three films, all well-received. She made only one film in 1942, but it was the classic Casablanca (1942) opposite Humphrey Bogart.Ingrid was choosing her roles well. In 1943 she was nominated for an Academy Award for her role in Per chi suona la campana (1943), the only film she made that year. The critics and public didn't forget her when she made Angoscia (1944) the following year--her role of Paula Alquist got her the Oscar for Best Actress. In 1945 Ingrid played in Io ti salverò (1945), Saratoga (1945) and Le campane di Santa Maria (1945), for which she received her third Oscar nomination for her role of Sister Benedict. She made no films in 1947, but bounced back with a fourth nomination for Giovanna d'Arco (1948). In 1949 she went to Italy to film Stromboli (Terra di Dio) (1950), directed by Roberto Rossellini. She fell in love with him and left her husband, Dr. Peter Lindstrom, and daughter, Pia Lindström. America's moral guardians in the press and the pulpits were outraged. She was pregnant and decided to remain in Italy, where her son was born. In 1952 Ingrid had twins, Isotta and Isabella Rossellini, who became an outstanding actress in her own right, as did Pia.Ingrid continued to make films in Italy and finally returned to Hollywood in 1956 in the title role in Anastasia (1956), which was filmed in England. For this she won her second Academy Award. She had scarcely missed a beat. Ingrid continued to bounce between Europe and the US making movies, and fine ones at that. A film with Ingrid Bergman was sure to be a quality production. In her final big-screen performance in 1978's Sinfonia d'autunno (1978) she had her final Academy Award nomination. Though she didn't win, many felt it was the most sterling performance of her career. Ingrid retired, but not before she gave an outstanding performance in the mini-series Una donna di nome Golda (1982), a film about Israeli prime minister Golda Meir. For this she won an Emmy Award as Best Actress, but, unfortunately, she did not live to see the fruits of her labor.Ingrid died from cancer on August 29, 1982, her 67th birthday, in London, England.",
         "August 29, 1915 in Stockholm, Sweden",
         "29.08.1915",
         "Stockholm, Sweden",
         "August 29, 1982 in Chelsea, London, England, UK  (lymphoma complications following a breast cancer operation)",
         "29.08.1982",
         "Chelsea, London, England, UK  ",
         "lymphoma complications following a breast cancer operation",
         "Lars Schmidt  (21 December 1958 - 1978) (divorced)Roberto Rossellini  (24 May 1950 - 7 November 1957) (divorced) (3 children)Dr. Petter Aron Lindström  (10 July 1937 - 9 February 1950) (divorced) (1 child)",
         3,
         3,
         2,
         4
        ],
        [
         "nm0000007",
         "Humphrey Bogart",
         "Humphrey DeForest Bogart",
         173,
         "Humphrey DeForest Bogart was born in New York City, New York, to Maud Humphrey, a famed magazine illustrator and suffragette, and Belmont DeForest Bogart, a moderately wealthy surgeon (who was secretly addicted to opium). Bogart was educated at Trinity School, NYC, and was sent to Phillips Academy in Andover, Massachusetts, in preparation for medical studies at Yale. He was expelled from Phillips and joined the U.S. Naval Reserve. From 1920 to 1922, he managed a stage company owned by family friend William A. Brady (the father of actress Alice Brady), performing a variety of tasks at Brady's film studio in New York. He then began regular stage performances. Alexander Woollcott described his acting in a 1922 play as inadequate. In 1930, he gained a contract with Fox, his feature film debut in a ten-minute short, Broadway's Like That (1930), co-starring Ruth Etting and Joan Blondell. Fox released him after two years. After five years of stage and minor film roles, he had his breakthrough role in La foresta pietrificata (1936) from Warner Bros. He won the part over Edward G. Robinson only after the star, Leslie Howard, threatened Warner Bros. that he would quit unless Bogart was given the key role of Duke Mantee, which he had played in the Broadway production with Howard. The film was a major success and led to a long-term contract with Warner Bros. From 1936 to 1940, Bogart appeared in 28 films, usually as a gangster, twice in Westerns and even a horror film. His landmark year was 1941 (often capitalizing on parts George Raft had stupidly rejected) with roles in classics such as Una pallottola per Roy (1941) and as Sam Spade in one of his most fondly remembered films, Il mistero del falco (1941). These were followed by Casablanca (1942), Il grande sonno (1946), and L'isola di corallo (1948). Bogart, despite his erratic education, was incredibly well-read and he favored writers and intellectuals within his small circle of friends. In 1947, he joined wife Lauren Bacall and other actors protesting the House Un-American Activities Committee witch hunts. He also formed his own production company, and the next year made Il tesoro della Sierra Madre (1948). Bogie won the best actor Academy Award for La regina d'Africa (1951) and was nominated for Casablanca (1942) and as Captain Queeg in L'ammutinamento del Caine (1954), a film made when he was already seriously ill. He died in his sleep at his Hollywood home following surgeries and a battle with throat cancer.",
         "December 25, 1899 in New York City, New York, USA",
         "1899-12-25",
         "New York City, New York, USA",
         "January 14, 1957 in Los Angeles, California, USA  (esophageal cancer)",
         "14.01.1957",
         "Los Angeles, California, USA  ",
         "esophageal cancer",
         "Lauren Bacall  (21 May 1945 - 14 January 1957) (his death) (2 children)Mayo Methot  (21 August 1938 - 10 May 1945) (divorced)Mary Philips  (3 April 1928 - 11 August 1938) (divorced)Helen Menken  (20 May 1926 - 18 November 1927) (divorced)",
         4,
         3,
         1,
         2
        ],
        [
         "nm0000009",
         "Richard Burton",
         "Richard Walter Jenkins",
         178,
         "Probably best-remembered for his turbulent personal life with Elizabeth Taylor (whom he married twice), Richard Burton was nonetheless also regarded as an often brilliant British actor of the post-WWII period.Burton was born Richard Walter Jenkins in 1925 into a Welsh (Cymraeg)-speaking family in Pontrhydyfen to Edith Maude (Thomas) and Richard Walter Jenkins, a coal miner. The twelfth of thirteen children, his mother died while he was a toddler and his father later abandoned the family, leaving him to be raised by an elder sister, Cecilia. An avid fan of Shakespeare, poetry and reading, he once said home is where the books are. He received a scholarship to Oxford University to study acting and made his first stage appearance in 1944.His first film appearances were in routine British movies such as The Last Days of Dolwyn (1949), Tempesta a Liverpool (1950) and La quinta offensiva (1951). Then he started to appear in Hollywood movies such as Mia cugina Rachele (1952), La tunica (1953) and Alessandro il grande (1956), added to this he was also spending considerable time in stage productions, both in the UK and USA, often to splendid reviews. The late 1950s was an exciting and inventive time in UK cinema, often referred to as the British New Wave, and Burton was right in the thick of things, and showcased a sensational performance in I giovani arrabbiati (1959). He also appeared with a cavalcade of international stars in the World War II magnum opus Il giorno più lungo (1962), and then onto arguably his most notorious role as that of Marc Antony opposite Elizabeth Taylor in the hugely expensive Cleopatra (1963). This was, of course, the film that kick-started their fiery and passionate romance (plus two marriages), and the two of them appeared in several productions over the next few years including International Hotel (1963), Castelli di sabbia (1965), the dynamic Chi ha paura di Virginia Woolf? (1966) and La bisbetica domata (1967), as well as box office flops like I commedianti (1967). Burton did better when he was off on his own giving higher caliber performances, such as those in Becket e il suo re (1964), the film adaptation of the Tennessee Williams play La notte dell'iguana (1964), the brilliant espionage thriller La spia che venne dal freddo (1965) and alongside Clint Eastwood in the World War II action adventure film Dove osano le aquile (1968).His audience appeal began to decline somewhat by the end of the 1960s as fans turned to younger, more virile male stars, however Burton was superb in Anna dei mille giorni (1969) as King Henry VIII, he put on a reasonable show in the boring Attacco a Rommel (1971), was over the top in the awful Il mascalzone (1971), gave sleepwalking performances in Una faccia di c... (1972) and Barbablù (1972), and was wildly miscast in the ludicrous L'assassinio di Trotsky (1972).By the early 1970s, quality male lead roles were definitely going to other stars, and Burton found himself appearing in some movies of dubious quality, just to pay the bills and support family, including Divorzia lui divorzia lei (1973) (his last on-screen appearance with Taylor), L'uomo del clan (1974), Breve incontro (1974), Jackpot (1974) (which was never completed) and L'esorcista II - L'eretico (1977). However, he won another Oscar nomination for his excellent performance as a concerned psychiatrist in Equus (1977). He appeared with fellow acting icons Richard Harris and Roger Moore in I 4 dell'oca selvaggia (1978) about mercenaries in South Africa. While the film had a modest initial run, over the past thirty-five years it has picked up quite a cult following. His final performances were as the wily inquisitor O'Brien in the most recent film version of George Orwell's dystopian Orwell 1984 (1984), in which he won good reviews, and in the TV mini series Ellis Island (1984). He passed away on August 5, 1984 in Celigny, Switzerland from a cerebral hemorrhage.",
         "November 10, 1925 in Pontrhydyfen, Wales, UK",
         "10.11.1925",
         "Pontrhydyfen, Wales, UK",
         "August 5, 1984 in Céligny, Geneva, Switzerland  (cerebral hemorrhage)",
         "05.08.1984",
         "Céligny, Geneva, Switzerland  ",
         "cerebral hemorrhage",
         "Sally Burton  (3 July 1983 - 5 August 1984) (his death)Susan Hunt  (21 August 1976 - 27 February 1983) (divorced)Elizabeth Taylor  (10 October 1975 - 29 July 1976) (divorced)Elizabeth Taylor  (15 March 1964 - 26 June 1974) (divorced) (1 child)Sybil Williams  (5 February 1949 - 5 December 1963) (divorced) (2 children)",
         5,
         4,
         2,
         3
        ],
        [
         "nm0000010",
         "James Cagney",
         "James Francis Cagney",
         165,
         "One of Hollywood's preeminent male stars of all time, James Cagney was also an accomplished dancer and easily played light comedy. James Francis Cagney was born on the Lower East Side of Manhattan in New York City, to Carolyn (Nelson) and James Francis Cagney, Sr., who was a bartender and amateur boxer. Cagney was of Norwegian (from his maternal grandfather) and Irish descent. Ending three decades on the screen, he retired to his farm in Stanfordville, New York (some 77 miles/124 km. north of his New York City birthplace), after starring in Billy Wilder's Uno, due, tre! (1961). He emerged from retirement to star in the 1981 screen adaptation of E.L. Doctorow's novel Ragtime (Ragtime (1981)), in which he was reunited with his frequent co-star of the 1930s, Pat O'Brien, and which was his last theatrical film and O'Brien's as well). Cagney's final performance came in the title role of the made-for-TV movie Terrible Joe Moran (1984), in which he played opposite Art Carney.",
         "July 17, 1899 in New York City, New York, USA",
         "1899-07-17",
         "New York City, New York, USA",
         "March 30, 1986 in Stanfordville, New York, USA  (heart attack following illness from diabetes)",
         "30.03.1986",
         "Stanfordville, New York, USA  ",
         "heart attack following illness from diabetes",
         "Frances Cagney  (28 September 1922 - 30 March 1986) (his death) (2 children)",
         1,
         0,
         1,
         2
        ],
        [
         "nm0000011",
         "Gary Cooper",
         "Frank James Cooper",
         191,
         "Born to Alice Cooper and Charles Cooper. Gary attended school at Dunstable school England, Helena Montana and Grinnell College, Grinnell, Iowa (then called Iowa College). His first stage experience was during high school and college. Afterwards, he worked as an extra for one year before getting a part in a two-reeler by the independent producer Hans Tiesler . Eileen Sedgwick was his first leading lady. He then appeared in Fiore del deserto (1926) for United Artists before moving to Paramount. While there he appeared in a small part in Ali (1927), Cosetta (1927), and other films.",
         "May 7, 1901 in Helena, Montana, USA",
         "07.05.1901",
         "Helena, Montana, USA",
         "May 13, 1961 in Beverly Hills, Los Angeles, California, USA  (prostate cancer)",
         "13.05.1961",
         "Beverly Hills, Los Angeles, California, USA  ",
         "prostate cancer",
         "Sandra Shaw  (15 December 1933 - 13 May 1961) (his death) (1 child)",
         1,
         0,
         1,
         1
        ]
       ],
       "datasetInfos": [],
       "dbfsResultPath": null,
       "isJsonSchema": true,
       "metadata": {},
       "overflow": false,
       "plotOptions": {
        "customPlotOptions": {},
        "displayType": "table",
        "pivotAggregation": null,
        "pivotColumns": null,
        "xColumns": null,
        "yColumns": null
       },
       "removedWidgets": [],
       "schema": [
        {
         "metadata": "{}",
         "name": "imdb_name_id",
         "type": "\"string\""
        },
        {
         "metadata": "{}",
         "name": "name",
         "type": "\"string\""
        },
        {
         "metadata": "{}",
         "name": "birth_name",
         "type": "\"string\""
        },
        {
         "metadata": "{}",
         "name": "height",
         "type": "\"long\""
        },
        {
         "metadata": "{}",
         "name": "bio",
         "type": "\"string\""
        },
        {
         "metadata": "{}",
         "name": "birth_details",
         "type": "\"string\""
        },
        {
         "metadata": "{}",
         "name": "date_of_birth",
         "type": "\"string\""
        },
        {
         "metadata": "{}",
         "name": "place_of_birth",
         "type": "\"string\""
        },
        {
         "metadata": "{}",
         "name": "death_details",
         "type": "\"string\""
        },
        {
         "metadata": "{}",
         "name": "date_of_death",
         "type": "\"string\""
        },
        {
         "metadata": "{}",
         "name": "place_of_death",
         "type": "\"string\""
        },
        {
         "metadata": "{}",
         "name": "reason_of_death",
         "type": "\"string\""
        },
        {
         "metadata": "{}",
         "name": "spouses_string",
         "type": "\"string\""
        },
        {
         "metadata": "{}",
         "name": "spouses",
         "type": "\"long\""
        },
        {
         "metadata": "{}",
         "name": "divorces",
         "type": "\"long\""
        },
        {
         "metadata": "{}",
         "name": "spouses_with_children",
         "type": "\"long\""
        },
        {
         "metadata": "{}",
         "name": "children",
         "type": "\"long\""
        }
       ],
       "type": "table"
      }
     },
     "output_type": "display_data"
    }
   ],
   "source": [
    "filePath = \"dbfs:/FileStore/tables/Files/names.csv\"\n",
    "namesDf = spark.read.format(\"csv\")\\\n",
    "              .option(\"header\",\"true\")\\\n",
    "              .option(\"inferSchema\",\"true\")\\\n",
    "              .load(filePath)\n",
    "\n",
    "display(namesDf.head(10))"
   ]
  },
  {
   "cell_type": "code",
   "execution_count": 0,
   "metadata": {
    "application/vnd.databricks.v1+cell": {
     "cellMetadata": {
      "byteLimit": 2048000,
      "rowLimit": 10000
     },
     "inputWidgets": {},
     "nuid": "d6067bc3-7ea5-46d6-b678-0af7fc28dbc1",
     "showTitle": false,
     "tableResultSettingsMap": {},
     "title": ""
    }
   },
   "outputs": [
    {
     "output_type": "stream",
     "name": "stdout",
     "output_type": "stream",
     "text": [
      "+----------+-------------------+--------------------+\n|      name|     knownLanguages|          properties|\n+----------+-------------------+--------------------+\n|     James|      [Java, Scala]|{eye -> brown, ha...|\n|   Michael|[Spark, Java, null]|{eye -> null, hai...|\n|    Robert|         [CSharp, ]|{eye -> , hair ->...|\n|Washington|               null|                null|\n| Jefferson|             [1, 2]|                  {}|\n|  None_row|       [null, null]|                  {}|\n+----------+-------------------+--------------------+\n\n"
     ]
    }
   ],
   "source": [
    "arrayData = [\n",
    "        ('James',['Java','Scala'],{'hair':'black','eye':'brown'}),\n",
    "        ('Michael',['Spark','Java',None],{'hair':'brown','eye':None}),\n",
    "        ('Robert',['CSharp',''],{'hair':'red','eye':''}),\n",
    "        ('Washington',None,None),\n",
    "        ('Jefferson',['1','2'],{}),\n",
    "        ('None_row',[None, None],{})]\n",
    "\n",
    "df = spark.createDataFrame(data=arrayData, schema = ['name','knownLanguages','properties'])\n",
    "df.show()"
   ]
  },
  {
   "cell_type": "markdown",
   "metadata": {
    "application/vnd.databricks.v1+cell": {
     "cellMetadata": {},
     "inputWidgets": {},
     "nuid": "bb60cee4-b241-4434-a0e1-587b805b95c4",
     "showTitle": false,
     "tableResultSettingsMap": {},
     "title": ""
    }
   },
   "source": [
    "# Nulls"
   ]
  },
  {
   "cell_type": "markdown",
   "metadata": {
    "application/vnd.databricks.v1+cell": {
     "cellMetadata": {},
     "inputWidgets": {},
     "nuid": "9c8b6c5f-219a-4ba5-9445-68cfa937de55",
     "showTitle": false,
     "tableResultSettingsMap": {},
     "title": ""
    }
   },
   "source": [
    "## fill"
   ]
  },
  {
   "cell_type": "code",
   "execution_count": 0,
   "metadata": {
    "application/vnd.databricks.v1+cell": {
     "cellMetadata": {
      "byteLimit": 2048000,
      "rowLimit": 10000
     },
     "inputWidgets": {},
     "nuid": "0235b3b2-786b-4c45-8790-fcbf50ec5619",
     "showTitle": false,
     "tableResultSettingsMap": {},
     "title": ""
    }
   },
   "outputs": [
    {
     "output_type": "display_data",
     "data": {
      "text/html": [
       "<style scoped>\n",
       "  .table-result-container {\n",
       "    max-height: 300px;\n",
       "    overflow: auto;\n",
       "  }\n",
       "  table, th, td {\n",
       "    border: 1px solid black;\n",
       "    border-collapse: collapse;\n",
       "  }\n",
       "  th, td {\n",
       "    padding: 5px;\n",
       "  }\n",
       "  th {\n",
       "    text-align: left;\n",
       "  }\n",
       "</style><div class='table-result-container'><table class='table-result'><thead style='background-color: white'><tr><th>imdb_name_id</th><th>name</th><th>birth_name</th><th>height</th><th>bio</th><th>birth_details</th><th>date_of_birth</th><th>place_of_birth</th><th>death_details</th><th>date_of_death</th><th>place_of_death</th><th>reason_of_death</th><th>spouses_string</th><th>spouses</th><th>divorces</th><th>spouses_with_children</th><th>children</th></tr></thead><tbody><tr><td>nm0000001</td><td>Fred Astaire</td><td>Frederic Austerlitz Jr.</td><td>177</td><td>Fred Astaire was born in Omaha, Nebraska, to Johanna (Geilus) and Fritz Austerlitz, a brewer. Fred entered show business at age 5. He was successful both in vaudeville and on Broadway in partnership with his sister, Adele Astaire. After Adele retired to marry in 1932, Astaire headed to Hollywood. Signed to RKO, he was loaned to MGM to appear in La danza di Venere (1933) before starting work on RKO's Carioca (1933). In the latter film, he began his highly successful partnership with Ginger Rogers, with whom he danced in 9 RKO pictures. During these years, he was also active in recording and radio. On film, Astaire later appeared opposite a number of partners through various studios. After a temporary retirement in 1945-7, during which he opened Fred Astaire Dance Studios, Astaire returned to film to star in more musicals through 1957. He subsequently performed a number of straight dramatic roles in film and TV.</td><td>May 10, 1899 in Omaha, Nebraska, USA</td><td>1899-05-10</td><td>Omaha, Nebraska, USA</td><td>June 22, 1987 in Los Angeles, California, USA  (pneumonia)</td><td>22.06.1987</td><td>Los Angeles, California, USA  </td><td>pneumonia</td><td>Robyn Smith  (27 June 1980 - 22 June 1987) (his death)Phyllis Livingston Potter  (12 July 1933 - 13 September 1954) (her death) (2 children)</td><td>2</td><td>0</td><td>1</td><td>2</td></tr><tr><td>nm0000002</td><td>Lauren Bacall</td><td>Betty Joan Perske</td><td>174</td><td>Lauren Bacall was born Betty Joan Perske on September 16, 1924, in New York City. She was the daughter of Natalie Weinstein-Bacal, a Romanian Jewish immigrant, and William Perske, who was born in New Jersey, to Polish Jewish parents. Her family was middle-class, with her father working as a salesman and her mother as a secretary. They divorced when she was five and she rarely saw her father after that.As a school girl, she originally wanted to be a dancer, but later switched gears to head into acting. She studied at the American Academy of Dramatic Arts in New York, after attending She was educated at Highland Manor, a private boarding school in Tarrytown, New York (through the generosity of wealthy uncles), and then at Julia Richman High School, which enabled her to get her feet wet in some off-Broadway productions.Out of school, she entered modeling and, because of her beauty, appeared on the cover of Harper's Bazaar, one of the most popular magazines in the US. The wife of famed director Howard Hawks spotted the picture in the publication and arranged with her husband to have Lauren take a screen test. As a result, which was entirely positive, she was given the part of Marie Browning in Acque del Sud (1944), a thriller opposite Humphrey Bogart, when she was just 19 years old. This not only set the tone for a fabulous career but also one of Hollywood's greatest love stories (she married Bogart in 1945). It was also the first of several Bogie-Bacall films.After 1945's L'agente confidenziale (1945), Lauren received second billing in Il grande sonno (1946) with Bogart. The mystery, in the role of Vivian Sternwood Rutledge, was a resounding success. Although she was making one film a year, each production would be eagerly awaited by the public. In 1947, again with her husband, Lauren starred in the thriller La fuga (1947). The film kept movie patrons on the edge of their seats. The following year, she starred with Bogart, Edward G. Robinson, and Lionel Barrymore in L'isola di corallo (1948). The crime drama was even more of a nail biter than her previous film.In 1950, Lauren starred in Le foglie d'oro (1950), a drama set in 1894. It was a film of note because she appeared without her husband - her co-star was Gary Cooper. In 1953, Lauren appeared in her first comedy as Schatze Page in Come sposare un milionario (1953). The film, with co-stars Marilyn Monroe and Betty Grable, was a smash hit all across the theaters of America.After filming La donna del destino (1957), which was released in 1957, Humphrey Bogart died on January 14 from throat cancer. Devastated at being a widow, Lauren returned to the silver screen with Dono d'amore (1958) in 1958 opposite Robert Stack. The production turned out to be a big disappointment. Undaunted, Lauren moved back to New York City and appeared in several Broadway plays to huge critical acclaim. She was enjoying acting before live audiences and the audiences in turn enjoyed her fine performances.Lauren was away from the big screen for five years, but she returned in 1964 to appear in Elettroshock (1964) and Donne v'insegno come si seduce un uomo (1964). The latter film was a comedy starring Henry Fonda and Tony Curtis. In 1966, Lauren starred in Detective's Story (1966) with Paul Newman and Julie Harris, which was one of former's signature films.Alternating her time between films and the stage, Lauren returned in 1974's Assassinio sull'Orient Express (1974). The film, based on Agatha Christie's best-selling book was a huge hit. It also garnered Ingrid Bergman her third Oscar. Actually, the huge star-studded cast helped to ensure its success. Two years later, in 1976, Lauren co-starred with John Wayne in Il pistolero (1976). The film was Wayne's last - he died from cancer in 1979.In 1981, she played an actress being stalked by a crazed admirer in Un'ombra nel buio (1981). The thriller was absolutely fascinating with Lauren in the lead role. After that production, Lauren was away from films again, this time for seven years. In the interim, she again appeared on the stages of Broadway. When she returned, it was for the filming of 1988's Mr. North (1988). After 1990's Misery non deve morire (1990) and several made for television films, Lauren appeared in 1996's Fuga dalla Casa Bianca (1996), a comedy romp with Jack Lemmon and James Garner as two ex-presidents and their escapades.Despite her age and failing health, she made a small-scale comeback in the English-language dub of Hayao Miyazaki's Il castello errante di Howl (2004) (Howl's Moving Castle, based on the young-adult novel by Diana Wynne Jones) as the Witch of the Waste, but acting endeavors for the beloved actress became increasingly rare. Lauren Bacall died on 12 August 2014, five weeks short of her 90th birthday.</td><td>September 16, 1924 in The Bronx, New York City, New York, USA</td><td>16.09.1924</td><td>The Bronx, New York City, New York, USA</td><td>August 12, 2014 in New York City, New York, USA  (stroke)</td><td>12.08.2014</td><td>New York City, New York, USA  </td><td>stroke</td><td>Jason Robards  (4 July 1961 - 10 September 1969) (divorced) (1 child)Humphrey Bogart  (21 May 1945 - 14 January 1957) (his death) (2 children)</td><td>2</td><td>1</td><td>2</td><td>3</td></tr><tr><td>nm0000003</td><td>Brigitte Bardot</td><td>Brigitte Bardot</td><td>166</td><td>Brigitte Bardot was born on September 28, 1934 in Paris, France. Her father had an engineering degree and worked with his father in the family business. Brigitte's mother encouraged her daughter to take up music and dance, and she proved to be very adept at it. By the time she was 15, Brigitte was trying a modeling career, and found herself in the French magazine Elle. Her incredible beauty readily apparent, Brigitte next tried films. In 1952, she appeared on screen for the first time as Javotte Lemoine in Le trou normand (1952). Two more films followed and it was also the same year she married Roger Vadim (the union lasted 3½ years). Capitalizing on her success in French films, Brigitte made her first American production in Atto d'amore (1953) with Kirk Douglas, but she continued to make films in France. Brigitte's explosive sexuality took the United States by storm, and the effect she had on millions of American men who had not seen a woman like her in a long, long time--if ever--was electric. Rise to the phrase sex kitten and fascination of her in the United States consisted of magazines photographs and dubbed over French films--good, bad or indifferent, her films drew audiences--mainly men--into theaters like lemmings. In 1965, she appeared as herself in the American-made Erasmo il lentigginoso (1965) with James Stewart (she only appeared in one scene). Just before she turned 40, Brigitte retired from movies after filming Colinot l'alzasottane (1973). She prefers life outside of stardom. While it enabled her to become internationally famous, it also carried with it annoyances. It was not anything for her to have fans enter her house or wander around the grounds of her home in the hopes of getting a glimpse of her or to take something that belonged to her. Paparazzi constantly hounded her with their cameras. She has been so soft-hearted that some people even have taken advantage of her generosity. After her life in the spotlight, Brigitte went on to become a leading spokesperson for animal rights and started the Foundation Brigitte Bardot dedicated solely to that cause. Her work in that realm is, perhaps, far greater than any film she could have made. Brigitte has been married to Bernard d'Ormale since 1992 and they reside in St. Tropez with their nearly 50 pets.</td><td>September 28, 1934 in Paris, France</td><td>28.09.1934</td><td>Paris, France</td><td>Not Null now</td><td>Not Null now</td><td>Not Null now</td><td>Not Null now</td><td>Bernard d'Ormale  (16 August 1992 - present)Gunter Sachs  (14 July 1966 - 3 July 1969) (divorced)Jacques Charrier  (18 June 1959 - 20 November 1962) (divorced) (1 child)Roger Vadim  (20 December 1952 - 6 December 1957) (divorced)</td><td>4</td><td>3</td><td>1</td><td>1</td></tr><tr><td>nm0000004</td><td>John Belushi</td><td>John Adam Belushi</td><td>170</td><td>John Belushi was born in Chicago, Illinois, USA, on January 24, 1949, to Agnes Demetri (Samaras) and Adam Anastos Belushi, a restaurant owner. His father was an Albanian immigrant, from Qytezë, and his mother was also of Albanian descent. He grew up in Wheaton, where the family moved when he was six. Though a young hellion in grade school, John became the perfect all-American boy during his high school years where he was co-captain of the Wheaton Central High School football team and was elected homecoming king his senior year. He also developed an interest in acting and appeared in the high school variety show. Encouraged by his drama teacher, John decided to put aside his plans to become a football coach to pursue a career in acting.After graduation in 1967, John performed in summer stock in rural Indiana in a variety of roles from Cardinal Wolsey in Anne of a Thousand Days to a comic detective in Ten Little Indians. In the fall of his freshman year at the University of Wisconsin at Whitewater, John changed his image into a bad-boy appearance by growing his hair long and began to have problems with discipline and structure of attending classes.Dropping out of Wisconsin, John spent the next two years at the College of DuPage, a junior college a few miles from his parents' Wheaton home, where his father began persuading him to become a partner in his restaurant, but John still preferred acting. While attending DuPage, John helped found the West Compass Players, an improv comedy troupe patterned after Chicago's famous Second City ensemble.In 1971, John made the leap to Second City itself where he performed in various on-stage comic performances with others, who included Harold Ramis and Joe Flaherty. John loved his life at Second City where he performed six nights a week, perfecting the physical gonzo style of comedy he later made famous.A year later, John and his live-in girlfriend from his high school years, Judith Belushi-Pisano, moved to New York because John had joined the cast of National Lampoon's Lemmings, an off-Broadway rock musical revue that was originally booked for a six-week run but played to full crowds for nearly 10 months.In 1973, John was hired as a writer for the syndicated National Lampoon's Radio Hour which became the National Lampoon Show in 1975. John's big break came that same year when he joined the ground-breaking TV variety series Il Saturday Night Live (1975) which made him a star. The unpredictable, aggressively physical style of humor that he began on Second City flowered on SNL.In 1978, while still working on Il Saturday Night Live (1975), John appeared in the movie Verso il sud (1978) which starred and was directed by Jack Nicholson. It was here that director John Landis noticed John and decided to cast him in his movie National Lampoon's Animal House (1978). John's minor role as the notorious, beer-swilling Bluto made it a box-office smash and the year's top grossing comedy. Despite appearing in only a dozen scenes, John's performance stole the movie, which portrays college fraternity shenanigans at a small college set in the year 1962.In 1979, John along with fellow SNL regular Dan Aykroyd quit the series to pursue movie projects. John and Dan Aykroyd appeared in minor roles in Steven Spielberg's financially unsuccessful 1941 - Allarme a Hollywood (1979) and, the following year, in John Landis' The Blues Brothers - I fratelli Blues (1980). Around this time, John's drug use began escalating. Cocaine, which was ubiquitous in show-business circles in the 1970's, became his drug of choice. After he first experimented with cocaine in the mid 1970s, John almost immediately became addicted to it. His frequent cocaine sniffing binges became a source of friction between him and Judy, whom he married in 1976.John's love for blues and soul music inspired the Blues Brothers. He and Aykroyd first appeared as Joliet Jake and Elwood Blues, a pair of white soul men dressed in black suits, skinny ties, fedora hats and Rayban sunglasses, as a warm-up act before the telecasts of Il Saturday Night Live (1975). Building on the success of their acts and the release of their album A Briefcase Full of Blues, John and Dan Aykroyd starred in the movie, which gave John a chance to act with his favorite musical heroes including Ray Charles, James Brown and Aretha Franklin.Although John's reputation for being an off-screen party animal is legendary, his generous side is less well known. Using some of his money, he bought his father a ranch outside San Diego for him to live. John helped set up some of his Chicago friends with their own businesses and even financially helped his younger brother, Jim Belushi, who followed his older brother's path to both Second City and Il Saturday Night Live (1975).In 1981, John appeared in the movie Chiamami Aquila (1981), playing a hard-nosed Chicago newspaperman who finds romance in Colorado with eagle expert Blair Brown. That same year, John and Dan Aykroyd appeared again in the movie I vicini di casa (1981), which gave them a chance to reverse roles, with John playing a straight-arrow family man whose life is turned upside down when a wild family man (Aykroyd) moves in next door.In January 1982, John began work on the screenplay for another movie to be titled Noble Rot. Also, John had checked into a bungalow at the Chateau Marmont, a popular celebrity hotel in Los Angeles. John's drug use had been steadily increasing for over a year now, which alarmed his wife and friends, but he continued to promise Judy that he would quit someday. On March 5, 1982, John Belushi was found dead in his hotel room at the age of 33. The local coroner gave the cause of death as a lethal injection of cocaine and heroin. Several years later, John's drug dealing/drug user companion during his final weeks, Cathy Smith, was tried and sentenced to three years in prison for supplying John with the drugs. Close friend James Taylor sang That Lonesome Road at a memorial service at Martha's Vineyard cemetery where John was buried.</td><td>January 24, 1949 in Chicago, Illinois, USA</td><td>24.01.1949</td><td>Chicago, Illinois, USA</td><td>March 5, 1982 in Hollywood, Los Angeles, California, USA  (acute cocaine and heroin intoxication)</td><td>05.03.1982</td><td>Hollywood, Los Angeles, California, USA  </td><td>acute cocaine and heroin intoxication</td><td>Judith Belushi-Pisano  (31 December 1976 - 5 March 1982) (his death)</td><td>1</td><td>0</td><td>0</td><td>0</td></tr><tr><td>nm0000005</td><td>Ingmar Bergman</td><td>Ernst Ingmar Bergman</td><td>179</td><td>Ernst Ingmar Bergman was born July 14, 1918, the son of a priest. The film and T.V. series, Con le migliori intenzioni (1992) is biographical and shows the early marriage of his parents. The film 'Söndagsbarn' depicts a bicycle journey with his father. In the miniseries Conversazioni private (1996) is the trilogy closed. Here, as in 'Den Goda Viljan' Pernilla August play his mother. Note that all three movies are not always full true biographical stories. He began his career early with a puppet theatre which he, his sister and their friends played with. But he was the manager. Strictly professional he begun writing in 1941. He had written a play called 'Kaspers död' (A.K.A. 'Kaspers Death') which was produced the same year. It became his entrance into the movie business as Stina Bergman (not a close relative), from the company S.F. (Swedish Filmindustry), had seen the play and thought that there must be some dramatic talent in young Ingmar. His first job was to save other more famous writers' poor scripts. Under one of that script-saving works he remembered that he had written a novel about his last year as a student. He took the novel, did the save-poor-script job first, then wrote a screenplay on his own novel. When he went back to S.F., he delivered two scripts rather than one. The script was Spasimo (1944) and was the fist Bergman screenplay that was put into film (by Alf Sjöberg). It was also in that movie Bergman did his first professional film-director job. Because Alf Sjöberg was busy, Bergman got the order to shoot the last sequence of the film. Ingmar Bergman is the father of Daniel Bergman, director, and Mats Bergman, actor at the Swedish Royal Dramatic Theater. Ingmar Bergman was also C.E.O. of the same theatre between 1963-1966, where he hired almost every professional actor in Sweden. In 1976 he had a famous tax problem. Bergman had trusted other people to advise him on his finances, but it turned out to be very bad advice. Bergman had to leave the country immediately, and so he went to Germany. A few years later he returned to Sweden and made his last theatrical film Fanny & Alexander (1982) (A.K.A. 'Fanny and Alexander'). In later life he retired from movie directing, but still wrote scripts for film and T.V. and directed plays at the Swedish Royal Dramatic Theatre for many years. He died peacefully in his sleep on July 30, 2007.</td><td>July 14, 1918 in Uppsala, Uppsala län, Sweden</td><td>14.07.1918</td><td>Uppsala, Uppsala län, Sweden</td><td>July 30, 2007 in Fårö, Gotlands län, Sweden  (natural causes)</td><td>30.07.2007</td><td>Fårö, Gotlands län, Sweden  </td><td>natural causes</td><td>Ingrid Bergman  (11 November 1971 - 20 May 1995) (her death) (1 child)Käbi Laretei  (1959 - 1969) (divorced) (1 child)Gun Grut  (1951 - 1959) (divorced) (1 child)Ellen Bergman  (22 July 1945 - 1950) (divorced) (4 children)Else Fisher  (25 March 1943 - 1945) (divorced) (1 child)</td><td>5</td><td>4</td><td>5</td><td>8</td></tr><tr><td>nm0000006</td><td>Ingrid Bergman</td><td>Ingrid Bergman</td><td>178</td><td>Ingrid Bergman was one of the greatest actresses from Hollywood's lamented Golden Era. Her natural and unpretentious beauty and her immense acting talent made her one of the most celebrated figures in the history of American cinema. Bergman is also one of the most Oscar-awarded actresses, tied with Meryl Streep, both second only to Katharine Hepburn.Ingrid Bergman was born on August 29, 1915 in Stockholm, Sweden, to a German mother, Frieda Henrietta (Adler), and a Swedish father, Justus Samuel Bergman, an artist and photographer. Her mother died when she was only two and her father died when she was 12. She went to live with an elderly uncle.The woman who would be one of the top stars in Hollywood in the 1940s had decided to become an actress after finishing her formal schooling. She had had a taste of acting at age 17 when she played an uncredited role of a girl standing in line in the Swedish film Landskamp (1932) in 1932 - not much of a beginning for a girl who would be known as Sweden's illustrious gift to Hollywood. Her parents died when she was just a girl and the uncle she lived with didn't want to stand in the way of Ingrid's dream. The next year she enrolled at the Royal Dramatic Theatre School in Stockholm but decided that stage acting was not for her. It would be three more years before she would have another chance at a film. When she did, it was more than just a bit part. The film in question was Munkbrogreven (1935), where she had a speaking part as Elsa Edlund. After several films that year that established her as a class actress, Ingrid appeared in La sposa scomparsa (1936) as Anita Hoffman. Luckily for her, American producer David O. Selznick saw it and sent a representative from Selznick International Pictures to gain rights to the story and have Ingrid signed to a contract. Once signed, she came to California and starred in United Artists' 1939 remake of her 1936 film, Intermezzo (1939), reprising her original role. The film was a hit and so was Ingrid.Her beauty was unlike anything the movie industry had seen before and her acting was superb. Hollywood was about to find out that they had the most versatile actress the industry had ever seen. Here was a woman who truly cared about the craft she represented. The public fell in love with her. Ingrid was under contract to go back to Sweden to film Solo una notte (1939) in 1939 and Juninatten (1940) in 1940. Back in the US she appeared in three films, all well-received. She made only one film in 1942, but it was the classic Casablanca (1942) opposite Humphrey Bogart.Ingrid was choosing her roles well. In 1943 she was nominated for an Academy Award for her role in Per chi suona la campana (1943), the only film she made that year. The critics and public didn't forget her when she made Angoscia (1944) the following year--her role of Paula Alquist got her the Oscar for Best Actress. In 1945 Ingrid played in Io ti salverò (1945), Saratoga (1945) and Le campane di Santa Maria (1945), for which she received her third Oscar nomination for her role of Sister Benedict. She made no films in 1947, but bounced back with a fourth nomination for Giovanna d'Arco (1948). In 1949 she went to Italy to film Stromboli (Terra di Dio) (1950), directed by Roberto Rossellini. She fell in love with him and left her husband, Dr. Peter Lindstrom, and daughter, Pia Lindström. America's moral guardians in the press and the pulpits were outraged. She was pregnant and decided to remain in Italy, where her son was born. In 1952 Ingrid had twins, Isotta and Isabella Rossellini, who became an outstanding actress in her own right, as did Pia.Ingrid continued to make films in Italy and finally returned to Hollywood in 1956 in the title role in Anastasia (1956), which was filmed in England. For this she won her second Academy Award. She had scarcely missed a beat. Ingrid continued to bounce between Europe and the US making movies, and fine ones at that. A film with Ingrid Bergman was sure to be a quality production. In her final big-screen performance in 1978's Sinfonia d'autunno (1978) she had her final Academy Award nomination. Though she didn't win, many felt it was the most sterling performance of her career. Ingrid retired, but not before she gave an outstanding performance in the mini-series Una donna di nome Golda (1982), a film about Israeli prime minister Golda Meir. For this she won an Emmy Award as Best Actress, but, unfortunately, she did not live to see the fruits of her labor.Ingrid died from cancer on August 29, 1982, her 67th birthday, in London, England.</td><td>August 29, 1915 in Stockholm, Sweden</td><td>29.08.1915</td><td>Stockholm, Sweden</td><td>August 29, 1982 in Chelsea, London, England, UK  (lymphoma complications following a breast cancer operation)</td><td>29.08.1982</td><td>Chelsea, London, England, UK  </td><td>lymphoma complications following a breast cancer operation</td><td>Lars Schmidt  (21 December 1958 - 1978) (divorced)Roberto Rossellini  (24 May 1950 - 7 November 1957) (divorced) (3 children)Dr. Petter Aron Lindström  (10 July 1937 - 9 February 1950) (divorced) (1 child)</td><td>3</td><td>3</td><td>2</td><td>4</td></tr><tr><td>nm0000007</td><td>Humphrey Bogart</td><td>Humphrey DeForest Bogart</td><td>173</td><td>Humphrey DeForest Bogart was born in New York City, New York, to Maud Humphrey, a famed magazine illustrator and suffragette, and Belmont DeForest Bogart, a moderately wealthy surgeon (who was secretly addicted to opium). Bogart was educated at Trinity School, NYC, and was sent to Phillips Academy in Andover, Massachusetts, in preparation for medical studies at Yale. He was expelled from Phillips and joined the U.S. Naval Reserve. From 1920 to 1922, he managed a stage company owned by family friend William A. Brady (the father of actress Alice Brady), performing a variety of tasks at Brady's film studio in New York. He then began regular stage performances. Alexander Woollcott described his acting in a 1922 play as inadequate. In 1930, he gained a contract with Fox, his feature film debut in a ten-minute short, Broadway's Like That (1930), co-starring Ruth Etting and Joan Blondell. Fox released him after two years. After five years of stage and minor film roles, he had his breakthrough role in La foresta pietrificata (1936) from Warner Bros. He won the part over Edward G. Robinson only after the star, Leslie Howard, threatened Warner Bros. that he would quit unless Bogart was given the key role of Duke Mantee, which he had played in the Broadway production with Howard. The film was a major success and led to a long-term contract with Warner Bros. From 1936 to 1940, Bogart appeared in 28 films, usually as a gangster, twice in Westerns and even a horror film. His landmark year was 1941 (often capitalizing on parts George Raft had stupidly rejected) with roles in classics such as Una pallottola per Roy (1941) and as Sam Spade in one of his most fondly remembered films, Il mistero del falco (1941). These were followed by Casablanca (1942), Il grande sonno (1946), and L'isola di corallo (1948). Bogart, despite his erratic education, was incredibly well-read and he favored writers and intellectuals within his small circle of friends. In 1947, he joined wife Lauren Bacall and other actors protesting the House Un-American Activities Committee witch hunts. He also formed his own production company, and the next year made Il tesoro della Sierra Madre (1948). Bogie won the best actor Academy Award for La regina d'Africa (1951) and was nominated for Casablanca (1942) and as Captain Queeg in L'ammutinamento del Caine (1954), a film made when he was already seriously ill. He died in his sleep at his Hollywood home following surgeries and a battle with throat cancer.</td><td>December 25, 1899 in New York City, New York, USA</td><td>1899-12-25</td><td>New York City, New York, USA</td><td>January 14, 1957 in Los Angeles, California, USA  (esophageal cancer)</td><td>14.01.1957</td><td>Los Angeles, California, USA  </td><td>esophageal cancer</td><td>Lauren Bacall  (21 May 1945 - 14 January 1957) (his death) (2 children)Mayo Methot  (21 August 1938 - 10 May 1945) (divorced)Mary Philips  (3 April 1928 - 11 August 1938) (divorced)Helen Menken  (20 May 1926 - 18 November 1927) (divorced)</td><td>4</td><td>3</td><td>1</td><td>2</td></tr><tr><td>nm0000009</td><td>Richard Burton</td><td>Richard Walter Jenkins</td><td>178</td><td>Probably best-remembered for his turbulent personal life with Elizabeth Taylor (whom he married twice), Richard Burton was nonetheless also regarded as an often brilliant British actor of the post-WWII period.Burton was born Richard Walter Jenkins in 1925 into a Welsh (Cymraeg)-speaking family in Pontrhydyfen to Edith Maude (Thomas) and Richard Walter Jenkins, a coal miner. The twelfth of thirteen children, his mother died while he was a toddler and his father later abandoned the family, leaving him to be raised by an elder sister, Cecilia. An avid fan of Shakespeare, poetry and reading, he once said home is where the books are. He received a scholarship to Oxford University to study acting and made his first stage appearance in 1944.His first film appearances were in routine British movies such as The Last Days of Dolwyn (1949), Tempesta a Liverpool (1950) and La quinta offensiva (1951). Then he started to appear in Hollywood movies such as Mia cugina Rachele (1952), La tunica (1953) and Alessandro il grande (1956), added to this he was also spending considerable time in stage productions, both in the UK and USA, often to splendid reviews. The late 1950s was an exciting and inventive time in UK cinema, often referred to as the British New Wave, and Burton was right in the thick of things, and showcased a sensational performance in I giovani arrabbiati (1959). He also appeared with a cavalcade of international stars in the World War II magnum opus Il giorno più lungo (1962), and then onto arguably his most notorious role as that of Marc Antony opposite Elizabeth Taylor in the hugely expensive Cleopatra (1963). This was, of course, the film that kick-started their fiery and passionate romance (plus two marriages), and the two of them appeared in several productions over the next few years including International Hotel (1963), Castelli di sabbia (1965), the dynamic Chi ha paura di Virginia Woolf? (1966) and La bisbetica domata (1967), as well as box office flops like I commedianti (1967). Burton did better when he was off on his own giving higher caliber performances, such as those in Becket e il suo re (1964), the film adaptation of the Tennessee Williams play La notte dell'iguana (1964), the brilliant espionage thriller La spia che venne dal freddo (1965) and alongside Clint Eastwood in the World War II action adventure film Dove osano le aquile (1968).His audience appeal began to decline somewhat by the end of the 1960s as fans turned to younger, more virile male stars, however Burton was superb in Anna dei mille giorni (1969) as King Henry VIII, he put on a reasonable show in the boring Attacco a Rommel (1971), was over the top in the awful Il mascalzone (1971), gave sleepwalking performances in Una faccia di c... (1972) and Barbablù (1972), and was wildly miscast in the ludicrous L'assassinio di Trotsky (1972).By the early 1970s, quality male lead roles were definitely going to other stars, and Burton found himself appearing in some movies of dubious quality, just to pay the bills and support family, including Divorzia lui divorzia lei (1973) (his last on-screen appearance with Taylor), L'uomo del clan (1974), Breve incontro (1974), Jackpot (1974) (which was never completed) and L'esorcista II - L'eretico (1977). However, he won another Oscar nomination for his excellent performance as a concerned psychiatrist in Equus (1977). He appeared with fellow acting icons Richard Harris and Roger Moore in I 4 dell'oca selvaggia (1978) about mercenaries in South Africa. While the film had a modest initial run, over the past thirty-five years it has picked up quite a cult following. His final performances were as the wily inquisitor O'Brien in the most recent film version of George Orwell's dystopian Orwell 1984 (1984), in which he won good reviews, and in the TV mini series Ellis Island (1984). He passed away on August 5, 1984 in Celigny, Switzerland from a cerebral hemorrhage.</td><td>November 10, 1925 in Pontrhydyfen, Wales, UK</td><td>10.11.1925</td><td>Pontrhydyfen, Wales, UK</td><td>August 5, 1984 in Céligny, Geneva, Switzerland  (cerebral hemorrhage)</td><td>05.08.1984</td><td>Céligny, Geneva, Switzerland  </td><td>cerebral hemorrhage</td><td>Sally Burton  (3 July 1983 - 5 August 1984) (his death)Susan Hunt  (21 August 1976 - 27 February 1983) (divorced)Elizabeth Taylor  (10 October 1975 - 29 July 1976) (divorced)Elizabeth Taylor  (15 March 1964 - 26 June 1974) (divorced) (1 child)Sybil Williams  (5 February 1949 - 5 December 1963) (divorced) (2 children)</td><td>5</td><td>4</td><td>2</td><td>3</td></tr><tr><td>nm0000010</td><td>James Cagney</td><td>James Francis Cagney</td><td>165</td><td>One of Hollywood's preeminent male stars of all time, James Cagney was also an accomplished dancer and easily played light comedy. James Francis Cagney was born on the Lower East Side of Manhattan in New York City, to Carolyn (Nelson) and James Francis Cagney, Sr., who was a bartender and amateur boxer. Cagney was of Norwegian (from his maternal grandfather) and Irish descent. Ending three decades on the screen, he retired to his farm in Stanfordville, New York (some 77 miles/124 km. north of his New York City birthplace), after starring in Billy Wilder's Uno, due, tre! (1961). He emerged from retirement to star in the 1981 screen adaptation of E.L. Doctorow's novel Ragtime (Ragtime (1981)), in which he was reunited with his frequent co-star of the 1930s, Pat O'Brien, and which was his last theatrical film and O'Brien's as well). Cagney's final performance came in the title role of the made-for-TV movie Terrible Joe Moran (1984), in which he played opposite Art Carney.</td><td>July 17, 1899 in New York City, New York, USA</td><td>1899-07-17</td><td>New York City, New York, USA</td><td>March 30, 1986 in Stanfordville, New York, USA  (heart attack following illness from diabetes)</td><td>30.03.1986</td><td>Stanfordville, New York, USA  </td><td>heart attack following illness from diabetes</td><td>Frances Cagney  (28 September 1922 - 30 March 1986) (his death) (2 children)</td><td>1</td><td>0</td><td>1</td><td>2</td></tr><tr><td>nm0000011</td><td>Gary Cooper</td><td>Frank James Cooper</td><td>191</td><td>Born to Alice Cooper and Charles Cooper. Gary attended school at Dunstable school England, Helena Montana and Grinnell College, Grinnell, Iowa (then called Iowa College). His first stage experience was during high school and college. Afterwards, he worked as an extra for one year before getting a part in a two-reeler by the independent producer Hans Tiesler . Eileen Sedgwick was his first leading lady. He then appeared in Fiore del deserto (1926) for United Artists before moving to Paramount. While there he appeared in a small part in Ali (1927), Cosetta (1927), and other films.</td><td>May 7, 1901 in Helena, Montana, USA</td><td>07.05.1901</td><td>Helena, Montana, USA</td><td>May 13, 1961 in Beverly Hills, Los Angeles, California, USA  (prostate cancer)</td><td>13.05.1961</td><td>Beverly Hills, Los Angeles, California, USA  </td><td>prostate cancer</td><td>Sandra Shaw  (15 December 1933 - 13 May 1961) (his death) (1 child)</td><td>1</td><td>0</td><td>1</td><td>1</td></tr></tbody></table></div>"
      ]
     },
     "metadata": {
      "application/vnd.databricks.v1+output": {
       "addedWidgets": {},
       "aggData": [],
       "aggError": "",
       "aggOverflow": false,
       "aggSchema": [],
       "aggSeriesLimitReached": false,
       "aggType": "",
       "arguments": {},
       "columnCustomDisplayInfos": {},
       "data": [
        [
         "nm0000001",
         "Fred Astaire",
         "Frederic Austerlitz Jr.",
         177,
         "Fred Astaire was born in Omaha, Nebraska, to Johanna (Geilus) and Fritz Austerlitz, a brewer. Fred entered show business at age 5. He was successful both in vaudeville and on Broadway in partnership with his sister, Adele Astaire. After Adele retired to marry in 1932, Astaire headed to Hollywood. Signed to RKO, he was loaned to MGM to appear in La danza di Venere (1933) before starting work on RKO's Carioca (1933). In the latter film, he began his highly successful partnership with Ginger Rogers, with whom he danced in 9 RKO pictures. During these years, he was also active in recording and radio. On film, Astaire later appeared opposite a number of partners through various studios. After a temporary retirement in 1945-7, during which he opened Fred Astaire Dance Studios, Astaire returned to film to star in more musicals through 1957. He subsequently performed a number of straight dramatic roles in film and TV.",
         "May 10, 1899 in Omaha, Nebraska, USA",
         "1899-05-10",
         "Omaha, Nebraska, USA",
         "June 22, 1987 in Los Angeles, California, USA  (pneumonia)",
         "22.06.1987",
         "Los Angeles, California, USA  ",
         "pneumonia",
         "Robyn Smith  (27 June 1980 - 22 June 1987) (his death)Phyllis Livingston Potter  (12 July 1933 - 13 September 1954) (her death) (2 children)",
         2,
         0,
         1,
         2
        ],
        [
         "nm0000002",
         "Lauren Bacall",
         "Betty Joan Perske",
         174,
         "Lauren Bacall was born Betty Joan Perske on September 16, 1924, in New York City. She was the daughter of Natalie Weinstein-Bacal, a Romanian Jewish immigrant, and William Perske, who was born in New Jersey, to Polish Jewish parents. Her family was middle-class, with her father working as a salesman and her mother as a secretary. They divorced when she was five and she rarely saw her father after that.As a school girl, she originally wanted to be a dancer, but later switched gears to head into acting. She studied at the American Academy of Dramatic Arts in New York, after attending She was educated at Highland Manor, a private boarding school in Tarrytown, New York (through the generosity of wealthy uncles), and then at Julia Richman High School, which enabled her to get her feet wet in some off-Broadway productions.Out of school, she entered modeling and, because of her beauty, appeared on the cover of Harper's Bazaar, one of the most popular magazines in the US. The wife of famed director Howard Hawks spotted the picture in the publication and arranged with her husband to have Lauren take a screen test. As a result, which was entirely positive, she was given the part of Marie Browning in Acque del Sud (1944), a thriller opposite Humphrey Bogart, when she was just 19 years old. This not only set the tone for a fabulous career but also one of Hollywood's greatest love stories (she married Bogart in 1945). It was also the first of several Bogie-Bacall films.After 1945's L'agente confidenziale (1945), Lauren received second billing in Il grande sonno (1946) with Bogart. The mystery, in the role of Vivian Sternwood Rutledge, was a resounding success. Although she was making one film a year, each production would be eagerly awaited by the public. In 1947, again with her husband, Lauren starred in the thriller La fuga (1947). The film kept movie patrons on the edge of their seats. The following year, she starred with Bogart, Edward G. Robinson, and Lionel Barrymore in L'isola di corallo (1948). The crime drama was even more of a nail biter than her previous film.In 1950, Lauren starred in Le foglie d'oro (1950), a drama set in 1894. It was a film of note because she appeared without her husband - her co-star was Gary Cooper. In 1953, Lauren appeared in her first comedy as Schatze Page in Come sposare un milionario (1953). The film, with co-stars Marilyn Monroe and Betty Grable, was a smash hit all across the theaters of America.After filming La donna del destino (1957), which was released in 1957, Humphrey Bogart died on January 14 from throat cancer. Devastated at being a widow, Lauren returned to the silver screen with Dono d'amore (1958) in 1958 opposite Robert Stack. The production turned out to be a big disappointment. Undaunted, Lauren moved back to New York City and appeared in several Broadway plays to huge critical acclaim. She was enjoying acting before live audiences and the audiences in turn enjoyed her fine performances.Lauren was away from the big screen for five years, but she returned in 1964 to appear in Elettroshock (1964) and Donne v'insegno come si seduce un uomo (1964). The latter film was a comedy starring Henry Fonda and Tony Curtis. In 1966, Lauren starred in Detective's Story (1966) with Paul Newman and Julie Harris, which was one of former's signature films.Alternating her time between films and the stage, Lauren returned in 1974's Assassinio sull'Orient Express (1974). The film, based on Agatha Christie's best-selling book was a huge hit. It also garnered Ingrid Bergman her third Oscar. Actually, the huge star-studded cast helped to ensure its success. Two years later, in 1976, Lauren co-starred with John Wayne in Il pistolero (1976). The film was Wayne's last - he died from cancer in 1979.In 1981, she played an actress being stalked by a crazed admirer in Un'ombra nel buio (1981). The thriller was absolutely fascinating with Lauren in the lead role. After that production, Lauren was away from films again, this time for seven years. In the interim, she again appeared on the stages of Broadway. When she returned, it was for the filming of 1988's Mr. North (1988). After 1990's Misery non deve morire (1990) and several made for television films, Lauren appeared in 1996's Fuga dalla Casa Bianca (1996), a comedy romp with Jack Lemmon and James Garner as two ex-presidents and their escapades.Despite her age and failing health, she made a small-scale comeback in the English-language dub of Hayao Miyazaki's Il castello errante di Howl (2004) (Howl's Moving Castle, based on the young-adult novel by Diana Wynne Jones) as the Witch of the Waste, but acting endeavors for the beloved actress became increasingly rare. Lauren Bacall died on 12 August 2014, five weeks short of her 90th birthday.",
         "September 16, 1924 in The Bronx, New York City, New York, USA",
         "16.09.1924",
         "The Bronx, New York City, New York, USA",
         "August 12, 2014 in New York City, New York, USA  (stroke)",
         "12.08.2014",
         "New York City, New York, USA  ",
         "stroke",
         "Jason Robards  (4 July 1961 - 10 September 1969) (divorced) (1 child)Humphrey Bogart  (21 May 1945 - 14 January 1957) (his death) (2 children)",
         2,
         1,
         2,
         3
        ],
        [
         "nm0000003",
         "Brigitte Bardot",
         "Brigitte Bardot",
         166,
         "Brigitte Bardot was born on September 28, 1934 in Paris, France. Her father had an engineering degree and worked with his father in the family business. Brigitte's mother encouraged her daughter to take up music and dance, and she proved to be very adept at it. By the time she was 15, Brigitte was trying a modeling career, and found herself in the French magazine Elle. Her incredible beauty readily apparent, Brigitte next tried films. In 1952, she appeared on screen for the first time as Javotte Lemoine in Le trou normand (1952). Two more films followed and it was also the same year she married Roger Vadim (the union lasted 3½ years). Capitalizing on her success in French films, Brigitte made her first American production in Atto d'amore (1953) with Kirk Douglas, but she continued to make films in France. Brigitte's explosive sexuality took the United States by storm, and the effect she had on millions of American men who had not seen a woman like her in a long, long time--if ever--was electric. Rise to the phrase sex kitten and fascination of her in the United States consisted of magazines photographs and dubbed over French films--good, bad or indifferent, her films drew audiences--mainly men--into theaters like lemmings. In 1965, she appeared as herself in the American-made Erasmo il lentigginoso (1965) with James Stewart (she only appeared in one scene). Just before she turned 40, Brigitte retired from movies after filming Colinot l'alzasottane (1973). She prefers life outside of stardom. While it enabled her to become internationally famous, it also carried with it annoyances. It was not anything for her to have fans enter her house or wander around the grounds of her home in the hopes of getting a glimpse of her or to take something that belonged to her. Paparazzi constantly hounded her with their cameras. She has been so soft-hearted that some people even have taken advantage of her generosity. After her life in the spotlight, Brigitte went on to become a leading spokesperson for animal rights and started the Foundation Brigitte Bardot dedicated solely to that cause. Her work in that realm is, perhaps, far greater than any film she could have made. Brigitte has been married to Bernard d'Ormale since 1992 and they reside in St. Tropez with their nearly 50 pets.",
         "September 28, 1934 in Paris, France",
         "28.09.1934",
         "Paris, France",
         "Not Null now",
         "Not Null now",
         "Not Null now",
         "Not Null now",
         "Bernard d'Ormale  (16 August 1992 - present)Gunter Sachs  (14 July 1966 - 3 July 1969) (divorced)Jacques Charrier  (18 June 1959 - 20 November 1962) (divorced) (1 child)Roger Vadim  (20 December 1952 - 6 December 1957) (divorced)",
         4,
         3,
         1,
         1
        ],
        [
         "nm0000004",
         "John Belushi",
         "John Adam Belushi",
         170,
         "John Belushi was born in Chicago, Illinois, USA, on January 24, 1949, to Agnes Demetri (Samaras) and Adam Anastos Belushi, a restaurant owner. His father was an Albanian immigrant, from Qytezë, and his mother was also of Albanian descent. He grew up in Wheaton, where the family moved when he was six. Though a young hellion in grade school, John became the perfect all-American boy during his high school years where he was co-captain of the Wheaton Central High School football team and was elected homecoming king his senior year. He also developed an interest in acting and appeared in the high school variety show. Encouraged by his drama teacher, John decided to put aside his plans to become a football coach to pursue a career in acting.After graduation in 1967, John performed in summer stock in rural Indiana in a variety of roles from Cardinal Wolsey in Anne of a Thousand Days to a comic detective in Ten Little Indians. In the fall of his freshman year at the University of Wisconsin at Whitewater, John changed his image into a bad-boy appearance by growing his hair long and began to have problems with discipline and structure of attending classes.Dropping out of Wisconsin, John spent the next two years at the College of DuPage, a junior college a few miles from his parents' Wheaton home, where his father began persuading him to become a partner in his restaurant, but John still preferred acting. While attending DuPage, John helped found the West Compass Players, an improv comedy troupe patterned after Chicago's famous Second City ensemble.In 1971, John made the leap to Second City itself where he performed in various on-stage comic performances with others, who included Harold Ramis and Joe Flaherty. John loved his life at Second City where he performed six nights a week, perfecting the physical gonzo style of comedy he later made famous.A year later, John and his live-in girlfriend from his high school years, Judith Belushi-Pisano, moved to New York because John had joined the cast of National Lampoon's Lemmings, an off-Broadway rock musical revue that was originally booked for a six-week run but played to full crowds for nearly 10 months.In 1973, John was hired as a writer for the syndicated National Lampoon's Radio Hour which became the National Lampoon Show in 1975. John's big break came that same year when he joined the ground-breaking TV variety series Il Saturday Night Live (1975) which made him a star. The unpredictable, aggressively physical style of humor that he began on Second City flowered on SNL.In 1978, while still working on Il Saturday Night Live (1975), John appeared in the movie Verso il sud (1978) which starred and was directed by Jack Nicholson. It was here that director John Landis noticed John and decided to cast him in his movie National Lampoon's Animal House (1978). John's minor role as the notorious, beer-swilling Bluto made it a box-office smash and the year's top grossing comedy. Despite appearing in only a dozen scenes, John's performance stole the movie, which portrays college fraternity shenanigans at a small college set in the year 1962.In 1979, John along with fellow SNL regular Dan Aykroyd quit the series to pursue movie projects. John and Dan Aykroyd appeared in minor roles in Steven Spielberg's financially unsuccessful 1941 - Allarme a Hollywood (1979) and, the following year, in John Landis' The Blues Brothers - I fratelli Blues (1980). Around this time, John's drug use began escalating. Cocaine, which was ubiquitous in show-business circles in the 1970's, became his drug of choice. After he first experimented with cocaine in the mid 1970s, John almost immediately became addicted to it. His frequent cocaine sniffing binges became a source of friction between him and Judy, whom he married in 1976.John's love for blues and soul music inspired the Blues Brothers. He and Aykroyd first appeared as Joliet Jake and Elwood Blues, a pair of white soul men dressed in black suits, skinny ties, fedora hats and Rayban sunglasses, as a warm-up act before the telecasts of Il Saturday Night Live (1975). Building on the success of their acts and the release of their album A Briefcase Full of Blues, John and Dan Aykroyd starred in the movie, which gave John a chance to act with his favorite musical heroes including Ray Charles, James Brown and Aretha Franklin.Although John's reputation for being an off-screen party animal is legendary, his generous side is less well known. Using some of his money, he bought his father a ranch outside San Diego for him to live. John helped set up some of his Chicago friends with their own businesses and even financially helped his younger brother, Jim Belushi, who followed his older brother's path to both Second City and Il Saturday Night Live (1975).In 1981, John appeared in the movie Chiamami Aquila (1981), playing a hard-nosed Chicago newspaperman who finds romance in Colorado with eagle expert Blair Brown. That same year, John and Dan Aykroyd appeared again in the movie I vicini di casa (1981), which gave them a chance to reverse roles, with John playing a straight-arrow family man whose life is turned upside down when a wild family man (Aykroyd) moves in next door.In January 1982, John began work on the screenplay for another movie to be titled Noble Rot. Also, John had checked into a bungalow at the Chateau Marmont, a popular celebrity hotel in Los Angeles. John's drug use had been steadily increasing for over a year now, which alarmed his wife and friends, but he continued to promise Judy that he would quit someday. On March 5, 1982, John Belushi was found dead in his hotel room at the age of 33. The local coroner gave the cause of death as a lethal injection of cocaine and heroin. Several years later, John's drug dealing/drug user companion during his final weeks, Cathy Smith, was tried and sentenced to three years in prison for supplying John with the drugs. Close friend James Taylor sang That Lonesome Road at a memorial service at Martha's Vineyard cemetery where John was buried.",
         "January 24, 1949 in Chicago, Illinois, USA",
         "24.01.1949",
         "Chicago, Illinois, USA",
         "March 5, 1982 in Hollywood, Los Angeles, California, USA  (acute cocaine and heroin intoxication)",
         "05.03.1982",
         "Hollywood, Los Angeles, California, USA  ",
         "acute cocaine and heroin intoxication",
         "Judith Belushi-Pisano  (31 December 1976 - 5 March 1982) (his death)",
         1,
         0,
         0,
         0
        ],
        [
         "nm0000005",
         "Ingmar Bergman",
         "Ernst Ingmar Bergman",
         179,
         "Ernst Ingmar Bergman was born July 14, 1918, the son of a priest. The film and T.V. series, Con le migliori intenzioni (1992) is biographical and shows the early marriage of his parents. The film 'Söndagsbarn' depicts a bicycle journey with his father. In the miniseries Conversazioni private (1996) is the trilogy closed. Here, as in 'Den Goda Viljan' Pernilla August play his mother. Note that all three movies are not always full true biographical stories. He began his career early with a puppet theatre which he, his sister and their friends played with. But he was the manager. Strictly professional he begun writing in 1941. He had written a play called 'Kaspers död' (A.K.A. 'Kaspers Death') which was produced the same year. It became his entrance into the movie business as Stina Bergman (not a close relative), from the company S.F. (Swedish Filmindustry), had seen the play and thought that there must be some dramatic talent in young Ingmar. His first job was to save other more famous writers' poor scripts. Under one of that script-saving works he remembered that he had written a novel about his last year as a student. He took the novel, did the save-poor-script job first, then wrote a screenplay on his own novel. When he went back to S.F., he delivered two scripts rather than one. The script was Spasimo (1944) and was the fist Bergman screenplay that was put into film (by Alf Sjöberg). It was also in that movie Bergman did his first professional film-director job. Because Alf Sjöberg was busy, Bergman got the order to shoot the last sequence of the film. Ingmar Bergman is the father of Daniel Bergman, director, and Mats Bergman, actor at the Swedish Royal Dramatic Theater. Ingmar Bergman was also C.E.O. of the same theatre between 1963-1966, where he hired almost every professional actor in Sweden. In 1976 he had a famous tax problem. Bergman had trusted other people to advise him on his finances, but it turned out to be very bad advice. Bergman had to leave the country immediately, and so he went to Germany. A few years later he returned to Sweden and made his last theatrical film Fanny & Alexander (1982) (A.K.A. 'Fanny and Alexander'). In later life he retired from movie directing, but still wrote scripts for film and T.V. and directed plays at the Swedish Royal Dramatic Theatre for many years. He died peacefully in his sleep on July 30, 2007.",
         "July 14, 1918 in Uppsala, Uppsala län, Sweden",
         "14.07.1918",
         "Uppsala, Uppsala län, Sweden",
         "July 30, 2007 in Fårö, Gotlands län, Sweden  (natural causes)",
         "30.07.2007",
         "Fårö, Gotlands län, Sweden  ",
         "natural causes",
         "Ingrid Bergman  (11 November 1971 - 20 May 1995) (her death) (1 child)Käbi Laretei  (1959 - 1969) (divorced) (1 child)Gun Grut  (1951 - 1959) (divorced) (1 child)Ellen Bergman  (22 July 1945 - 1950) (divorced) (4 children)Else Fisher  (25 March 1943 - 1945) (divorced) (1 child)",
         5,
         4,
         5,
         8
        ],
        [
         "nm0000006",
         "Ingrid Bergman",
         "Ingrid Bergman",
         178,
         "Ingrid Bergman was one of the greatest actresses from Hollywood's lamented Golden Era. Her natural and unpretentious beauty and her immense acting talent made her one of the most celebrated figures in the history of American cinema. Bergman is also one of the most Oscar-awarded actresses, tied with Meryl Streep, both second only to Katharine Hepburn.Ingrid Bergman was born on August 29, 1915 in Stockholm, Sweden, to a German mother, Frieda Henrietta (Adler), and a Swedish father, Justus Samuel Bergman, an artist and photographer. Her mother died when she was only two and her father died when she was 12. She went to live with an elderly uncle.The woman who would be one of the top stars in Hollywood in the 1940s had decided to become an actress after finishing her formal schooling. She had had a taste of acting at age 17 when she played an uncredited role of a girl standing in line in the Swedish film Landskamp (1932) in 1932 - not much of a beginning for a girl who would be known as Sweden's illustrious gift to Hollywood. Her parents died when she was just a girl and the uncle she lived with didn't want to stand in the way of Ingrid's dream. The next year she enrolled at the Royal Dramatic Theatre School in Stockholm but decided that stage acting was not for her. It would be three more years before she would have another chance at a film. When she did, it was more than just a bit part. The film in question was Munkbrogreven (1935), where she had a speaking part as Elsa Edlund. After several films that year that established her as a class actress, Ingrid appeared in La sposa scomparsa (1936) as Anita Hoffman. Luckily for her, American producer David O. Selznick saw it and sent a representative from Selznick International Pictures to gain rights to the story and have Ingrid signed to a contract. Once signed, she came to California and starred in United Artists' 1939 remake of her 1936 film, Intermezzo (1939), reprising her original role. The film was a hit and so was Ingrid.Her beauty was unlike anything the movie industry had seen before and her acting was superb. Hollywood was about to find out that they had the most versatile actress the industry had ever seen. Here was a woman who truly cared about the craft she represented. The public fell in love with her. Ingrid was under contract to go back to Sweden to film Solo una notte (1939) in 1939 and Juninatten (1940) in 1940. Back in the US she appeared in three films, all well-received. She made only one film in 1942, but it was the classic Casablanca (1942) opposite Humphrey Bogart.Ingrid was choosing her roles well. In 1943 she was nominated for an Academy Award for her role in Per chi suona la campana (1943), the only film she made that year. The critics and public didn't forget her when she made Angoscia (1944) the following year--her role of Paula Alquist got her the Oscar for Best Actress. In 1945 Ingrid played in Io ti salverò (1945), Saratoga (1945) and Le campane di Santa Maria (1945), for which she received her third Oscar nomination for her role of Sister Benedict. She made no films in 1947, but bounced back with a fourth nomination for Giovanna d'Arco (1948). In 1949 she went to Italy to film Stromboli (Terra di Dio) (1950), directed by Roberto Rossellini. She fell in love with him and left her husband, Dr. Peter Lindstrom, and daughter, Pia Lindström. America's moral guardians in the press and the pulpits were outraged. She was pregnant and decided to remain in Italy, where her son was born. In 1952 Ingrid had twins, Isotta and Isabella Rossellini, who became an outstanding actress in her own right, as did Pia.Ingrid continued to make films in Italy and finally returned to Hollywood in 1956 in the title role in Anastasia (1956), which was filmed in England. For this she won her second Academy Award. She had scarcely missed a beat. Ingrid continued to bounce between Europe and the US making movies, and fine ones at that. A film with Ingrid Bergman was sure to be a quality production. In her final big-screen performance in 1978's Sinfonia d'autunno (1978) she had her final Academy Award nomination. Though she didn't win, many felt it was the most sterling performance of her career. Ingrid retired, but not before she gave an outstanding performance in the mini-series Una donna di nome Golda (1982), a film about Israeli prime minister Golda Meir. For this she won an Emmy Award as Best Actress, but, unfortunately, she did not live to see the fruits of her labor.Ingrid died from cancer on August 29, 1982, her 67th birthday, in London, England.",
         "August 29, 1915 in Stockholm, Sweden",
         "29.08.1915",
         "Stockholm, Sweden",
         "August 29, 1982 in Chelsea, London, England, UK  (lymphoma complications following a breast cancer operation)",
         "29.08.1982",
         "Chelsea, London, England, UK  ",
         "lymphoma complications following a breast cancer operation",
         "Lars Schmidt  (21 December 1958 - 1978) (divorced)Roberto Rossellini  (24 May 1950 - 7 November 1957) (divorced) (3 children)Dr. Petter Aron Lindström  (10 July 1937 - 9 February 1950) (divorced) (1 child)",
         3,
         3,
         2,
         4
        ],
        [
         "nm0000007",
         "Humphrey Bogart",
         "Humphrey DeForest Bogart",
         173,
         "Humphrey DeForest Bogart was born in New York City, New York, to Maud Humphrey, a famed magazine illustrator and suffragette, and Belmont DeForest Bogart, a moderately wealthy surgeon (who was secretly addicted to opium). Bogart was educated at Trinity School, NYC, and was sent to Phillips Academy in Andover, Massachusetts, in preparation for medical studies at Yale. He was expelled from Phillips and joined the U.S. Naval Reserve. From 1920 to 1922, he managed a stage company owned by family friend William A. Brady (the father of actress Alice Brady), performing a variety of tasks at Brady's film studio in New York. He then began regular stage performances. Alexander Woollcott described his acting in a 1922 play as inadequate. In 1930, he gained a contract with Fox, his feature film debut in a ten-minute short, Broadway's Like That (1930), co-starring Ruth Etting and Joan Blondell. Fox released him after two years. After five years of stage and minor film roles, he had his breakthrough role in La foresta pietrificata (1936) from Warner Bros. He won the part over Edward G. Robinson only after the star, Leslie Howard, threatened Warner Bros. that he would quit unless Bogart was given the key role of Duke Mantee, which he had played in the Broadway production with Howard. The film was a major success and led to a long-term contract with Warner Bros. From 1936 to 1940, Bogart appeared in 28 films, usually as a gangster, twice in Westerns and even a horror film. His landmark year was 1941 (often capitalizing on parts George Raft had stupidly rejected) with roles in classics such as Una pallottola per Roy (1941) and as Sam Spade in one of his most fondly remembered films, Il mistero del falco (1941). These were followed by Casablanca (1942), Il grande sonno (1946), and L'isola di corallo (1948). Bogart, despite his erratic education, was incredibly well-read and he favored writers and intellectuals within his small circle of friends. In 1947, he joined wife Lauren Bacall and other actors protesting the House Un-American Activities Committee witch hunts. He also formed his own production company, and the next year made Il tesoro della Sierra Madre (1948). Bogie won the best actor Academy Award for La regina d'Africa (1951) and was nominated for Casablanca (1942) and as Captain Queeg in L'ammutinamento del Caine (1954), a film made when he was already seriously ill. He died in his sleep at his Hollywood home following surgeries and a battle with throat cancer.",
         "December 25, 1899 in New York City, New York, USA",
         "1899-12-25",
         "New York City, New York, USA",
         "January 14, 1957 in Los Angeles, California, USA  (esophageal cancer)",
         "14.01.1957",
         "Los Angeles, California, USA  ",
         "esophageal cancer",
         "Lauren Bacall  (21 May 1945 - 14 January 1957) (his death) (2 children)Mayo Methot  (21 August 1938 - 10 May 1945) (divorced)Mary Philips  (3 April 1928 - 11 August 1938) (divorced)Helen Menken  (20 May 1926 - 18 November 1927) (divorced)",
         4,
         3,
         1,
         2
        ],
        [
         "nm0000009",
         "Richard Burton",
         "Richard Walter Jenkins",
         178,
         "Probably best-remembered for his turbulent personal life with Elizabeth Taylor (whom he married twice), Richard Burton was nonetheless also regarded as an often brilliant British actor of the post-WWII period.Burton was born Richard Walter Jenkins in 1925 into a Welsh (Cymraeg)-speaking family in Pontrhydyfen to Edith Maude (Thomas) and Richard Walter Jenkins, a coal miner. The twelfth of thirteen children, his mother died while he was a toddler and his father later abandoned the family, leaving him to be raised by an elder sister, Cecilia. An avid fan of Shakespeare, poetry and reading, he once said home is where the books are. He received a scholarship to Oxford University to study acting and made his first stage appearance in 1944.His first film appearances were in routine British movies such as The Last Days of Dolwyn (1949), Tempesta a Liverpool (1950) and La quinta offensiva (1951). Then he started to appear in Hollywood movies such as Mia cugina Rachele (1952), La tunica (1953) and Alessandro il grande (1956), added to this he was also spending considerable time in stage productions, both in the UK and USA, often to splendid reviews. The late 1950s was an exciting and inventive time in UK cinema, often referred to as the British New Wave, and Burton was right in the thick of things, and showcased a sensational performance in I giovani arrabbiati (1959). He also appeared with a cavalcade of international stars in the World War II magnum opus Il giorno più lungo (1962), and then onto arguably his most notorious role as that of Marc Antony opposite Elizabeth Taylor in the hugely expensive Cleopatra (1963). This was, of course, the film that kick-started their fiery and passionate romance (plus two marriages), and the two of them appeared in several productions over the next few years including International Hotel (1963), Castelli di sabbia (1965), the dynamic Chi ha paura di Virginia Woolf? (1966) and La bisbetica domata (1967), as well as box office flops like I commedianti (1967). Burton did better when he was off on his own giving higher caliber performances, such as those in Becket e il suo re (1964), the film adaptation of the Tennessee Williams play La notte dell'iguana (1964), the brilliant espionage thriller La spia che venne dal freddo (1965) and alongside Clint Eastwood in the World War II action adventure film Dove osano le aquile (1968).His audience appeal began to decline somewhat by the end of the 1960s as fans turned to younger, more virile male stars, however Burton was superb in Anna dei mille giorni (1969) as King Henry VIII, he put on a reasonable show in the boring Attacco a Rommel (1971), was over the top in the awful Il mascalzone (1971), gave sleepwalking performances in Una faccia di c... (1972) and Barbablù (1972), and was wildly miscast in the ludicrous L'assassinio di Trotsky (1972).By the early 1970s, quality male lead roles were definitely going to other stars, and Burton found himself appearing in some movies of dubious quality, just to pay the bills and support family, including Divorzia lui divorzia lei (1973) (his last on-screen appearance with Taylor), L'uomo del clan (1974), Breve incontro (1974), Jackpot (1974) (which was never completed) and L'esorcista II - L'eretico (1977). However, he won another Oscar nomination for his excellent performance as a concerned psychiatrist in Equus (1977). He appeared with fellow acting icons Richard Harris and Roger Moore in I 4 dell'oca selvaggia (1978) about mercenaries in South Africa. While the film had a modest initial run, over the past thirty-five years it has picked up quite a cult following. His final performances were as the wily inquisitor O'Brien in the most recent film version of George Orwell's dystopian Orwell 1984 (1984), in which he won good reviews, and in the TV mini series Ellis Island (1984). He passed away on August 5, 1984 in Celigny, Switzerland from a cerebral hemorrhage.",
         "November 10, 1925 in Pontrhydyfen, Wales, UK",
         "10.11.1925",
         "Pontrhydyfen, Wales, UK",
         "August 5, 1984 in Céligny, Geneva, Switzerland  (cerebral hemorrhage)",
         "05.08.1984",
         "Céligny, Geneva, Switzerland  ",
         "cerebral hemorrhage",
         "Sally Burton  (3 July 1983 - 5 August 1984) (his death)Susan Hunt  (21 August 1976 - 27 February 1983) (divorced)Elizabeth Taylor  (10 October 1975 - 29 July 1976) (divorced)Elizabeth Taylor  (15 March 1964 - 26 June 1974) (divorced) (1 child)Sybil Williams  (5 February 1949 - 5 December 1963) (divorced) (2 children)",
         5,
         4,
         2,
         3
        ],
        [
         "nm0000010",
         "James Cagney",
         "James Francis Cagney",
         165,
         "One of Hollywood's preeminent male stars of all time, James Cagney was also an accomplished dancer and easily played light comedy. James Francis Cagney was born on the Lower East Side of Manhattan in New York City, to Carolyn (Nelson) and James Francis Cagney, Sr., who was a bartender and amateur boxer. Cagney was of Norwegian (from his maternal grandfather) and Irish descent. Ending three decades on the screen, he retired to his farm in Stanfordville, New York (some 77 miles/124 km. north of his New York City birthplace), after starring in Billy Wilder's Uno, due, tre! (1961). He emerged from retirement to star in the 1981 screen adaptation of E.L. Doctorow's novel Ragtime (Ragtime (1981)), in which he was reunited with his frequent co-star of the 1930s, Pat O'Brien, and which was his last theatrical film and O'Brien's as well). Cagney's final performance came in the title role of the made-for-TV movie Terrible Joe Moran (1984), in which he played opposite Art Carney.",
         "July 17, 1899 in New York City, New York, USA",
         "1899-07-17",
         "New York City, New York, USA",
         "March 30, 1986 in Stanfordville, New York, USA  (heart attack following illness from diabetes)",
         "30.03.1986",
         "Stanfordville, New York, USA  ",
         "heart attack following illness from diabetes",
         "Frances Cagney  (28 September 1922 - 30 March 1986) (his death) (2 children)",
         1,
         0,
         1,
         2
        ],
        [
         "nm0000011",
         "Gary Cooper",
         "Frank James Cooper",
         191,
         "Born to Alice Cooper and Charles Cooper. Gary attended school at Dunstable school England, Helena Montana and Grinnell College, Grinnell, Iowa (then called Iowa College). His first stage experience was during high school and college. Afterwards, he worked as an extra for one year before getting a part in a two-reeler by the independent producer Hans Tiesler . Eileen Sedgwick was his first leading lady. He then appeared in Fiore del deserto (1926) for United Artists before moving to Paramount. While there he appeared in a small part in Ali (1927), Cosetta (1927), and other films.",
         "May 7, 1901 in Helena, Montana, USA",
         "07.05.1901",
         "Helena, Montana, USA",
         "May 13, 1961 in Beverly Hills, Los Angeles, California, USA  (prostate cancer)",
         "13.05.1961",
         "Beverly Hills, Los Angeles, California, USA  ",
         "prostate cancer",
         "Sandra Shaw  (15 December 1933 - 13 May 1961) (his death) (1 child)",
         1,
         0,
         1,
         1
        ]
       ],
       "datasetInfos": [],
       "dbfsResultPath": null,
       "isJsonSchema": true,
       "metadata": {},
       "overflow": false,
       "plotOptions": {
        "customPlotOptions": {},
        "displayType": "table",
        "pivotAggregation": null,
        "pivotColumns": null,
        "xColumns": null,
        "yColumns": null
       },
       "removedWidgets": [],
       "schema": [
        {
         "metadata": "{}",
         "name": "imdb_name_id",
         "type": "\"string\""
        },
        {
         "metadata": "{}",
         "name": "name",
         "type": "\"string\""
        },
        {
         "metadata": "{}",
         "name": "birth_name",
         "type": "\"string\""
        },
        {
         "metadata": "{}",
         "name": "height",
         "type": "\"long\""
        },
        {
         "metadata": "{}",
         "name": "bio",
         "type": "\"string\""
        },
        {
         "metadata": "{}",
         "name": "birth_details",
         "type": "\"string\""
        },
        {
         "metadata": "{}",
         "name": "date_of_birth",
         "type": "\"string\""
        },
        {
         "metadata": "{}",
         "name": "place_of_birth",
         "type": "\"string\""
        },
        {
         "metadata": "{}",
         "name": "death_details",
         "type": "\"string\""
        },
        {
         "metadata": "{}",
         "name": "date_of_death",
         "type": "\"string\""
        },
        {
         "metadata": "{}",
         "name": "place_of_death",
         "type": "\"string\""
        },
        {
         "metadata": "{}",
         "name": "reason_of_death",
         "type": "\"string\""
        },
        {
         "metadata": "{}",
         "name": "spouses_string",
         "type": "\"string\""
        },
        {
         "metadata": "{}",
         "name": "spouses",
         "type": "\"long\""
        },
        {
         "metadata": "{}",
         "name": "divorces",
         "type": "\"long\""
        },
        {
         "metadata": "{}",
         "name": "spouses_with_children",
         "type": "\"long\""
        },
        {
         "metadata": "{}",
         "name": "children",
         "type": "\"long\""
        }
       ],
       "type": "table"
      }
     },
     "output_type": "display_data"
    }
   ],
   "source": [
    "fillDF=namesDf.na.fill('Not Null now')\n",
    "display(fillDF.head(10))"
   ]
  },
  {
   "cell_type": "markdown",
   "metadata": {
    "application/vnd.databricks.v1+cell": {
     "cellMetadata": {},
     "inputWidgets": {},
     "nuid": "2bc83ab1-1781-4e72-84ee-f180aa9e3a90",
     "showTitle": false,
     "tableResultSettingsMap": {},
     "title": ""
    }
   },
   "source": [
    "## explode"
   ]
  },
  {
   "cell_type": "code",
   "execution_count": 0,
   "metadata": {
    "application/vnd.databricks.v1+cell": {
     "cellMetadata": {
      "byteLimit": 2048000,
      "rowLimit": 10000
     },
     "inputWidgets": {},
     "nuid": "9d8f30c8-4d29-4751-9211-d91944675dc4",
     "showTitle": false,
     "tableResultSettingsMap": {},
     "title": ""
    }
   },
   "outputs": [
    {
     "output_type": "stream",
     "name": "stdout",
     "output_type": "stream",
     "text": [
      "Out[23]: [Row(name='James', key='eye', value='brown'),\n Row(name='James', key='hair', value='black'),\n Row(name='Michael', key='eye', value=None),\n Row(name='Michael', key='hair', value='brown'),\n Row(name='Robert', key='eye', value=''),\n Row(name='Robert', key='hair', value='red')]"
     ]
    }
   ],
   "source": [
    "import pyspark.sql.functions as sf\n",
    "df.select(df.name, sf.explode(df.properties)).collect()\n"
   ]
  },
  {
   "cell_type": "markdown",
   "metadata": {
    "application/vnd.databricks.v1+cell": {
     "cellMetadata": {},
     "inputWidgets": {},
     "nuid": "167c26c6-e25c-495c-9084-9f1418b2e7ab",
     "showTitle": false,
     "tableResultSettingsMap": {},
     "title": ""
    }
   },
   "source": [
    "## drop"
   ]
  },
  {
   "cell_type": "code",
   "execution_count": 0,
   "metadata": {
    "application/vnd.databricks.v1+cell": {
     "cellMetadata": {
      "byteLimit": 2048000,
      "rowLimit": 10000
     },
     "inputWidgets": {},
     "nuid": "a39c47ba-57a6-4faf-84f1-1f12027eaf1e",
     "showTitle": false,
     "tableResultSettingsMap": {},
     "title": ""
    }
   },
   "outputs": [
    {
     "output_type": "stream",
     "name": "stdout",
     "output_type": "stream",
     "text": [
      "+-------------------+--------------------+\n|     knownLanguages|          properties|\n+-------------------+--------------------+\n|      [Java, Scala]|{eye -> brown, ha...|\n|[Spark, Java, null]|{eye -> null, hai...|\n|         [CSharp, ]|{eye -> , hair ->...|\n|               null|                null|\n|             [1, 2]|                  {}|\n+-------------------+--------------------+\n\n"
     ]
    }
   ],
   "source": [
    "\n",
    "df.drop('name').show()"
   ]
  },
  {
   "cell_type": "markdown",
   "metadata": {
    "application/vnd.databricks.v1+cell": {
     "cellMetadata": {},
     "inputWidgets": {},
     "nuid": "4a55223a-bb79-4dfe-ab54-1d71920ece66",
     "showTitle": false,
     "tableResultSettingsMap": {},
     "title": ""
    }
   },
   "source": [
    "## regexp_extract"
   ]
  },
  {
   "cell_type": "code",
   "execution_count": 0,
   "metadata": {
    "application/vnd.databricks.v1+cell": {
     "cellMetadata": {
      "byteLimit": 2048000,
      "rowLimit": 10000
     },
     "inputWidgets": {},
     "nuid": "b6d12c4f-bcf0-47e4-85ec-f4f111bd3051",
     "showTitle": false,
     "tableResultSettingsMap": {},
     "title": ""
    }
   },
   "outputs": [
    {
     "output_type": "display_data",
     "data": {
      "text/html": [
       "<style scoped>\n",
       "  .table-result-container {\n",
       "    max-height: 300px;\n",
       "    overflow: auto;\n",
       "  }\n",
       "  table, th, td {\n",
       "    border: 1px solid black;\n",
       "    border-collapse: collapse;\n",
       "  }\n",
       "  th, td {\n",
       "    padding: 5px;\n",
       "  }\n",
       "  th {\n",
       "    text-align: left;\n",
       "  }\n",
       "</style><div class='table-result-container'><table class='table-result'><thead style='background-color: white'><tr><th>regexp_extract(name, (^|\\s)J\\w*, 0)</th></tr></thead><tbody><tr><td></td></tr><tr><td></td></tr><tr><td></td></tr><tr><td>John</td></tr><tr><td></td></tr><tr><td></td></tr><tr><td></td></tr><tr><td></td></tr><tr><td>James</td></tr><tr><td></td></tr></tbody></table></div>"
      ]
     },
     "metadata": {
      "application/vnd.databricks.v1+output": {
       "addedWidgets": {},
       "aggData": [],
       "aggError": "",
       "aggOverflow": false,
       "aggSchema": [],
       "aggSeriesLimitReached": false,
       "aggType": "",
       "arguments": {},
       "columnCustomDisplayInfos": {},
       "data": [
        [
         ""
        ],
        [
         ""
        ],
        [
         ""
        ],
        [
         "John"
        ],
        [
         ""
        ],
        [
         ""
        ],
        [
         ""
        ],
        [
         ""
        ],
        [
         "James"
        ],
        [
         ""
        ]
       ],
       "datasetInfos": [],
       "dbfsResultPath": null,
       "isJsonSchema": true,
       "metadata": {},
       "overflow": false,
       "plotOptions": {
        "customPlotOptions": {},
        "displayType": "table",
        "pivotAggregation": null,
        "pivotColumns": null,
        "xColumns": null,
        "yColumns": null
       },
       "removedWidgets": [],
       "schema": [
        {
         "metadata": "{}",
         "name": "regexp_extract(name, (^|\\s)J\\w*, 0)",
         "type": "\"string\""
        }
       ],
       "type": "table"
      }
     },
     "output_type": "display_data"
    }
   ],
   "source": [
    "valdf = namesDf.select(sf.regexp_extract('name', '(^|\\\\s)J\\\\w*', 0)).collect()\n",
    "display(valdf[:10])"
   ]
  },
  {
   "cell_type": "markdown",
   "metadata": {
    "application/vnd.databricks.v1+cell": {
     "cellMetadata": {},
     "inputWidgets": {},
     "nuid": "6dcd21ae-e11c-4f83-b09c-37ab8c32b66f",
     "showTitle": false,
     "tableResultSettingsMap": {},
     "title": ""
    }
   },
   "source": [
    "## ifnull"
   ]
  },
  {
   "cell_type": "code",
   "execution_count": 0,
   "metadata": {
    "application/vnd.databricks.v1+cell": {
     "cellMetadata": {
      "byteLimit": 2048000,
      "rowLimit": 10000
     },
     "inputWidgets": {},
     "nuid": "c0e5deb0-01df-442e-9dd7-b5f352ef66eb",
     "showTitle": false,
     "tableResultSettingsMap": {},
     "title": ""
    }
   },
   "outputs": [
    {
     "output_type": "display_data",
     "data": {
      "text/plain": [
       "\u001B[0;31m---------------------------------------------------------------------------\u001B[0m\n",
       "\u001B[0;31mAttributeError\u001B[0m                            Traceback (most recent call last)\n",
       "File \u001B[0;32m<command-872570391603752>:2\u001B[0m\n",
       "\u001B[1;32m      1\u001B[0m \u001B[38;5;28;01mimport\u001B[39;00m \u001B[38;5;21;01mpyspark\u001B[39;00m\u001B[38;5;21;01m.\u001B[39;00m\u001B[38;5;21;01msql\u001B[39;00m\u001B[38;5;21;01m.\u001B[39;00m\u001B[38;5;21;01mfunctions\u001B[39;00m \u001B[38;5;28;01mas\u001B[39;00m \u001B[38;5;21;01mf\u001B[39;00m\n",
       "\u001B[0;32m----> 2\u001B[0m namesDf\u001B[38;5;241m.\u001B[39mselect(f\u001B[38;5;241m.\u001B[39mifnull(df[\u001B[38;5;124m'\u001B[39m\u001B[38;5;124mname\u001B[39m\u001B[38;5;124m'\u001B[39m], df[\u001B[38;5;124m'\u001B[39m\u001B[38;5;124mknownLanguages\u001B[39m\u001B[38;5;124m'\u001B[39m]))\u001B[38;5;241m.\u001B[39mshow()\n",
       "\n",
       "\u001B[0;31mAttributeError\u001B[0m: module 'pyspark.sql.functions' has no attribute 'ifnull'"
      ]
     },
     "metadata": {
      "application/vnd.databricks.v1+output": {
       "arguments": {},
       "data": "\u001B[0;31m---------------------------------------------------------------------------\u001B[0m\n\u001B[0;31mAttributeError\u001B[0m                            Traceback (most recent call last)\nFile \u001B[0;32m<command-872570391603752>:2\u001B[0m\n\u001B[1;32m      1\u001B[0m \u001B[38;5;28;01mimport\u001B[39;00m \u001B[38;5;21;01mpyspark\u001B[39;00m\u001B[38;5;21;01m.\u001B[39;00m\u001B[38;5;21;01msql\u001B[39;00m\u001B[38;5;21;01m.\u001B[39;00m\u001B[38;5;21;01mfunctions\u001B[39;00m \u001B[38;5;28;01mas\u001B[39;00m \u001B[38;5;21;01mf\u001B[39;00m\n\u001B[0;32m----> 2\u001B[0m namesDf\u001B[38;5;241m.\u001B[39mselect(f\u001B[38;5;241m.\u001B[39mifnull(df[\u001B[38;5;124m'\u001B[39m\u001B[38;5;124mname\u001B[39m\u001B[38;5;124m'\u001B[39m], df[\u001B[38;5;124m'\u001B[39m\u001B[38;5;124mknownLanguages\u001B[39m\u001B[38;5;124m'\u001B[39m]))\u001B[38;5;241m.\u001B[39mshow()\n\n\u001B[0;31mAttributeError\u001B[0m: module 'pyspark.sql.functions' has no attribute 'ifnull'",
       "errorSummary": "<span class='ansi-red-fg'>AttributeError</span>: module 'pyspark.sql.functions' has no attribute 'ifnull'",
       "errorTraceType": "ansi",
       "metadata": {},
       "type": "ipynbError"
      }
     },
     "output_type": "display_data"
    }
   ],
   "source": [
    "import pyspark.sql.functions as f\n",
    "namesDf.select(f.ifnull(df['name'], df['knownLanguages'])).show()"
   ]
  },
  {
   "cell_type": "markdown",
   "metadata": {
    "application/vnd.databricks.v1+cell": {
     "cellMetadata": {},
     "inputWidgets": {},
     "nuid": "55792a6a-1177-4b9a-8855-9a3ed3801d86",
     "showTitle": false,
     "tableResultSettingsMap": {},
     "title": ""
    }
   },
   "source": [
    "## nullif"
   ]
  },
  {
   "cell_type": "code",
   "execution_count": 0,
   "metadata": {
    "application/vnd.databricks.v1+cell": {
     "cellMetadata": {
      "byteLimit": 2048000,
      "rowLimit": 10000
     },
     "inputWidgets": {},
     "nuid": "49c8ac1f-61b8-4164-9713-f563aed1dd3b",
     "showTitle": false,
     "tableResultSettingsMap": {},
     "title": ""
    }
   },
   "outputs": [
    {
     "output_type": "stream",
     "name": "stdout",
     "output_type": "stream",
     "text": [
      "Unexpected exception formatting exception. Falling back to standard exception\n"
     ]
    },
    {
     "output_type": "stream",
     "name": "stderr",
     "output_type": "stream",
     "text": [
      "Traceback (most recent call last):\n  File \"/databricks/python/lib/python3.9/site-packages/IPython/core/interactiveshell.py\", line 3378, in run_code\n    exec(code_obj, self.user_global_ns, self.user_ns)\n  File \"<command-872570391603755>\", line 2, in <module>\n    df.select(f.nullif(df['name'], df['knownLanguages'])).collect()\nAttributeError: module 'pyspark.sql.functions' has no attribute 'nullif'\n\nDuring handling of the above exception, another exception occurred:\n\nTraceback (most recent call last):\n  File \"/databricks/python/lib/python3.9/site-packages/IPython/core/interactiveshell.py\", line 1997, in showtraceback\n    stb = self.InteractiveTB.structured_traceback(\n  File \"/databricks/python/lib/python3.9/site-packages/IPython/core/ultratb.py\", line 1112, in structured_traceback\n    return FormattedTB.structured_traceback(\n  File \"/databricks/python/lib/python3.9/site-packages/IPython/core/ultratb.py\", line 1006, in structured_traceback\n    return VerboseTB.structured_traceback(\n  File \"/databricks/python/lib/python3.9/site-packages/IPython/core/ultratb.py\", line 859, in structured_traceback\n    formatted_exception = self.format_exception_as_a_whole(etype, evalue, etb, number_of_lines_of_context,\n  File \"/databricks/python/lib/python3.9/site-packages/IPython/core/ultratb.py\", line 812, in format_exception_as_a_whole\n    frames.append(self.format_record(r))\n  File \"/databricks/python/lib/python3.9/site-packages/IPython/core/ultratb.py\", line 730, in format_record\n    result += ''.join(_format_traceback_lines(frame_info.lines, Colors, self.has_colors, lvals))\n  File \"/databricks/python/lib/python3.9/site-packages/stack_data/utils.py\", line 145, in cached_property_wrapper\n    value = obj.__dict__[self.func.__name__] = self.func(obj)\n  File \"/databricks/python/lib/python3.9/site-packages/stack_data/core.py\", line 698, in lines\n    pieces = self.included_pieces\n  File \"/databricks/python/lib/python3.9/site-packages/stack_data/utils.py\", line 145, in cached_property_wrapper\n    value = obj.__dict__[self.func.__name__] = self.func(obj)\n  File \"/databricks/python/lib/python3.9/site-packages/stack_data/core.py\", line 649, in included_pieces\n    pos = scope_pieces.index(self.executing_piece)\n  File \"/databricks/python/lib/python3.9/site-packages/stack_data/utils.py\", line 145, in cached_property_wrapper\n    value = obj.__dict__[self.func.__name__] = self.func(obj)\n  File \"/databricks/python/lib/python3.9/site-packages/stack_data/core.py\", line 628, in executing_piece\n    return only(\n  File \"/databricks/python/lib/python3.9/site-packages/executing/executing.py\", line 164, in only\n    raise NotOneValueFound('Expected one value, found 0')\nexecuting.executing.NotOneValueFound: Expected one value, found 0\n"
     ]
    },
    {
     "output_type": "display_data",
     "data": {
      "text/plain": [
       ""
      ]
     },
     "metadata": {
      "application/vnd.databricks.v1+output": {
       "arguments": {},
       "data": "",
       "errorSummary": "<span class='ansi-red-fg'>AttributeError</span>: module 'pyspark.sql.functions' has no attribute 'nullif'",
       "errorTraceType": "ansi",
       "metadata": {},
       "type": "ipynbError"
      }
     },
     "output_type": "display_data"
    }
   ],
   "source": [
    "import pyspark.sql.functions as f\n",
    "df.select(f.nullif(df['name'], df['knownLanguages'])).collect()"
   ]
  },
  {
   "cell_type": "markdown",
   "metadata": {
    "application/vnd.databricks.v1+cell": {
     "cellMetadata": {},
     "inputWidgets": {},
     "nuid": "860b7115-092a-4a26-a620-06eee8f3b108",
     "showTitle": false,
     "tableResultSettingsMap": {},
     "title": ""
    }
   },
   "source": [
    "## replace"
   ]
  },
  {
   "cell_type": "code",
   "execution_count": 0,
   "metadata": {
    "application/vnd.databricks.v1+cell": {
     "cellMetadata": {
      "byteLimit": 2048000,
      "rowLimit": 10000
     },
     "inputWidgets": {},
     "nuid": "c1e0639c-7fb9-4510-9597-52b05f127404",
     "showTitle": false,
     "tableResultSettingsMap": {},
     "title": ""
    }
   },
   "outputs": [
    {
     "output_type": "display_data",
     "data": {
      "text/html": [
       "<style scoped>\n",
       "  .table-result-container {\n",
       "    max-height: 300px;\n",
       "    overflow: auto;\n",
       "  }\n",
       "  table, th, td {\n",
       "    border: 1px solid black;\n",
       "    border-collapse: collapse;\n",
       "  }\n",
       "  th, td {\n",
       "    padding: 5px;\n",
       "  }\n",
       "  th {\n",
       "    text-align: left;\n",
       "  }\n",
       "</style><div class='table-result-container'><table class='table-result'><thead style='background-color: white'><tr><th>imdb_name_id</th><th>name</th><th>birth_name</th><th>height</th><th>bio</th><th>birth_details</th><th>date_of_birth</th><th>place_of_birth</th><th>death_details</th><th>date_of_death</th><th>place_of_death</th><th>reason_of_death</th><th>spouses_string</th><th>spouses</th><th>divorces</th><th>spouses_with_children</th><th>children</th></tr></thead><tbody><tr><td>nm0000001</td><td>Fred Astaire</td><td>Frederic Austerlitz Jr.</td><td>177</td><td>Fred Astaire was born in Omaha, Nebraska, to Johanna (Geilus) and Fritz Austerlitz, a brewer. Fred entered show business at age 5. He was successful both in vaudeville and on Broadway in partnership with his sister, Adele Astaire. After Adele retired to marry in 1932, Astaire headed to Hollywood. Signed to RKO, he was loaned to MGM to appear in La danza di Venere (1933) before starting work on RKO's Carioca (1933). In the latter film, he began his highly successful partnership with Ginger Rogers, with whom he danced in 9 RKO pictures. During these years, he was also active in recording and radio. On film, Astaire later appeared opposite a number of partners through various studios. After a temporary retirement in 1945-7, during which he opened Fred Astaire Dance Studios, Astaire returned to film to star in more musicals through 1957. He subsequently performed a number of straight dramatic roles in film and TV.</td><td>May 10, 1899 in Omaha, Nebraska, USA</td><td>1899-05-10</td><td>Omaha, Nebraska, USA</td><td>June 22, 1987 in Los Angeles, California, USA  (pneumonia)</td><td>22.06.1987</td><td>Los Angeles, California, USA  </td><td>pneumonia</td><td>Robyn Smith  (27 June 1980 - 22 June 1987) (his death)Phyllis Livingston Potter  (12 July 1933 - 13 September 1954) (her death) (2 children)</td><td>2</td><td>0</td><td>1</td><td>2</td></tr><tr><td>nm0000002</td><td>Lauren Bacall</td><td>Betty Joan Perske</td><td>174</td><td>Lauren Bacall was born Betty Joan Perske on September 16, 1924, in New York City. She was the daughter of Natalie Weinstein-Bacal, a Romanian Jewish immigrant, and William Perske, who was born in New Jersey, to Polish Jewish parents. Her family was middle-class, with her father working as a salesman and her mother as a secretary. They divorced when she was five and she rarely saw her father after that.As a school girl, she originally wanted to be a dancer, but later switched gears to head into acting. She studied at the American Academy of Dramatic Arts in New York, after attending She was educated at Highland Manor, a private boarding school in Tarrytown, New York (through the generosity of wealthy uncles), and then at Julia Richman High School, which enabled her to get her feet wet in some off-Broadway productions.Out of school, she entered modeling and, because of her beauty, appeared on the cover of Harper's Bazaar, one of the most popular magazines in the US. The wife of famed director Howard Hawks spotted the picture in the publication and arranged with her husband to have Lauren take a screen test. As a result, which was entirely positive, she was given the part of Marie Browning in Acque del Sud (1944), a thriller opposite Humphrey Bogart, when she was just 19 years old. This not only set the tone for a fabulous career but also one of Hollywood's greatest love stories (she married Bogart in 1945). It was also the first of several Bogie-Bacall films.After 1945's L'agente confidenziale (1945), Lauren received second billing in Il grande sonno (1946) with Bogart. The mystery, in the role of Vivian Sternwood Rutledge, was a resounding success. Although she was making one film a year, each production would be eagerly awaited by the public. In 1947, again with her husband, Lauren starred in the thriller La fuga (1947). The film kept movie patrons on the edge of their seats. The following year, she starred with Bogart, Edward G. Robinson, and Lionel Barrymore in L'isola di corallo (1948). The crime drama was even more of a nail biter than her previous film.In 1950, Lauren starred in Le foglie d'oro (1950), a drama set in 1894. It was a film of note because she appeared without her husband - her co-star was Gary Cooper. In 1953, Lauren appeared in her first comedy as Schatze Page in Come sposare un milionario (1953). The film, with co-stars Marilyn Monroe and Betty Grable, was a smash hit all across the theaters of America.After filming La donna del destino (1957), which was released in 1957, Humphrey Bogart died on January 14 from throat cancer. Devastated at being a widow, Lauren returned to the silver screen with Dono d'amore (1958) in 1958 opposite Robert Stack. The production turned out to be a big disappointment. Undaunted, Lauren moved back to New York City and appeared in several Broadway plays to huge critical acclaim. She was enjoying acting before live audiences and the audiences in turn enjoyed her fine performances.Lauren was away from the big screen for five years, but she returned in 1964 to appear in Elettroshock (1964) and Donne v'insegno come si seduce un uomo (1964). The latter film was a comedy starring Henry Fonda and Tony Curtis. In 1966, Lauren starred in Detective's Story (1966) with Paul Newman and Julie Harris, which was one of former's signature films.Alternating her time between films and the stage, Lauren returned in 1974's Assassinio sull'Orient Express (1974). The film, based on Agatha Christie's best-selling book was a huge hit. It also garnered Ingrid Bergman her third Oscar. Actually, the huge star-studded cast helped to ensure its success. Two years later, in 1976, Lauren co-starred with John Wayne in Il pistolero (1976). The film was Wayne's last - he died from cancer in 1979.In 1981, she played an actress being stalked by a crazed admirer in Un'ombra nel buio (1981). The thriller was absolutely fascinating with Lauren in the lead role. After that production, Lauren was away from films again, this time for seven years. In the interim, she again appeared on the stages of Broadway. When she returned, it was for the filming of 1988's Mr. North (1988). After 1990's Misery non deve morire (1990) and several made for television films, Lauren appeared in 1996's Fuga dalla Casa Bianca (1996), a comedy romp with Jack Lemmon and James Garner as two ex-presidents and their escapades.Despite her age and failing health, she made a small-scale comeback in the English-language dub of Hayao Miyazaki's Il castello errante di Howl (2004) (Howl's Moving Castle, based on the young-adult novel by Diana Wynne Jones) as the Witch of the Waste, but acting endeavors for the beloved actress became increasingly rare. Lauren Bacall died on 12 August 2014, five weeks short of her 90th birthday.</td><td>September 16, 1924 in The Bronx, New York City, New York, USA</td><td>16.09.1924</td><td>The Bronx, New York City, New York, USA</td><td>August 12, 2014 in New York City, New York, USA  (stroke)</td><td>12.08.2014</td><td>New York City, New York, USA  </td><td>stroke</td><td>Jason Robards  (4 July 1961 - 10 September 1969) (divorced) (1 child)Humphrey Bogart  (21 May 1945 - 14 January 1957) (his death) (2 children)</td><td>2</td><td>1</td><td>2</td><td>3</td></tr><tr><td>nm0000003</td><td>Brigitte Bardot</td><td>Brigitte Bardot</td><td>166</td><td>Brigitte Bardot was born on September 28, 1934 in Paris, France. Her father had an engineering degree and worked with his father in the family business. Brigitte's mother encouraged her daughter to take up music and dance, and she proved to be very adept at it. By the time she was 15, Brigitte was trying a modeling career, and found herself in the French magazine Elle. Her incredible beauty readily apparent, Brigitte next tried films. In 1952, she appeared on screen for the first time as Javotte Lemoine in Le trou normand (1952). Two more films followed and it was also the same year she married Roger Vadim (the union lasted 3½ years). Capitalizing on her success in French films, Brigitte made her first American production in Atto d'amore (1953) with Kirk Douglas, but she continued to make films in France. Brigitte's explosive sexuality took the United States by storm, and the effect she had on millions of American men who had not seen a woman like her in a long, long time--if ever--was electric. Rise to the phrase sex kitten and fascination of her in the United States consisted of magazines photographs and dubbed over French films--good, bad or indifferent, her films drew audiences--mainly men--into theaters like lemmings. In 1965, she appeared as herself in the American-made Erasmo il lentigginoso (1965) with James Stewart (she only appeared in one scene). Just before she turned 40, Brigitte retired from movies after filming Colinot l'alzasottane (1973). She prefers life outside of stardom. While it enabled her to become internationally famous, it also carried with it annoyances. It was not anything for her to have fans enter her house or wander around the grounds of her home in the hopes of getting a glimpse of her or to take something that belonged to her. Paparazzi constantly hounded her with their cameras. She has been so soft-hearted that some people even have taken advantage of her generosity. After her life in the spotlight, Brigitte went on to become a leading spokesperson for animal rights and started the Foundation Brigitte Bardot dedicated solely to that cause. Her work in that realm is, perhaps, far greater than any film she could have made. Brigitte has been married to Bernard d'Ormale since 1992 and they reside in St. Tropez with their nearly 50 pets.</td><td>September 28, 1934 in Paris, France</td><td>28.09.1934</td><td>Paris, France</td><td>null</td><td>null</td><td>null</td><td>null</td><td>Bernard d'Ormale  (16 August 1992 - present)Gunter Sachs  (14 July 1966 - 3 July 1969) (divorced)Jacques Charrier  (18 June 1959 - 20 November 1962) (divorced) (1 child)Roger Vadim  (20 December 1952 - 6 December 1957) (divorced)</td><td>4</td><td>3</td><td>1</td><td>1</td></tr><tr><td>nm0000004</td><td>John Belushi</td><td>John Adam Belushi</td><td>170</td><td>John Belushi was born in Chicago, Illinois, USA, on January 24, 1949, to Agnes Demetri (Samaras) and Adam Anastos Belushi, a restaurant owner. His father was an Albanian immigrant, from Qytezë, and his mother was also of Albanian descent. He grew up in Wheaton, where the family moved when he was six. Though a young hellion in grade school, John became the perfect all-American boy during his high school years where he was co-captain of the Wheaton Central High School football team and was elected homecoming king his senior year. He also developed an interest in acting and appeared in the high school variety show. Encouraged by his drama teacher, John decided to put aside his plans to become a football coach to pursue a career in acting.After graduation in 1967, John performed in summer stock in rural Indiana in a variety of roles from Cardinal Wolsey in Anne of a Thousand Days to a comic detective in Ten Little Indians. In the fall of his freshman year at the University of Wisconsin at Whitewater, John changed his image into a bad-boy appearance by growing his hair long and began to have problems with discipline and structure of attending classes.Dropping out of Wisconsin, John spent the next two years at the College of DuPage, a junior college a few miles from his parents' Wheaton home, where his father began persuading him to become a partner in his restaurant, but John still preferred acting. While attending DuPage, John helped found the West Compass Players, an improv comedy troupe patterned after Chicago's famous Second City ensemble.In 1971, John made the leap to Second City itself where he performed in various on-stage comic performances with others, who included Harold Ramis and Joe Flaherty. John loved his life at Second City where he performed six nights a week, perfecting the physical gonzo style of comedy he later made famous.A year later, John and his live-in girlfriend from his high school years, Judith Belushi-Pisano, moved to New York because John had joined the cast of National Lampoon's Lemmings, an off-Broadway rock musical revue that was originally booked for a six-week run but played to full crowds for nearly 10 months.In 1973, John was hired as a writer for the syndicated National Lampoon's Radio Hour which became the National Lampoon Show in 1975. John's big break came that same year when he joined the ground-breaking TV variety series Il Saturday Night Live (1975) which made him a star. The unpredictable, aggressively physical style of humor that he began on Second City flowered on SNL.In 1978, while still working on Il Saturday Night Live (1975), John appeared in the movie Verso il sud (1978) which starred and was directed by Jack Nicholson. It was here that director John Landis noticed John and decided to cast him in his movie National Lampoon's Animal House (1978). John's minor role as the notorious, beer-swilling Bluto made it a box-office smash and the year's top grossing comedy. Despite appearing in only a dozen scenes, John's performance stole the movie, which portrays college fraternity shenanigans at a small college set in the year 1962.In 1979, John along with fellow SNL regular Dan Aykroyd quit the series to pursue movie projects. John and Dan Aykroyd appeared in minor roles in Steven Spielberg's financially unsuccessful 1941 - Allarme a Hollywood (1979) and, the following year, in John Landis' The Blues Brothers - I fratelli Blues (1980). Around this time, John's drug use began escalating. Cocaine, which was ubiquitous in show-business circles in the 1970's, became his drug of choice. After he first experimented with cocaine in the mid 1970s, John almost immediately became addicted to it. His frequent cocaine sniffing binges became a source of friction between him and Judy, whom he married in 1976.John's love for blues and soul music inspired the Blues Brothers. He and Aykroyd first appeared as Joliet Jake and Elwood Blues, a pair of white soul men dressed in black suits, skinny ties, fedora hats and Rayban sunglasses, as a warm-up act before the telecasts of Il Saturday Night Live (1975). Building on the success of their acts and the release of their album A Briefcase Full of Blues, John and Dan Aykroyd starred in the movie, which gave John a chance to act with his favorite musical heroes including Ray Charles, James Brown and Aretha Franklin.Although John's reputation for being an off-screen party animal is legendary, his generous side is less well known. Using some of his money, he bought his father a ranch outside San Diego for him to live. John helped set up some of his Chicago friends with their own businesses and even financially helped his younger brother, Jim Belushi, who followed his older brother's path to both Second City and Il Saturday Night Live (1975).In 1981, John appeared in the movie Chiamami Aquila (1981), playing a hard-nosed Chicago newspaperman who finds romance in Colorado with eagle expert Blair Brown. That same year, John and Dan Aykroyd appeared again in the movie I vicini di casa (1981), which gave them a chance to reverse roles, with John playing a straight-arrow family man whose life is turned upside down when a wild family man (Aykroyd) moves in next door.In January 1982, John began work on the screenplay for another movie to be titled Noble Rot. Also, John had checked into a bungalow at the Chateau Marmont, a popular celebrity hotel in Los Angeles. John's drug use had been steadily increasing for over a year now, which alarmed his wife and friends, but he continued to promise Judy that he would quit someday. On March 5, 1982, John Belushi was found dead in his hotel room at the age of 33. The local coroner gave the cause of death as a lethal injection of cocaine and heroin. Several years later, John's drug dealing/drug user companion during his final weeks, Cathy Smith, was tried and sentenced to three years in prison for supplying John with the drugs. Close friend James Taylor sang That Lonesome Road at a memorial service at Martha's Vineyard cemetery where John was buried.</td><td>January 24, 1949 in Chicago, Illinois, USA</td><td>24.01.1949</td><td>Chicago, Illinois, USA</td><td>March 5, 1982 in Hollywood, Los Angeles, California, USA  (acute cocaine and heroin intoxication)</td><td>05.03.1982</td><td>Hollywood, Los Angeles, California, USA  </td><td>acute cocaine and heroin intoxication</td><td>Judith Belushi-Pisano  (31 December 1976 - 5 March 1982) (his death)</td><td>1</td><td>0</td><td>0</td><td>0</td></tr><tr><td>nm0000005</td><td>Ingmar Bergman</td><td>Ernst Ingmar Bergman</td><td>179</td><td>Ernst Ingmar Bergman was born July 14, 1918, the son of a priest. The film and T.V. series, Con le migliori intenzioni (1992) is biographical and shows the early marriage of his parents. The film 'Söndagsbarn' depicts a bicycle journey with his father. In the miniseries Conversazioni private (1996) is the trilogy closed. Here, as in 'Den Goda Viljan' Pernilla August play his mother. Note that all three movies are not always full true biographical stories. He began his career early with a puppet theatre which he, his sister and their friends played with. But he was the manager. Strictly professional he begun writing in 1941. He had written a play called 'Kaspers död' (A.K.A. 'Kaspers Death') which was produced the same year. It became his entrance into the movie business as Stina Bergman (not a close relative), from the company S.F. (Swedish Filmindustry), had seen the play and thought that there must be some dramatic talent in young Ingmar. His first job was to save other more famous writers' poor scripts. Under one of that script-saving works he remembered that he had written a novel about his last year as a student. He took the novel, did the save-poor-script job first, then wrote a screenplay on his own novel. When he went back to S.F., he delivered two scripts rather than one. The script was Spasimo (1944) and was the fist Bergman screenplay that was put into film (by Alf Sjöberg). It was also in that movie Bergman did his first professional film-director job. Because Alf Sjöberg was busy, Bergman got the order to shoot the last sequence of the film. Ingmar Bergman is the father of Daniel Bergman, director, and Mats Bergman, actor at the Swedish Royal Dramatic Theater. Ingmar Bergman was also C.E.O. of the same theatre between 1963-1966, where he hired almost every professional actor in Sweden. In 1976 he had a famous tax problem. Bergman had trusted other people to advise him on his finances, but it turned out to be very bad advice. Bergman had to leave the country immediately, and so he went to Germany. A few years later he returned to Sweden and made his last theatrical film Fanny & Alexander (1982) (A.K.A. 'Fanny and Alexander'). In later life he retired from movie directing, but still wrote scripts for film and T.V. and directed plays at the Swedish Royal Dramatic Theatre for many years. He died peacefully in his sleep on July 30, 2007.</td><td>July 14, 1918 in Uppsala, Uppsala län, Sweden</td><td>14.07.1918</td><td>Uppsala, Uppsala län, Sweden</td><td>July 30, 2007 in Fårö, Gotlands län, Sweden  (natural causes)</td><td>30.07.2007</td><td>Fårö, Gotlands län, Sweden  </td><td>natural causes</td><td>Ingrid Bergman  (11 November 1971 - 20 May 1995) (her death) (1 child)Käbi Laretei  (1959 - 1969) (divorced) (1 child)Gun Grut  (1951 - 1959) (divorced) (1 child)Ellen Bergman  (22 July 1945 - 1950) (divorced) (4 children)Else Fisher  (25 March 1943 - 1945) (divorced) (1 child)</td><td>5</td><td>4</td><td>5</td><td>8</td></tr><tr><td>nm0000006</td><td>Ingrid Bergman</td><td>Ingrid Bergman</td><td>178</td><td>Ingrid Bergman was one of the greatest actresses from Hollywood's lamented Golden Era. Her natural and unpretentious beauty and her immense acting talent made her one of the most celebrated figures in the history of American cinema. Bergman is also one of the most Oscar-awarded actresses, tied with Meryl Streep, both second only to Katharine Hepburn.Ingrid Bergman was born on August 29, 1915 in Stockholm, Sweden, to a German mother, Frieda Henrietta (Adler), and a Swedish father, Justus Samuel Bergman, an artist and photographer. Her mother died when she was only two and her father died when she was 12. She went to live with an elderly uncle.The woman who would be one of the top stars in Hollywood in the 1940s had decided to become an actress after finishing her formal schooling. She had had a taste of acting at age 17 when she played an uncredited role of a girl standing in line in the Swedish film Landskamp (1932) in 1932 - not much of a beginning for a girl who would be known as Sweden's illustrious gift to Hollywood. Her parents died when she was just a girl and the uncle she lived with didn't want to stand in the way of Ingrid's dream. The next year she enrolled at the Royal Dramatic Theatre School in Stockholm but decided that stage acting was not for her. It would be three more years before she would have another chance at a film. When she did, it was more than just a bit part. The film in question was Munkbrogreven (1935), where she had a speaking part as Elsa Edlund. After several films that year that established her as a class actress, Ingrid appeared in La sposa scomparsa (1936) as Anita Hoffman. Luckily for her, American producer David O. Selznick saw it and sent a representative from Selznick International Pictures to gain rights to the story and have Ingrid signed to a contract. Once signed, she came to California and starred in United Artists' 1939 remake of her 1936 film, Intermezzo (1939), reprising her original role. The film was a hit and so was Ingrid.Her beauty was unlike anything the movie industry had seen before and her acting was superb. Hollywood was about to find out that they had the most versatile actress the industry had ever seen. Here was a woman who truly cared about the craft she represented. The public fell in love with her. Ingrid was under contract to go back to Sweden to film Solo una notte (1939) in 1939 and Juninatten (1940) in 1940. Back in the US she appeared in three films, all well-received. She made only one film in 1942, but it was the classic Casablanca (1942) opposite Humphrey Bogart.Ingrid was choosing her roles well. In 1943 she was nominated for an Academy Award for her role in Per chi suona la campana (1943), the only film she made that year. The critics and public didn't forget her when she made Angoscia (1944) the following year--her role of Paula Alquist got her the Oscar for Best Actress. In 1945 Ingrid played in Io ti salverò (1945), Saratoga (1945) and Le campane di Santa Maria (1945), for which she received her third Oscar nomination for her role of Sister Benedict. She made no films in 1947, but bounced back with a fourth nomination for Giovanna d'Arco (1948). In 1949 she went to Italy to film Stromboli (Terra di Dio) (1950), directed by Roberto Rossellini. She fell in love with him and left her husband, Dr. Peter Lindstrom, and daughter, Pia Lindström. America's moral guardians in the press and the pulpits were outraged. She was pregnant and decided to remain in Italy, where her son was born. In 1952 Ingrid had twins, Isotta and Isabella Rossellini, who became an outstanding actress in her own right, as did Pia.Ingrid continued to make films in Italy and finally returned to Hollywood in 1956 in the title role in Anastasia (1956), which was filmed in England. For this she won her second Academy Award. She had scarcely missed a beat. Ingrid continued to bounce between Europe and the US making movies, and fine ones at that. A film with Ingrid Bergman was sure to be a quality production. In her final big-screen performance in 1978's Sinfonia d'autunno (1978) she had her final Academy Award nomination. Though she didn't win, many felt it was the most sterling performance of her career. Ingrid retired, but not before she gave an outstanding performance in the mini-series Una donna di nome Golda (1982), a film about Israeli prime minister Golda Meir. For this she won an Emmy Award as Best Actress, but, unfortunately, she did not live to see the fruits of her labor.Ingrid died from cancer on August 29, 1982, her 67th birthday, in London, England.</td><td>August 29, 1915 in Stockholm, Sweden</td><td>29.08.1915</td><td>Stockholm, Sweden</td><td>August 29, 1982 in Chelsea, London, England, UK  (lymphoma complications following a breast cancer operation)</td><td>29.08.1982</td><td>Chelsea, London, England, UK  </td><td>lymphoma complications following a breast cancer operation</td><td>Lars Schmidt  (21 December 1958 - 1978) (divorced)Roberto Rossellini  (24 May 1950 - 7 November 1957) (divorced) (3 children)Dr. Petter Aron Lindström  (10 July 1937 - 9 February 1950) (divorced) (1 child)</td><td>3</td><td>3</td><td>2</td><td>4</td></tr><tr><td>nm0000007</td><td>Humphrey Bogart</td><td>Humphrey DeForest Bogart</td><td>173</td><td>Humphrey DeForest Bogart was born in New York City, New York, to Maud Humphrey, a famed magazine illustrator and suffragette, and Belmont DeForest Bogart, a moderately wealthy surgeon (who was secretly addicted to opium). Bogart was educated at Trinity School, NYC, and was sent to Phillips Academy in Andover, Massachusetts, in preparation for medical studies at Yale. He was expelled from Phillips and joined the U.S. Naval Reserve. From 1920 to 1922, he managed a stage company owned by family friend William A. Brady (the father of actress Alice Brady), performing a variety of tasks at Brady's film studio in New York. He then began regular stage performances. Alexander Woollcott described his acting in a 1922 play as inadequate. In 1930, he gained a contract with Fox, his feature film debut in a ten-minute short, Broadway's Like That (1930), co-starring Ruth Etting and Joan Blondell. Fox released him after two years. After five years of stage and minor film roles, he had his breakthrough role in La foresta pietrificata (1936) from Warner Bros. He won the part over Edward G. Robinson only after the star, Leslie Howard, threatened Warner Bros. that he would quit unless Bogart was given the key role of Duke Mantee, which he had played in the Broadway production with Howard. The film was a major success and led to a long-term contract with Warner Bros. From 1936 to 1940, Bogart appeared in 28 films, usually as a gangster, twice in Westerns and even a horror film. His landmark year was 1941 (often capitalizing on parts George Raft had stupidly rejected) with roles in classics such as Una pallottola per Roy (1941) and as Sam Spade in one of his most fondly remembered films, Il mistero del falco (1941). These were followed by Casablanca (1942), Il grande sonno (1946), and L'isola di corallo (1948). Bogart, despite his erratic education, was incredibly well-read and he favored writers and intellectuals within his small circle of friends. In 1947, he joined wife Lauren Bacall and other actors protesting the House Un-American Activities Committee witch hunts. He also formed his own production company, and the next year made Il tesoro della Sierra Madre (1948). Bogie won the best actor Academy Award for La regina d'Africa (1951) and was nominated for Casablanca (1942) and as Captain Queeg in L'ammutinamento del Caine (1954), a film made when he was already seriously ill. He died in his sleep at his Hollywood home following surgeries and a battle with throat cancer.</td><td>December 25, 1899 in New York City, New York, USA</td><td>1899-12-25</td><td>New York City, New York, USA</td><td>January 14, 1957 in Los Angeles, California, USA  (esophageal cancer)</td><td>14.01.1957</td><td>Los Angeles, California, USA  </td><td>esophageal cancer</td><td>Lauren Bacall  (21 May 1945 - 14 January 1957) (his death) (2 children)Mayo Methot  (21 August 1938 - 10 May 1945) (divorced)Mary Philips  (3 April 1928 - 11 August 1938) (divorced)Helen Menken  (20 May 1926 - 18 November 1927) (divorced)</td><td>4</td><td>3</td><td>1</td><td>2</td></tr><tr><td>nm0000009</td><td>Richard Burton</td><td>Richard Walter Jenkins</td><td>178</td><td>Probably best-remembered for his turbulent personal life with Elizabeth Taylor (whom he married twice), Richard Burton was nonetheless also regarded as an often brilliant British actor of the post-WWII period.Burton was born Richard Walter Jenkins in 1925 into a Welsh (Cymraeg)-speaking family in Pontrhydyfen to Edith Maude (Thomas) and Richard Walter Jenkins, a coal miner. The twelfth of thirteen children, his mother died while he was a toddler and his father later abandoned the family, leaving him to be raised by an elder sister, Cecilia. An avid fan of Shakespeare, poetry and reading, he once said home is where the books are. He received a scholarship to Oxford University to study acting and made his first stage appearance in 1944.His first film appearances were in routine British movies such as The Last Days of Dolwyn (1949), Tempesta a Liverpool (1950) and La quinta offensiva (1951). Then he started to appear in Hollywood movies such as Mia cugina Rachele (1952), La tunica (1953) and Alessandro il grande (1956), added to this he was also spending considerable time in stage productions, both in the UK and USA, often to splendid reviews. The late 1950s was an exciting and inventive time in UK cinema, often referred to as the British New Wave, and Burton was right in the thick of things, and showcased a sensational performance in I giovani arrabbiati (1959). He also appeared with a cavalcade of international stars in the World War II magnum opus Il giorno più lungo (1962), and then onto arguably his most notorious role as that of Marc Antony opposite Elizabeth Taylor in the hugely expensive Cleopatra (1963). This was, of course, the film that kick-started their fiery and passionate romance (plus two marriages), and the two of them appeared in several productions over the next few years including International Hotel (1963), Castelli di sabbia (1965), the dynamic Chi ha paura di Virginia Woolf? (1966) and La bisbetica domata (1967), as well as box office flops like I commedianti (1967). Burton did better when he was off on his own giving higher caliber performances, such as those in Becket e il suo re (1964), the film adaptation of the Tennessee Williams play La notte dell'iguana (1964), the brilliant espionage thriller La spia che venne dal freddo (1965) and alongside Clint Eastwood in the World War II action adventure film Dove osano le aquile (1968).His audience appeal began to decline somewhat by the end of the 1960s as fans turned to younger, more virile male stars, however Burton was superb in Anna dei mille giorni (1969) as King Henry VIII, he put on a reasonable show in the boring Attacco a Rommel (1971), was over the top in the awful Il mascalzone (1971), gave sleepwalking performances in Una faccia di c... (1972) and Barbablù (1972), and was wildly miscast in the ludicrous L'assassinio di Trotsky (1972).By the early 1970s, quality male lead roles were definitely going to other stars, and Burton found himself appearing in some movies of dubious quality, just to pay the bills and support family, including Divorzia lui divorzia lei (1973) (his last on-screen appearance with Taylor), L'uomo del clan (1974), Breve incontro (1974), Jackpot (1974) (which was never completed) and L'esorcista II - L'eretico (1977). However, he won another Oscar nomination for his excellent performance as a concerned psychiatrist in Equus (1977). He appeared with fellow acting icons Richard Harris and Roger Moore in I 4 dell'oca selvaggia (1978) about mercenaries in South Africa. While the film had a modest initial run, over the past thirty-five years it has picked up quite a cult following. His final performances were as the wily inquisitor O'Brien in the most recent film version of George Orwell's dystopian Orwell 1984 (1984), in which he won good reviews, and in the TV mini series Ellis Island (1984). He passed away on August 5, 1984 in Celigny, Switzerland from a cerebral hemorrhage.</td><td>November 10, 1925 in Pontrhydyfen, Wales, UK</td><td>10.11.1925</td><td>Pontrhydyfen, Wales, UK</td><td>August 5, 1984 in Céligny, Geneva, Switzerland  (cerebral hemorrhage)</td><td>05.08.1984</td><td>Céligny, Geneva, Switzerland  </td><td>cerebral hemorrhage</td><td>Sally Burton  (3 July 1983 - 5 August 1984) (his death)Susan Hunt  (21 August 1976 - 27 February 1983) (divorced)Elizabeth Taylor  (10 October 1975 - 29 July 1976) (divorced)Elizabeth Taylor  (15 March 1964 - 26 June 1974) (divorced) (1 child)Sybil Williams  (5 February 1949 - 5 December 1963) (divorced) (2 children)</td><td>5</td><td>4</td><td>2</td><td>3</td></tr><tr><td>nm0000010</td><td>James Cagney</td><td>James Francis Cagney</td><td>165</td><td>One of Hollywood's preeminent male stars of all time, James Cagney was also an accomplished dancer and easily played light comedy. James Francis Cagney was born on the Lower East Side of Manhattan in New York City, to Carolyn (Nelson) and James Francis Cagney, Sr., who was a bartender and amateur boxer. Cagney was of Norwegian (from his maternal grandfather) and Irish descent. Ending three decades on the screen, he retired to his farm in Stanfordville, New York (some 77 miles/124 km. north of his New York City birthplace), after starring in Billy Wilder's Uno, due, tre! (1961). He emerged from retirement to star in the 1981 screen adaptation of E.L. Doctorow's novel Ragtime (Ragtime (1981)), in which he was reunited with his frequent co-star of the 1930s, Pat O'Brien, and which was his last theatrical film and O'Brien's as well). Cagney's final performance came in the title role of the made-for-TV movie Terrible Joe Moran (1984), in which he played opposite Art Carney.</td><td>July 17, 1899 in New York City, New York, USA</td><td>1899-07-17</td><td>New York City, New York, USA</td><td>March 30, 1986 in Stanfordville, New York, USA  (heart attack following illness from diabetes)</td><td>30.03.1986</td><td>Stanfordville, New York, USA  </td><td>heart attack following illness from diabetes</td><td>Frances Cagney  (28 September 1922 - 30 March 1986) (his death) (2 children)</td><td>1</td><td>0</td><td>1</td><td>2</td></tr><tr><td>nm0000011</td><td>Gary Cooper</td><td>Frank James Cooper</td><td>191</td><td>Born to Alice Cooper and Charles Cooper. Gary attended school at Dunstable school England, Helena Montana and Grinnell College, Grinnell, Iowa (then called Iowa College). His first stage experience was during high school and college. Afterwards, he worked as an extra for one year before getting a part in a two-reeler by the independent producer Hans Tiesler . Eileen Sedgwick was his first leading lady. He then appeared in Fiore del deserto (1926) for United Artists before moving to Paramount. While there he appeared in a small part in Ali (1927), Cosetta (1927), and other films.</td><td>May 7, 1901 in Helena, Montana, USA</td><td>07.05.1901</td><td>Helena, Montana, USA</td><td>May 13, 1961 in Beverly Hills, Los Angeles, California, USA  (prostate cancer)</td><td>13.05.1961</td><td>Beverly Hills, Los Angeles, California, USA  </td><td>prostate cancer</td><td>Sandra Shaw  (15 December 1933 - 13 May 1961) (his death) (1 child)</td><td>1</td><td>0</td><td>1</td><td>1</td></tr></tbody></table></div>"
      ]
     },
     "metadata": {
      "application/vnd.databricks.v1+output": {
       "addedWidgets": {},
       "aggData": [],
       "aggError": "",
       "aggOverflow": false,
       "aggSchema": [],
       "aggSeriesLimitReached": false,
       "aggType": "",
       "arguments": {},
       "columnCustomDisplayInfos": {},
       "data": [
        [
         "nm0000001",
         "Fred Astaire",
         "Frederic Austerlitz Jr.",
         177,
         "Fred Astaire was born in Omaha, Nebraska, to Johanna (Geilus) and Fritz Austerlitz, a brewer. Fred entered show business at age 5. He was successful both in vaudeville and on Broadway in partnership with his sister, Adele Astaire. After Adele retired to marry in 1932, Astaire headed to Hollywood. Signed to RKO, he was loaned to MGM to appear in La danza di Venere (1933) before starting work on RKO's Carioca (1933). In the latter film, he began his highly successful partnership with Ginger Rogers, with whom he danced in 9 RKO pictures. During these years, he was also active in recording and radio. On film, Astaire later appeared opposite a number of partners through various studios. After a temporary retirement in 1945-7, during which he opened Fred Astaire Dance Studios, Astaire returned to film to star in more musicals through 1957. He subsequently performed a number of straight dramatic roles in film and TV.",
         "May 10, 1899 in Omaha, Nebraska, USA",
         "1899-05-10",
         "Omaha, Nebraska, USA",
         "June 22, 1987 in Los Angeles, California, USA  (pneumonia)",
         "22.06.1987",
         "Los Angeles, California, USA  ",
         "pneumonia",
         "Robyn Smith  (27 June 1980 - 22 June 1987) (his death)Phyllis Livingston Potter  (12 July 1933 - 13 September 1954) (her death) (2 children)",
         2,
         0,
         1,
         2
        ],
        [
         "nm0000002",
         "Lauren Bacall",
         "Betty Joan Perske",
         174,
         "Lauren Bacall was born Betty Joan Perske on September 16, 1924, in New York City. She was the daughter of Natalie Weinstein-Bacal, a Romanian Jewish immigrant, and William Perske, who was born in New Jersey, to Polish Jewish parents. Her family was middle-class, with her father working as a salesman and her mother as a secretary. They divorced when she was five and she rarely saw her father after that.As a school girl, she originally wanted to be a dancer, but later switched gears to head into acting. She studied at the American Academy of Dramatic Arts in New York, after attending She was educated at Highland Manor, a private boarding school in Tarrytown, New York (through the generosity of wealthy uncles), and then at Julia Richman High School, which enabled her to get her feet wet in some off-Broadway productions.Out of school, she entered modeling and, because of her beauty, appeared on the cover of Harper's Bazaar, one of the most popular magazines in the US. The wife of famed director Howard Hawks spotted the picture in the publication and arranged with her husband to have Lauren take a screen test. As a result, which was entirely positive, she was given the part of Marie Browning in Acque del Sud (1944), a thriller opposite Humphrey Bogart, when she was just 19 years old. This not only set the tone for a fabulous career but also one of Hollywood's greatest love stories (she married Bogart in 1945). It was also the first of several Bogie-Bacall films.After 1945's L'agente confidenziale (1945), Lauren received second billing in Il grande sonno (1946) with Bogart. The mystery, in the role of Vivian Sternwood Rutledge, was a resounding success. Although she was making one film a year, each production would be eagerly awaited by the public. In 1947, again with her husband, Lauren starred in the thriller La fuga (1947). The film kept movie patrons on the edge of their seats. The following year, she starred with Bogart, Edward G. Robinson, and Lionel Barrymore in L'isola di corallo (1948). The crime drama was even more of a nail biter than her previous film.In 1950, Lauren starred in Le foglie d'oro (1950), a drama set in 1894. It was a film of note because she appeared without her husband - her co-star was Gary Cooper. In 1953, Lauren appeared in her first comedy as Schatze Page in Come sposare un milionario (1953). The film, with co-stars Marilyn Monroe and Betty Grable, was a smash hit all across the theaters of America.After filming La donna del destino (1957), which was released in 1957, Humphrey Bogart died on January 14 from throat cancer. Devastated at being a widow, Lauren returned to the silver screen with Dono d'amore (1958) in 1958 opposite Robert Stack. The production turned out to be a big disappointment. Undaunted, Lauren moved back to New York City and appeared in several Broadway plays to huge critical acclaim. She was enjoying acting before live audiences and the audiences in turn enjoyed her fine performances.Lauren was away from the big screen for five years, but she returned in 1964 to appear in Elettroshock (1964) and Donne v'insegno come si seduce un uomo (1964). The latter film was a comedy starring Henry Fonda and Tony Curtis. In 1966, Lauren starred in Detective's Story (1966) with Paul Newman and Julie Harris, which was one of former's signature films.Alternating her time between films and the stage, Lauren returned in 1974's Assassinio sull'Orient Express (1974). The film, based on Agatha Christie's best-selling book was a huge hit. It also garnered Ingrid Bergman her third Oscar. Actually, the huge star-studded cast helped to ensure its success. Two years later, in 1976, Lauren co-starred with John Wayne in Il pistolero (1976). The film was Wayne's last - he died from cancer in 1979.In 1981, she played an actress being stalked by a crazed admirer in Un'ombra nel buio (1981). The thriller was absolutely fascinating with Lauren in the lead role. After that production, Lauren was away from films again, this time for seven years. In the interim, she again appeared on the stages of Broadway. When she returned, it was for the filming of 1988's Mr. North (1988). After 1990's Misery non deve morire (1990) and several made for television films, Lauren appeared in 1996's Fuga dalla Casa Bianca (1996), a comedy romp with Jack Lemmon and James Garner as two ex-presidents and their escapades.Despite her age and failing health, she made a small-scale comeback in the English-language dub of Hayao Miyazaki's Il castello errante di Howl (2004) (Howl's Moving Castle, based on the young-adult novel by Diana Wynne Jones) as the Witch of the Waste, but acting endeavors for the beloved actress became increasingly rare. Lauren Bacall died on 12 August 2014, five weeks short of her 90th birthday.",
         "September 16, 1924 in The Bronx, New York City, New York, USA",
         "16.09.1924",
         "The Bronx, New York City, New York, USA",
         "August 12, 2014 in New York City, New York, USA  (stroke)",
         "12.08.2014",
         "New York City, New York, USA  ",
         "stroke",
         "Jason Robards  (4 July 1961 - 10 September 1969) (divorced) (1 child)Humphrey Bogart  (21 May 1945 - 14 January 1957) (his death) (2 children)",
         2,
         1,
         2,
         3
        ],
        [
         "nm0000003",
         "Brigitte Bardot",
         "Brigitte Bardot",
         166,
         "Brigitte Bardot was born on September 28, 1934 in Paris, France. Her father had an engineering degree and worked with his father in the family business. Brigitte's mother encouraged her daughter to take up music and dance, and she proved to be very adept at it. By the time she was 15, Brigitte was trying a modeling career, and found herself in the French magazine Elle. Her incredible beauty readily apparent, Brigitte next tried films. In 1952, she appeared on screen for the first time as Javotte Lemoine in Le trou normand (1952). Two more films followed and it was also the same year she married Roger Vadim (the union lasted 3½ years). Capitalizing on her success in French films, Brigitte made her first American production in Atto d'amore (1953) with Kirk Douglas, but she continued to make films in France. Brigitte's explosive sexuality took the United States by storm, and the effect she had on millions of American men who had not seen a woman like her in a long, long time--if ever--was electric. Rise to the phrase sex kitten and fascination of her in the United States consisted of magazines photographs and dubbed over French films--good, bad or indifferent, her films drew audiences--mainly men--into theaters like lemmings. In 1965, she appeared as herself in the American-made Erasmo il lentigginoso (1965) with James Stewart (she only appeared in one scene). Just before she turned 40, Brigitte retired from movies after filming Colinot l'alzasottane (1973). She prefers life outside of stardom. While it enabled her to become internationally famous, it also carried with it annoyances. It was not anything for her to have fans enter her house or wander around the grounds of her home in the hopes of getting a glimpse of her or to take something that belonged to her. Paparazzi constantly hounded her with their cameras. She has been so soft-hearted that some people even have taken advantage of her generosity. After her life in the spotlight, Brigitte went on to become a leading spokesperson for animal rights and started the Foundation Brigitte Bardot dedicated solely to that cause. Her work in that realm is, perhaps, far greater than any film she could have made. Brigitte has been married to Bernard d'Ormale since 1992 and they reside in St. Tropez with their nearly 50 pets.",
         "September 28, 1934 in Paris, France",
         "28.09.1934",
         "Paris, France",
         null,
         null,
         null,
         null,
         "Bernard d'Ormale  (16 August 1992 - present)Gunter Sachs  (14 July 1966 - 3 July 1969) (divorced)Jacques Charrier  (18 June 1959 - 20 November 1962) (divorced) (1 child)Roger Vadim  (20 December 1952 - 6 December 1957) (divorced)",
         4,
         3,
         1,
         1
        ],
        [
         "nm0000004",
         "John Belushi",
         "John Adam Belushi",
         170,
         "John Belushi was born in Chicago, Illinois, USA, on January 24, 1949, to Agnes Demetri (Samaras) and Adam Anastos Belushi, a restaurant owner. His father was an Albanian immigrant, from Qytezë, and his mother was also of Albanian descent. He grew up in Wheaton, where the family moved when he was six. Though a young hellion in grade school, John became the perfect all-American boy during his high school years where he was co-captain of the Wheaton Central High School football team and was elected homecoming king his senior year. He also developed an interest in acting and appeared in the high school variety show. Encouraged by his drama teacher, John decided to put aside his plans to become a football coach to pursue a career in acting.After graduation in 1967, John performed in summer stock in rural Indiana in a variety of roles from Cardinal Wolsey in Anne of a Thousand Days to a comic detective in Ten Little Indians. In the fall of his freshman year at the University of Wisconsin at Whitewater, John changed his image into a bad-boy appearance by growing his hair long and began to have problems with discipline and structure of attending classes.Dropping out of Wisconsin, John spent the next two years at the College of DuPage, a junior college a few miles from his parents' Wheaton home, where his father began persuading him to become a partner in his restaurant, but John still preferred acting. While attending DuPage, John helped found the West Compass Players, an improv comedy troupe patterned after Chicago's famous Second City ensemble.In 1971, John made the leap to Second City itself where he performed in various on-stage comic performances with others, who included Harold Ramis and Joe Flaherty. John loved his life at Second City where he performed six nights a week, perfecting the physical gonzo style of comedy he later made famous.A year later, John and his live-in girlfriend from his high school years, Judith Belushi-Pisano, moved to New York because John had joined the cast of National Lampoon's Lemmings, an off-Broadway rock musical revue that was originally booked for a six-week run but played to full crowds for nearly 10 months.In 1973, John was hired as a writer for the syndicated National Lampoon's Radio Hour which became the National Lampoon Show in 1975. John's big break came that same year when he joined the ground-breaking TV variety series Il Saturday Night Live (1975) which made him a star. The unpredictable, aggressively physical style of humor that he began on Second City flowered on SNL.In 1978, while still working on Il Saturday Night Live (1975), John appeared in the movie Verso il sud (1978) which starred and was directed by Jack Nicholson. It was here that director John Landis noticed John and decided to cast him in his movie National Lampoon's Animal House (1978). John's minor role as the notorious, beer-swilling Bluto made it a box-office smash and the year's top grossing comedy. Despite appearing in only a dozen scenes, John's performance stole the movie, which portrays college fraternity shenanigans at a small college set in the year 1962.In 1979, John along with fellow SNL regular Dan Aykroyd quit the series to pursue movie projects. John and Dan Aykroyd appeared in minor roles in Steven Spielberg's financially unsuccessful 1941 - Allarme a Hollywood (1979) and, the following year, in John Landis' The Blues Brothers - I fratelli Blues (1980). Around this time, John's drug use began escalating. Cocaine, which was ubiquitous in show-business circles in the 1970's, became his drug of choice. After he first experimented with cocaine in the mid 1970s, John almost immediately became addicted to it. His frequent cocaine sniffing binges became a source of friction between him and Judy, whom he married in 1976.John's love for blues and soul music inspired the Blues Brothers. He and Aykroyd first appeared as Joliet Jake and Elwood Blues, a pair of white soul men dressed in black suits, skinny ties, fedora hats and Rayban sunglasses, as a warm-up act before the telecasts of Il Saturday Night Live (1975). Building on the success of their acts and the release of their album A Briefcase Full of Blues, John and Dan Aykroyd starred in the movie, which gave John a chance to act with his favorite musical heroes including Ray Charles, James Brown and Aretha Franklin.Although John's reputation for being an off-screen party animal is legendary, his generous side is less well known. Using some of his money, he bought his father a ranch outside San Diego for him to live. John helped set up some of his Chicago friends with their own businesses and even financially helped his younger brother, Jim Belushi, who followed his older brother's path to both Second City and Il Saturday Night Live (1975).In 1981, John appeared in the movie Chiamami Aquila (1981), playing a hard-nosed Chicago newspaperman who finds romance in Colorado with eagle expert Blair Brown. That same year, John and Dan Aykroyd appeared again in the movie I vicini di casa (1981), which gave them a chance to reverse roles, with John playing a straight-arrow family man whose life is turned upside down when a wild family man (Aykroyd) moves in next door.In January 1982, John began work on the screenplay for another movie to be titled Noble Rot. Also, John had checked into a bungalow at the Chateau Marmont, a popular celebrity hotel in Los Angeles. John's drug use had been steadily increasing for over a year now, which alarmed his wife and friends, but he continued to promise Judy that he would quit someday. On March 5, 1982, John Belushi was found dead in his hotel room at the age of 33. The local coroner gave the cause of death as a lethal injection of cocaine and heroin. Several years later, John's drug dealing/drug user companion during his final weeks, Cathy Smith, was tried and sentenced to three years in prison for supplying John with the drugs. Close friend James Taylor sang That Lonesome Road at a memorial service at Martha's Vineyard cemetery where John was buried.",
         "January 24, 1949 in Chicago, Illinois, USA",
         "24.01.1949",
         "Chicago, Illinois, USA",
         "March 5, 1982 in Hollywood, Los Angeles, California, USA  (acute cocaine and heroin intoxication)",
         "05.03.1982",
         "Hollywood, Los Angeles, California, USA  ",
         "acute cocaine and heroin intoxication",
         "Judith Belushi-Pisano  (31 December 1976 - 5 March 1982) (his death)",
         1,
         0,
         0,
         0
        ],
        [
         "nm0000005",
         "Ingmar Bergman",
         "Ernst Ingmar Bergman",
         179,
         "Ernst Ingmar Bergman was born July 14, 1918, the son of a priest. The film and T.V. series, Con le migliori intenzioni (1992) is biographical and shows the early marriage of his parents. The film 'Söndagsbarn' depicts a bicycle journey with his father. In the miniseries Conversazioni private (1996) is the trilogy closed. Here, as in 'Den Goda Viljan' Pernilla August play his mother. Note that all three movies are not always full true biographical stories. He began his career early with a puppet theatre which he, his sister and their friends played with. But he was the manager. Strictly professional he begun writing in 1941. He had written a play called 'Kaspers död' (A.K.A. 'Kaspers Death') which was produced the same year. It became his entrance into the movie business as Stina Bergman (not a close relative), from the company S.F. (Swedish Filmindustry), had seen the play and thought that there must be some dramatic talent in young Ingmar. His first job was to save other more famous writers' poor scripts. Under one of that script-saving works he remembered that he had written a novel about his last year as a student. He took the novel, did the save-poor-script job first, then wrote a screenplay on his own novel. When he went back to S.F., he delivered two scripts rather than one. The script was Spasimo (1944) and was the fist Bergman screenplay that was put into film (by Alf Sjöberg). It was also in that movie Bergman did his first professional film-director job. Because Alf Sjöberg was busy, Bergman got the order to shoot the last sequence of the film. Ingmar Bergman is the father of Daniel Bergman, director, and Mats Bergman, actor at the Swedish Royal Dramatic Theater. Ingmar Bergman was also C.E.O. of the same theatre between 1963-1966, where he hired almost every professional actor in Sweden. In 1976 he had a famous tax problem. Bergman had trusted other people to advise him on his finances, but it turned out to be very bad advice. Bergman had to leave the country immediately, and so he went to Germany. A few years later he returned to Sweden and made his last theatrical film Fanny & Alexander (1982) (A.K.A. 'Fanny and Alexander'). In later life he retired from movie directing, but still wrote scripts for film and T.V. and directed plays at the Swedish Royal Dramatic Theatre for many years. He died peacefully in his sleep on July 30, 2007.",
         "July 14, 1918 in Uppsala, Uppsala län, Sweden",
         "14.07.1918",
         "Uppsala, Uppsala län, Sweden",
         "July 30, 2007 in Fårö, Gotlands län, Sweden  (natural causes)",
         "30.07.2007",
         "Fårö, Gotlands län, Sweden  ",
         "natural causes",
         "Ingrid Bergman  (11 November 1971 - 20 May 1995) (her death) (1 child)Käbi Laretei  (1959 - 1969) (divorced) (1 child)Gun Grut  (1951 - 1959) (divorced) (1 child)Ellen Bergman  (22 July 1945 - 1950) (divorced) (4 children)Else Fisher  (25 March 1943 - 1945) (divorced) (1 child)",
         5,
         4,
         5,
         8
        ],
        [
         "nm0000006",
         "Ingrid Bergman",
         "Ingrid Bergman",
         178,
         "Ingrid Bergman was one of the greatest actresses from Hollywood's lamented Golden Era. Her natural and unpretentious beauty and her immense acting talent made her one of the most celebrated figures in the history of American cinema. Bergman is also one of the most Oscar-awarded actresses, tied with Meryl Streep, both second only to Katharine Hepburn.Ingrid Bergman was born on August 29, 1915 in Stockholm, Sweden, to a German mother, Frieda Henrietta (Adler), and a Swedish father, Justus Samuel Bergman, an artist and photographer. Her mother died when she was only two and her father died when she was 12. She went to live with an elderly uncle.The woman who would be one of the top stars in Hollywood in the 1940s had decided to become an actress after finishing her formal schooling. She had had a taste of acting at age 17 when she played an uncredited role of a girl standing in line in the Swedish film Landskamp (1932) in 1932 - not much of a beginning for a girl who would be known as Sweden's illustrious gift to Hollywood. Her parents died when she was just a girl and the uncle she lived with didn't want to stand in the way of Ingrid's dream. The next year she enrolled at the Royal Dramatic Theatre School in Stockholm but decided that stage acting was not for her. It would be three more years before she would have another chance at a film. When she did, it was more than just a bit part. The film in question was Munkbrogreven (1935), where she had a speaking part as Elsa Edlund. After several films that year that established her as a class actress, Ingrid appeared in La sposa scomparsa (1936) as Anita Hoffman. Luckily for her, American producer David O. Selznick saw it and sent a representative from Selznick International Pictures to gain rights to the story and have Ingrid signed to a contract. Once signed, she came to California and starred in United Artists' 1939 remake of her 1936 film, Intermezzo (1939), reprising her original role. The film was a hit and so was Ingrid.Her beauty was unlike anything the movie industry had seen before and her acting was superb. Hollywood was about to find out that they had the most versatile actress the industry had ever seen. Here was a woman who truly cared about the craft she represented. The public fell in love with her. Ingrid was under contract to go back to Sweden to film Solo una notte (1939) in 1939 and Juninatten (1940) in 1940. Back in the US she appeared in three films, all well-received. She made only one film in 1942, but it was the classic Casablanca (1942) opposite Humphrey Bogart.Ingrid was choosing her roles well. In 1943 she was nominated for an Academy Award for her role in Per chi suona la campana (1943), the only film she made that year. The critics and public didn't forget her when she made Angoscia (1944) the following year--her role of Paula Alquist got her the Oscar for Best Actress. In 1945 Ingrid played in Io ti salverò (1945), Saratoga (1945) and Le campane di Santa Maria (1945), for which she received her third Oscar nomination for her role of Sister Benedict. She made no films in 1947, but bounced back with a fourth nomination for Giovanna d'Arco (1948). In 1949 she went to Italy to film Stromboli (Terra di Dio) (1950), directed by Roberto Rossellini. She fell in love with him and left her husband, Dr. Peter Lindstrom, and daughter, Pia Lindström. America's moral guardians in the press and the pulpits were outraged. She was pregnant and decided to remain in Italy, where her son was born. In 1952 Ingrid had twins, Isotta and Isabella Rossellini, who became an outstanding actress in her own right, as did Pia.Ingrid continued to make films in Italy and finally returned to Hollywood in 1956 in the title role in Anastasia (1956), which was filmed in England. For this she won her second Academy Award. She had scarcely missed a beat. Ingrid continued to bounce between Europe and the US making movies, and fine ones at that. A film with Ingrid Bergman was sure to be a quality production. In her final big-screen performance in 1978's Sinfonia d'autunno (1978) she had her final Academy Award nomination. Though she didn't win, many felt it was the most sterling performance of her career. Ingrid retired, but not before she gave an outstanding performance in the mini-series Una donna di nome Golda (1982), a film about Israeli prime minister Golda Meir. For this she won an Emmy Award as Best Actress, but, unfortunately, she did not live to see the fruits of her labor.Ingrid died from cancer on August 29, 1982, her 67th birthday, in London, England.",
         "August 29, 1915 in Stockholm, Sweden",
         "29.08.1915",
         "Stockholm, Sweden",
         "August 29, 1982 in Chelsea, London, England, UK  (lymphoma complications following a breast cancer operation)",
         "29.08.1982",
         "Chelsea, London, England, UK  ",
         "lymphoma complications following a breast cancer operation",
         "Lars Schmidt  (21 December 1958 - 1978) (divorced)Roberto Rossellini  (24 May 1950 - 7 November 1957) (divorced) (3 children)Dr. Petter Aron Lindström  (10 July 1937 - 9 February 1950) (divorced) (1 child)",
         3,
         3,
         2,
         4
        ],
        [
         "nm0000007",
         "Humphrey Bogart",
         "Humphrey DeForest Bogart",
         173,
         "Humphrey DeForest Bogart was born in New York City, New York, to Maud Humphrey, a famed magazine illustrator and suffragette, and Belmont DeForest Bogart, a moderately wealthy surgeon (who was secretly addicted to opium). Bogart was educated at Trinity School, NYC, and was sent to Phillips Academy in Andover, Massachusetts, in preparation for medical studies at Yale. He was expelled from Phillips and joined the U.S. Naval Reserve. From 1920 to 1922, he managed a stage company owned by family friend William A. Brady (the father of actress Alice Brady), performing a variety of tasks at Brady's film studio in New York. He then began regular stage performances. Alexander Woollcott described his acting in a 1922 play as inadequate. In 1930, he gained a contract with Fox, his feature film debut in a ten-minute short, Broadway's Like That (1930), co-starring Ruth Etting and Joan Blondell. Fox released him after two years. After five years of stage and minor film roles, he had his breakthrough role in La foresta pietrificata (1936) from Warner Bros. He won the part over Edward G. Robinson only after the star, Leslie Howard, threatened Warner Bros. that he would quit unless Bogart was given the key role of Duke Mantee, which he had played in the Broadway production with Howard. The film was a major success and led to a long-term contract with Warner Bros. From 1936 to 1940, Bogart appeared in 28 films, usually as a gangster, twice in Westerns and even a horror film. His landmark year was 1941 (often capitalizing on parts George Raft had stupidly rejected) with roles in classics such as Una pallottola per Roy (1941) and as Sam Spade in one of his most fondly remembered films, Il mistero del falco (1941). These were followed by Casablanca (1942), Il grande sonno (1946), and L'isola di corallo (1948). Bogart, despite his erratic education, was incredibly well-read and he favored writers and intellectuals within his small circle of friends. In 1947, he joined wife Lauren Bacall and other actors protesting the House Un-American Activities Committee witch hunts. He also formed his own production company, and the next year made Il tesoro della Sierra Madre (1948). Bogie won the best actor Academy Award for La regina d'Africa (1951) and was nominated for Casablanca (1942) and as Captain Queeg in L'ammutinamento del Caine (1954), a film made when he was already seriously ill. He died in his sleep at his Hollywood home following surgeries and a battle with throat cancer.",
         "December 25, 1899 in New York City, New York, USA",
         "1899-12-25",
         "New York City, New York, USA",
         "January 14, 1957 in Los Angeles, California, USA  (esophageal cancer)",
         "14.01.1957",
         "Los Angeles, California, USA  ",
         "esophageal cancer",
         "Lauren Bacall  (21 May 1945 - 14 January 1957) (his death) (2 children)Mayo Methot  (21 August 1938 - 10 May 1945) (divorced)Mary Philips  (3 April 1928 - 11 August 1938) (divorced)Helen Menken  (20 May 1926 - 18 November 1927) (divorced)",
         4,
         3,
         1,
         2
        ],
        [
         "nm0000009",
         "Richard Burton",
         "Richard Walter Jenkins",
         178,
         "Probably best-remembered for his turbulent personal life with Elizabeth Taylor (whom he married twice), Richard Burton was nonetheless also regarded as an often brilliant British actor of the post-WWII period.Burton was born Richard Walter Jenkins in 1925 into a Welsh (Cymraeg)-speaking family in Pontrhydyfen to Edith Maude (Thomas) and Richard Walter Jenkins, a coal miner. The twelfth of thirteen children, his mother died while he was a toddler and his father later abandoned the family, leaving him to be raised by an elder sister, Cecilia. An avid fan of Shakespeare, poetry and reading, he once said home is where the books are. He received a scholarship to Oxford University to study acting and made his first stage appearance in 1944.His first film appearances were in routine British movies such as The Last Days of Dolwyn (1949), Tempesta a Liverpool (1950) and La quinta offensiva (1951). Then he started to appear in Hollywood movies such as Mia cugina Rachele (1952), La tunica (1953) and Alessandro il grande (1956), added to this he was also spending considerable time in stage productions, both in the UK and USA, often to splendid reviews. The late 1950s was an exciting and inventive time in UK cinema, often referred to as the British New Wave, and Burton was right in the thick of things, and showcased a sensational performance in I giovani arrabbiati (1959). He also appeared with a cavalcade of international stars in the World War II magnum opus Il giorno più lungo (1962), and then onto arguably his most notorious role as that of Marc Antony opposite Elizabeth Taylor in the hugely expensive Cleopatra (1963). This was, of course, the film that kick-started their fiery and passionate romance (plus two marriages), and the two of them appeared in several productions over the next few years including International Hotel (1963), Castelli di sabbia (1965), the dynamic Chi ha paura di Virginia Woolf? (1966) and La bisbetica domata (1967), as well as box office flops like I commedianti (1967). Burton did better when he was off on his own giving higher caliber performances, such as those in Becket e il suo re (1964), the film adaptation of the Tennessee Williams play La notte dell'iguana (1964), the brilliant espionage thriller La spia che venne dal freddo (1965) and alongside Clint Eastwood in the World War II action adventure film Dove osano le aquile (1968).His audience appeal began to decline somewhat by the end of the 1960s as fans turned to younger, more virile male stars, however Burton was superb in Anna dei mille giorni (1969) as King Henry VIII, he put on a reasonable show in the boring Attacco a Rommel (1971), was over the top in the awful Il mascalzone (1971), gave sleepwalking performances in Una faccia di c... (1972) and Barbablù (1972), and was wildly miscast in the ludicrous L'assassinio di Trotsky (1972).By the early 1970s, quality male lead roles were definitely going to other stars, and Burton found himself appearing in some movies of dubious quality, just to pay the bills and support family, including Divorzia lui divorzia lei (1973) (his last on-screen appearance with Taylor), L'uomo del clan (1974), Breve incontro (1974), Jackpot (1974) (which was never completed) and L'esorcista II - L'eretico (1977). However, he won another Oscar nomination for his excellent performance as a concerned psychiatrist in Equus (1977). He appeared with fellow acting icons Richard Harris and Roger Moore in I 4 dell'oca selvaggia (1978) about mercenaries in South Africa. While the film had a modest initial run, over the past thirty-five years it has picked up quite a cult following. His final performances were as the wily inquisitor O'Brien in the most recent film version of George Orwell's dystopian Orwell 1984 (1984), in which he won good reviews, and in the TV mini series Ellis Island (1984). He passed away on August 5, 1984 in Celigny, Switzerland from a cerebral hemorrhage.",
         "November 10, 1925 in Pontrhydyfen, Wales, UK",
         "10.11.1925",
         "Pontrhydyfen, Wales, UK",
         "August 5, 1984 in Céligny, Geneva, Switzerland  (cerebral hemorrhage)",
         "05.08.1984",
         "Céligny, Geneva, Switzerland  ",
         "cerebral hemorrhage",
         "Sally Burton  (3 July 1983 - 5 August 1984) (his death)Susan Hunt  (21 August 1976 - 27 February 1983) (divorced)Elizabeth Taylor  (10 October 1975 - 29 July 1976) (divorced)Elizabeth Taylor  (15 March 1964 - 26 June 1974) (divorced) (1 child)Sybil Williams  (5 February 1949 - 5 December 1963) (divorced) (2 children)",
         5,
         4,
         2,
         3
        ],
        [
         "nm0000010",
         "James Cagney",
         "James Francis Cagney",
         165,
         "One of Hollywood's preeminent male stars of all time, James Cagney was also an accomplished dancer and easily played light comedy. James Francis Cagney was born on the Lower East Side of Manhattan in New York City, to Carolyn (Nelson) and James Francis Cagney, Sr., who was a bartender and amateur boxer. Cagney was of Norwegian (from his maternal grandfather) and Irish descent. Ending three decades on the screen, he retired to his farm in Stanfordville, New York (some 77 miles/124 km. north of his New York City birthplace), after starring in Billy Wilder's Uno, due, tre! (1961). He emerged from retirement to star in the 1981 screen adaptation of E.L. Doctorow's novel Ragtime (Ragtime (1981)), in which he was reunited with his frequent co-star of the 1930s, Pat O'Brien, and which was his last theatrical film and O'Brien's as well). Cagney's final performance came in the title role of the made-for-TV movie Terrible Joe Moran (1984), in which he played opposite Art Carney.",
         "July 17, 1899 in New York City, New York, USA",
         "1899-07-17",
         "New York City, New York, USA",
         "March 30, 1986 in Stanfordville, New York, USA  (heart attack following illness from diabetes)",
         "30.03.1986",
         "Stanfordville, New York, USA  ",
         "heart attack following illness from diabetes",
         "Frances Cagney  (28 September 1922 - 30 March 1986) (his death) (2 children)",
         1,
         0,
         1,
         2
        ],
        [
         "nm0000011",
         "Gary Cooper",
         "Frank James Cooper",
         191,
         "Born to Alice Cooper and Charles Cooper. Gary attended school at Dunstable school England, Helena Montana and Grinnell College, Grinnell, Iowa (then called Iowa College). His first stage experience was during high school and college. Afterwards, he worked as an extra for one year before getting a part in a two-reeler by the independent producer Hans Tiesler . Eileen Sedgwick was his first leading lady. He then appeared in Fiore del deserto (1926) for United Artists before moving to Paramount. While there he appeared in a small part in Ali (1927), Cosetta (1927), and other films.",
         "May 7, 1901 in Helena, Montana, USA",
         "07.05.1901",
         "Helena, Montana, USA",
         "May 13, 1961 in Beverly Hills, Los Angeles, California, USA  (prostate cancer)",
         "13.05.1961",
         "Beverly Hills, Los Angeles, California, USA  ",
         "prostate cancer",
         "Sandra Shaw  (15 December 1933 - 13 May 1961) (his death) (1 child)",
         1,
         0,
         1,
         1
        ]
       ],
       "datasetInfos": [],
       "dbfsResultPath": null,
       "isJsonSchema": true,
       "metadata": {},
       "overflow": false,
       "plotOptions": {
        "customPlotOptions": {},
        "displayType": "table",
        "pivotAggregation": null,
        "pivotColumns": null,
        "xColumns": null,
        "yColumns": null
       },
       "removedWidgets": [],
       "schema": [
        {
         "metadata": "{}",
         "name": "imdb_name_id",
         "type": "\"string\""
        },
        {
         "metadata": "{}",
         "name": "name",
         "type": "\"string\""
        },
        {
         "metadata": "{}",
         "name": "birth_name",
         "type": "\"string\""
        },
        {
         "metadata": "{}",
         "name": "height",
         "type": "\"long\""
        },
        {
         "metadata": "{}",
         "name": "bio",
         "type": "\"string\""
        },
        {
         "metadata": "{}",
         "name": "birth_details",
         "type": "\"string\""
        },
        {
         "metadata": "{}",
         "name": "date_of_birth",
         "type": "\"string\""
        },
        {
         "metadata": "{}",
         "name": "place_of_birth",
         "type": "\"string\""
        },
        {
         "metadata": "{}",
         "name": "death_details",
         "type": "\"string\""
        },
        {
         "metadata": "{}",
         "name": "date_of_death",
         "type": "\"string\""
        },
        {
         "metadata": "{}",
         "name": "place_of_death",
         "type": "\"string\""
        },
        {
         "metadata": "{}",
         "name": "reason_of_death",
         "type": "\"string\""
        },
        {
         "metadata": "{}",
         "name": "spouses_string",
         "type": "\"string\""
        },
        {
         "metadata": "{}",
         "name": "spouses",
         "type": "\"long\""
        },
        {
         "metadata": "{}",
         "name": "divorces",
         "type": "\"long\""
        },
        {
         "metadata": "{}",
         "name": "spouses_with_children",
         "type": "\"long\""
        },
        {
         "metadata": "{}",
         "name": "children",
         "type": "\"long\""
        }
       ],
       "type": "table"
      }
     },
     "output_type": "display_data"
    }
   ],
   "source": [
    "# replaceDf=namesDf.replace('name', 'birth_name')\n",
    "# display(replaceDf.head(10))\n",
    "replaceDf=namesDf.na.replace('name', 'unknown')\n",
    "display(replaceDf.head(10))"
   ]
  },
  {
   "cell_type": "markdown",
   "metadata": {
    "application/vnd.databricks.v1+cell": {
     "cellMetadata": {},
     "inputWidgets": {},
     "nuid": "914655ba-ca41-4f3d-b492-43f979e7b523",
     "showTitle": false,
     "tableResultSettingsMap": {},
     "title": ""
    }
   },
   "source": [
    "## array_contains"
   ]
  },
  {
   "cell_type": "code",
   "execution_count": 0,
   "metadata": {
    "application/vnd.databricks.v1+cell": {
     "cellMetadata": {
      "byteLimit": 2048000,
      "rowLimit": 10000
     },
     "inputWidgets": {},
     "nuid": "df83efab-5453-445e-b9e8-65e0fbeef7d8",
     "showTitle": false,
     "tableResultSettingsMap": {},
     "title": ""
    }
   },
   "outputs": [
    {
     "output_type": "stream",
     "name": "stdout",
     "output_type": "stream",
     "text": [
      "Out[24]: [Row(array_contains(knownLanguages, Java)=True),\n Row(array_contains(knownLanguages, Java)=True),\n Row(array_contains(knownLanguages, Java)=False),\n Row(array_contains(knownLanguages, Java)=None),\n Row(array_contains(knownLanguages, Java)=False)]"
     ]
    }
   ],
   "source": [
    "import pyspark.sql.functions as sf\n",
    "\n",
    "df.select(sf.array_contains(df.knownLanguages, \"Java\")).collect()"
   ]
  },
  {
   "cell_type": "markdown",
   "metadata": {
    "application/vnd.databricks.v1+cell": {
     "cellMetadata": {},
     "inputWidgets": {},
     "nuid": "4f6ae9d3-fe52-4e04-a397-3b4b3062339a",
     "showTitle": false,
     "tableResultSettingsMap": {},
     "title": ""
    }
   },
   "source": [
    "## lead"
   ]
  },
  {
   "cell_type": "code",
   "execution_count": 0,
   "metadata": {
    "application/vnd.databricks.v1+cell": {
     "cellMetadata": {
      "byteLimit": 2048000,
      "rowLimit": 10000
     },
     "inputWidgets": {},
     "nuid": "b3648240-784c-41b9-8a32-aeaa1f185008",
     "showTitle": false,
     "tableResultSettingsMap": {},
     "title": ""
    }
   },
   "outputs": [
    {
     "output_type": "stream",
     "name": "stdout",
     "output_type": "stream",
     "text": [
      "+---+---+\n| c1| c2|\n+---+---+\n|  a|  1|\n|  a|  2|\n|  a|  3|\n|  b|  8|\n|  b|  2|\n+---+---+\n\n"
     ]
    }
   ],
   "source": [
    "from pyspark.sql import Window\n",
    "import pyspark.sql.functions as f\n",
    "\n",
    "df = spark.createDataFrame([(\"a\", 1),\n",
    "                            (\"a\", 2),\n",
    "                            (\"a\", 3),\n",
    "                            (\"b\", 8),\n",
    "                            (\"b\", 2)], [\"c1\", \"c2\"])\n",
    "df.show()"
   ]
  },
  {
   "cell_type": "code",
   "execution_count": 0,
   "metadata": {
    "application/vnd.databricks.v1+cell": {
     "cellMetadata": {
      "byteLimit": 2048000,
      "rowLimit": 10000
     },
     "inputWidgets": {},
     "nuid": "ce5bb671-bb13-4fe4-b538-4ce34d732b5b",
     "showTitle": false,
     "tableResultSettingsMap": {},
     "title": ""
    }
   },
   "outputs": [
    {
     "output_type": "stream",
     "name": "stdout",
     "output_type": "stream",
     "text": [
      "+---+---+----------+\n| c1| c2|next_value|\n+---+---+----------+\n|  a|  1|         2|\n|  a|  2|         3|\n|  a|  3|         0|\n|  b|  2|         8|\n|  b|  8|         0|\n+---+---+----------+\n\n"
     ]
    }
   ],
   "source": [
    "w=Window.partitionBy(\"c1\").orderBy(\"c2\")\n",
    "df.withColumn(\"next_value\", f.lead(\"c2\",1,0).over(w)).show()"
   ]
  },
  {
   "cell_type": "markdown",
   "metadata": {
    "application/vnd.databricks.v1+cell": {
     "cellMetadata": {},
     "inputWidgets": {},
     "nuid": "b5f9801e-1b20-4fa3-8cec-e0ea49accb06",
     "showTitle": false,
     "tableResultSettingsMap": {},
     "title": ""
    }
   },
   "source": [
    "## lag"
   ]
  },
  {
   "cell_type": "code",
   "execution_count": 0,
   "metadata": {
    "application/vnd.databricks.v1+cell": {
     "cellMetadata": {
      "byteLimit": 2048000,
      "rowLimit": 10000
     },
     "inputWidgets": {},
     "nuid": "49381c70-eac2-4c0a-ad69-792e5d78b6a5",
     "showTitle": false,
     "tableResultSettingsMap": {},
     "title": ""
    }
   },
   "outputs": [
    {
     "output_type": "stream",
     "name": "stdout",
     "output_type": "stream",
     "text": [
      "+---+---+-------------+\n| c1| c2|previos_value|\n+---+---+-------------+\n|  a|  1|         null|\n|  a|  2|            1|\n|  a|  3|            2|\n|  b|  2|         null|\n|  b|  8|            2|\n+---+---+-------------+\n\n"
     ]
    }
   ],
   "source": [
    "df.withColumn(\"previos_value\", f.lag(\"c2\").over(w)).show()"
   ]
  },
  {
   "cell_type": "markdown",
   "metadata": {
    "application/vnd.databricks.v1+cell": {
     "cellMetadata": {},
     "inputWidgets": {},
     "nuid": "51acbf61-9ba9-4388-806c-51178552b5bb",
     "showTitle": false,
     "tableResultSettingsMap": {},
     "title": ""
    }
   },
   "source": [
    "## first value"
   ]
  },
  {
   "cell_type": "code",
   "execution_count": 0,
   "metadata": {
    "application/vnd.databricks.v1+cell": {
     "cellMetadata": {
      "byteLimit": 2048000,
      "rowLimit": 10000
     },
     "inputWidgets": {},
     "nuid": "13f65f01-165c-48ad-b7aa-adb302af19b1",
     "showTitle": false,
     "tableResultSettingsMap": {},
     "title": ""
    }
   },
   "outputs": [
    {
     "output_type": "stream",
     "name": "stdout",
     "output_type": "stream",
     "text": [
      "+---+---+--------+\n| c1| c2|first c1|\n+---+---+--------+\n|  a|  1|       1|\n|  a|  2|       1|\n|  a|  3|       1|\n|  b|  8|       1|\n|  b|  2|       1|\n+---+---+--------+\n\n"
     ]
    }
   ],
   "source": [
    "w=Window.orderBy('c1')\n",
    "df.withColumn('first c1', f.first('c2', True).over(w)).show()"
   ]
  },
  {
   "cell_type": "markdown",
   "metadata": {
    "application/vnd.databricks.v1+cell": {
     "cellMetadata": {},
     "inputWidgets": {},
     "nuid": "df0001ba-972f-495f-b03d-365a378bfb40",
     "showTitle": false,
     "tableResultSettingsMap": {},
     "title": ""
    }
   },
   "source": [
    "## last value"
   ]
  },
  {
   "cell_type": "code",
   "execution_count": 0,
   "metadata": {
    "application/vnd.databricks.v1+cell": {
     "cellMetadata": {
      "byteLimit": 2048000,
      "rowLimit": 10000
     },
     "inputWidgets": {},
     "nuid": "4d0a6838-3e52-4972-a266-4aa7ca45e3c4",
     "showTitle": false,
     "tableResultSettingsMap": {},
     "title": ""
    }
   },
   "outputs": [
    {
     "output_type": "stream",
     "name": "stdout",
     "output_type": "stream",
     "text": [
      "+---+---+--------+\n| c1| c2|first c1|\n+---+---+--------+\n|  a|  1|       3|\n|  a|  2|       3|\n|  a|  3|       3|\n|  b|  8|       2|\n|  b|  2|       2|\n+---+---+--------+\n\n"
     ]
    }
   ],
   "source": [
    "w=Window.orderBy('c1')\n",
    "df.withColumn('first c1', f.last('c2', True).over(w)).show()"
   ]
  },
  {
   "cell_type": "markdown",
   "metadata": {
    "application/vnd.databricks.v1+cell": {
     "cellMetadata": {},
     "inputWidgets": {},
     "nuid": "938eb51a-e288-4b1a-9537-35073ca0229e",
     "showTitle": false,
     "tableResultSettingsMap": {},
     "title": ""
    }
   },
   "source": [
    "## row number"
   ]
  },
  {
   "cell_type": "code",
   "execution_count": 0,
   "metadata": {
    "application/vnd.databricks.v1+cell": {
     "cellMetadata": {
      "byteLimit": 2048000,
      "rowLimit": 10000
     },
     "inputWidgets": {},
     "nuid": "d430371c-60fb-4e42-b3ab-e4afd91d4adf",
     "showTitle": false,
     "tableResultSettingsMap": {},
     "title": ""
    }
   },
   "outputs": [
    {
     "output_type": "stream",
     "name": "stdout",
     "output_type": "stream",
     "text": [
      "+---+---+----------+\n| c1| c2|desc_order|\n+---+---+----------+\n|  b|  8|         1|\n|  a|  3|         2|\n|  a|  2|         3|\n|  b|  2|         4|\n|  a|  1|         5|\n+---+---+----------+\n\n"
     ]
    }
   ],
   "source": [
    "w=Window.orderBy(df.c2.desc())\n",
    "df.withColumn('desc_order', f.row_number().over(w)).show()"
   ]
  },
  {
   "cell_type": "markdown",
   "metadata": {
    "application/vnd.databricks.v1+cell": {
     "cellMetadata": {},
     "inputWidgets": {},
     "nuid": "81f776e6-bd4e-4322-9ed7-66c3cd462c88",
     "showTitle": false,
     "tableResultSettingsMap": {},
     "title": ""
    }
   },
   "source": [
    "# AGREGACJA"
   ]
  },
  {
   "cell_type": "code",
   "execution_count": 0,
   "metadata": {
    "application/vnd.databricks.v1+cell": {
     "cellMetadata": {
      "byteLimit": 2048000,
      "rowLimit": 10000
     },
     "inputWidgets": {},
     "nuid": "24649b41-552f-4956-80ed-ac5c5207e401",
     "showTitle": false,
     "tableResultSettingsMap": {},
     "title": ""
    }
   },
   "outputs": [
    {
     "output_type": "display_data",
     "data": {
      "text/html": [
       "<style scoped>\n",
       "  .table-result-container {\n",
       "    max-height: 300px;\n",
       "    overflow: auto;\n",
       "  }\n",
       "  table, th, td {\n",
       "    border: 1px solid black;\n",
       "    border-collapse: collapse;\n",
       "  }\n",
       "  th, td {\n",
       "    padding: 5px;\n",
       "  }\n",
       "  th {\n",
       "    text-align: left;\n",
       "  }\n",
       "</style><div class='table-result-container'><table class='table-result'><thead style='background-color: white'><tr><th>id</th><th>name</th><th>age</th><th>department</th><th>salary</th></tr></thead><tbody><tr><td>1</td><td>Alice</td><td>34</td><td>HR</td><td>50000</td></tr><tr><td>2</td><td>Bob</td><td>45</td><td>IT</td><td>60000</td></tr><tr><td>3</td><td>Charlie</td><td>28</td><td>IT</td><td>55000</td></tr><tr><td>4</td><td>David</td><td>50</td><td>HR</td><td>70000</td></tr><tr><td>5</td><td>Eve</td><td>30</td><td>Finance</td><td>80000</td></tr><tr><td>6</td><td>Frank</td><td>35</td><td>Finance</td><td>75000</td></tr><tr><td>7</td><td>Grace</td><td>29</td><td>IT</td><td>65000</td></tr><tr><td>8</td><td>Hannah</td><td>40</td><td>HR</td><td>72000</td></tr></tbody></table></div>"
      ]
     },
     "metadata": {
      "application/vnd.databricks.v1+output": {
       "addedWidgets": {},
       "aggData": [],
       "aggError": "",
       "aggOverflow": false,
       "aggSchema": [],
       "aggSeriesLimitReached": false,
       "aggType": "",
       "arguments": {},
       "columnCustomDisplayInfos": {},
       "data": [
        [
         1,
         "Alice",
         34,
         "HR",
         50000
        ],
        [
         2,
         "Bob",
         45,
         "IT",
         60000
        ],
        [
         3,
         "Charlie",
         28,
         "IT",
         55000
        ],
        [
         4,
         "David",
         50,
         "HR",
         70000
        ],
        [
         5,
         "Eve",
         30,
         "Finance",
         80000
        ],
        [
         6,
         "Frank",
         35,
         "Finance",
         75000
        ],
        [
         7,
         "Grace",
         29,
         "IT",
         65000
        ],
        [
         8,
         "Hannah",
         40,
         "HR",
         72000
        ]
       ],
       "datasetInfos": [],
       "dbfsResultPath": null,
       "isJsonSchema": true,
       "metadata": {},
       "overflow": false,
       "plotOptions": {
        "customPlotOptions": {},
        "displayType": "table",
        "pivotAggregation": null,
        "pivotColumns": null,
        "xColumns": null,
        "yColumns": null
       },
       "removedWidgets": [],
       "schema": [
        {
         "metadata": "{}",
         "name": "id",
         "type": "\"long\""
        },
        {
         "metadata": "{}",
         "name": "name",
         "type": "\"string\""
        },
        {
         "metadata": "{}",
         "name": "age",
         "type": "\"long\""
        },
        {
         "metadata": "{}",
         "name": "department",
         "type": "\"string\""
        },
        {
         "metadata": "{}",
         "name": "salary",
         "type": "\"long\""
        }
       ],
       "type": "table"
      }
     },
     "output_type": "display_data"
    }
   ],
   "source": [
    "data = [\n",
    "    (1, 'Alice', 34, 'HR', 50000),\n",
    "    (2, 'Bob', 45, 'IT', 60000),\n",
    "    (3, 'Charlie', 28, 'IT', 55000),\n",
    "    (4, 'David', 50, 'HR', 70000),\n",
    "    (5, 'Eve', 30, 'Finance', 80000),\n",
    "    (6, 'Frank', 35, 'Finance', 75000),\n",
    "    (7, 'Grace', 29, 'IT', 65000),\n",
    "    (8, 'Hannah', 40, 'HR', 72000)\n",
    "]\n",
    "\n",
    "columns = ['id', 'name', 'age', 'department', 'salary']\n",
    "df = spark.createDataFrame(data, columns)\n",
    "display(df)"
   ]
  },
  {
   "cell_type": "markdown",
   "metadata": {
    "application/vnd.databricks.v1+cell": {
     "cellMetadata": {},
     "inputWidgets": {},
     "nuid": "f79c70bc-6008-4d59-a96d-8895aa13e67e",
     "showTitle": false,
     "tableResultSettingsMap": {},
     "title": ""
    }
   },
   "source": [
    "## AVG"
   ]
  },
  {
   "cell_type": "code",
   "execution_count": 0,
   "metadata": {
    "application/vnd.databricks.v1+cell": {
     "cellMetadata": {
      "byteLimit": 2048000,
      "rowLimit": 10000
     },
     "inputWidgets": {},
     "nuid": "eea15a94-18bb-4dd9-b515-65773e1c9b24",
     "showTitle": false,
     "tableResultSettingsMap": {},
     "title": ""
    }
   },
   "outputs": [
    {
     "output_type": "stream",
     "name": "stdout",
     "output_type": "stream",
     "text": [
      "+-----------+\n|avg(salary)|\n+-----------+\n|    65875.0|\n+-----------+\n\n"
     ]
    }
   ],
   "source": [
    "from pyspark.sql.functions import col, avg, skewness, kurtosis, stddev, variance\n",
    "df.select(avg(col('salary'))).show()"
   ]
  },
  {
   "cell_type": "markdown",
   "metadata": {
    "application/vnd.databricks.v1+cell": {
     "cellMetadata": {},
     "inputWidgets": {},
     "nuid": "8a21bfb6-aaf5-46fe-b318-d534916b3817",
     "showTitle": false,
     "tableResultSettingsMap": {},
     "title": ""
    }
   },
   "source": [
    "## skewnsess and kurtosis"
   ]
  },
  {
   "cell_type": "code",
   "execution_count": 0,
   "metadata": {
    "application/vnd.databricks.v1+cell": {
     "cellMetadata": {
      "byteLimit": 2048000,
      "rowLimit": 10000
     },
     "inputWidgets": {},
     "nuid": "8d4ed965-998d-426d-8c79-66966767c08f",
     "showTitle": false,
     "tableResultSettingsMap": {},
     "title": ""
    }
   },
   "outputs": [
    {
     "output_type": "stream",
     "name": "stdout",
     "output_type": "stream",
     "text": [
      "+-------------------+\n|   skewness(salary)|\n+-------------------+\n|-0.2252401726128023|\n+-------------------+\n\n+-------------------+\n|   kurtosis(salary)|\n+-------------------+\n|-1.1571210361805826|\n+-------------------+\n\n"
     ]
    }
   ],
   "source": [
    "df.select(skewness(col('salary'))).show()\n",
    "df.select(kurtosis(col('salary'))).show()"
   ]
  },
  {
   "cell_type": "markdown",
   "metadata": {
    "application/vnd.databricks.v1+cell": {
     "cellMetadata": {},
     "inputWidgets": {},
     "nuid": "a8aa7563-d4c7-489e-9c02-c8d6c54a1e4b",
     "showTitle": false,
     "tableResultSettingsMap": {},
     "title": ""
    }
   },
   "source": [
    "## variance and standard deviation"
   ]
  },
  {
   "cell_type": "code",
   "execution_count": 0,
   "metadata": {
    "application/vnd.databricks.v1+cell": {
     "cellMetadata": {
      "byteLimit": 2048000,
      "rowLimit": 10000
     },
     "inputWidgets": {},
     "nuid": "45cd407a-6bc4-42ec-bbf3-976a2d1ad344",
     "showTitle": false,
     "tableResultSettingsMap": {},
     "title": ""
    }
   },
   "outputs": [
    {
     "output_type": "stream",
     "name": "stdout",
     "output_type": "stream",
     "text": [
      "+-------------------+\n|stddev_samp(salary)|\n+-------------------+\n| 10301.698889018258|\n+-------------------+\n\n+----------------+\n|var_samp(salary)|\n+----------------+\n|       1.06125E8|\n+----------------+\n\n"
     ]
    }
   ],
   "source": [
    "df.select(stddev(col('salary'))).show()\n",
    "df.select(variance(col('salary'))).show()"
   ]
  },
  {
   "cell_type": "markdown",
   "metadata": {
    "application/vnd.databricks.v1+cell": {
     "cellMetadata": {},
     "inputWidgets": {},
     "nuid": "647e05bf-12fa-44f6-873c-979bde881223",
     "showTitle": false,
     "tableResultSettingsMap": {},
     "title": ""
    }
   },
   "source": [
    "# ZADANIE 2\n"
   ]
  },
  {
   "cell_type": "code",
   "execution_count": 0,
   "metadata": {
    "application/vnd.databricks.v1+cell": {
     "cellMetadata": {
      "byteLimit": 2048000,
      "rowLimit": 10000
     },
     "inputWidgets": {},
     "nuid": "d02f0874-c5ac-41ab-9d0b-30e892bb860e",
     "showTitle": false,
     "tableResultSettingsMap": {},
     "title": ""
    }
   },
   "outputs": [
    {
     "output_type": "stream",
     "name": "stdout",
     "output_type": "stream",
     "text": [
      "+----------+----+\n|   produkt|cena|\n+----------+----+\n|    jabłko| 3.0|\n|     banan| 2.0|\n|pomarańcza| 4.0|\n| winogrona| 5.0|\n|   gruszka| 3.0|\n+----------+----+\n\n"
     ]
    }
   ],
   "source": [
    "data = [\n",
    "    Row(produkt=\"jabłko\", cena=3.00),\n",
    "    Row(produkt=\"banan\", cena=2.00),\n",
    "    Row(produkt=\"pomarańcza\", cena=4.00),\n",
    "    Row(produkt=\"winogrona\", cena=5.00),\n",
    "    Row(produkt=\"gruszka\", cena=3.00)\n",
    "]\n",
    "df = spark.createDataFrame(data)\n",
    "df.show()"
   ]
  },
  {
   "cell_type": "code",
   "execution_count": 0,
   "metadata": {
    "application/vnd.databricks.v1+cell": {
     "cellMetadata": {
      "byteLimit": 2048000,
      "rowLimit": 10000
     },
     "inputWidgets": {},
     "nuid": "3c840b5d-30b3-4bab-a1f0-d047d9ecd2f2",
     "showTitle": false,
     "tableResultSettingsMap": {},
     "title": ""
    }
   },
   "outputs": [
    {
     "output_type": "stream",
     "name": "stdout",
     "output_type": "stream",
     "text": [
      "+----------+----+---------+\n|   produkt|cena|Discount_|\n+----------+----+---------+\n|    jabłko| 3.0|      2.7|\n|     banan| 2.0|      1.8|\n|pomarańcza| 4.0|      3.6|\n| winogrona| 5.0|      4.5|\n|   gruszka| 3.0|      2.7|\n+----------+----+---------+\n\n"
     ]
    }
   ],
   "source": [
    "import pandas as pd\n",
    "from pyspark.sql.functions import pandas_udf\n",
    "from pyspark.sql.types import DoubleType\n",
    "@pandas_udf(DoubleType())\n",
    "def discount(series: pd.Series) -> pd.Series:\n",
    "    return series * 0.9\n",
    "\n",
    "df_disc=df.withColumn(\"Discount_\", discount(df['cena']))\n",
    "df_disc.show()"
   ]
  },
  {
   "cell_type": "code",
   "execution_count": 0,
   "metadata": {
    "application/vnd.databricks.v1+cell": {
     "cellMetadata": {
      "byteLimit": 2048000,
      "rowLimit": 10000
     },
     "inputWidgets": {},
     "nuid": "de60294e-8d5d-4f33-8f69-d4c19a78725b",
     "showTitle": false,
     "tableResultSettingsMap": {},
     "title": ""
    }
   },
   "outputs": [
    {
     "output_type": "stream",
     "name": "stdout",
     "output_type": "stream",
     "text": [
      "+----------+----+----------+\n|   produkt|cena|Cap Letter|\n+----------+----+----------+\n|    jabłko| 3.0|    Jabłko|\n|     banan| 2.0|     Banan|\n|pomarańcza| 4.0|Pomarańcza|\n| winogrona| 5.0| Winogrona|\n|   gruszka| 3.0|   Gruszka|\n+----------+----+----------+\n\n"
     ]
    }
   ],
   "source": [
    "from pyspark.sql.types import StringType\n",
    "from pyspark.sql.functions import udf, col\n",
    "\n",
    "def Capital_Letter(col_):\n",
    "    return col_.capitalize()\n",
    "\n",
    "Caps=udf(lambda x: Capital_Letter(x), StringType())\n",
    "\n",
    "df_Cap=df.withColumn(\"Cap Letter\", Caps(df['produkt']))\n",
    "df_Cap.show()\n"
   ]
  },
  {
   "cell_type": "code",
   "execution_count": 0,
   "metadata": {
    "application/vnd.databricks.v1+cell": {
     "cellMetadata": {},
     "inputWidgets": {},
     "nuid": "3fd5d4f6-8b03-42e5-a9aa-efeb965c9da5",
     "showTitle": false,
     "tableResultSettingsMap": {},
     "title": ""
    }
   },
   "outputs": [],
   "source": []
  }
 ],
 "metadata": {
  "application/vnd.databricks.v1+notebook": {
   "computePreferences": null,
   "dashboards": [],
   "environmentMetadata": {
    "base_environment": "",
    "environment_version": "1"
   },
   "inputWidgetPreferences": null,
   "language": "python",
   "notebookMetadata": {
    "pythonIndentUnit": 4
   },
   "notebookName": "Lab_4_zadanie1,2",
   "widgets": {}
  }
 },
 "nbformat": 4,
 "nbformat_minor": 0
}