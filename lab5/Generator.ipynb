{
 "cells": [
  {
   "cell_type": "code",
   "execution_count": 0,
   "metadata": {
    "application/vnd.databricks.v1+cell": {
     "cellMetadata": {
      "byteLimit": 2048000,
      "rowLimit": 10000
     },
     "inputWidgets": {},
     "nuid": "fb97e2b3-b608-43a1-93f6-8cd9f1ea239c",
     "showTitle": false,
     "tableResultSettingsMap": {},
     "title": ""
    }
   },
   "outputs": [
    {
     "output_type": "display_data",
     "data": {
      "text/html": [
       "<style scoped>\n",
       "  .table-result-container {\n",
       "    max-height: 300px;\n",
       "    overflow: auto;\n",
       "  }\n",
       "  table, th, td {\n",
       "    border: 1px solid black;\n",
       "    border-collapse: collapse;\n",
       "  }\n",
       "  th, td {\n",
       "    padding: 5px;\n",
       "  }\n",
       "  th {\n",
       "    text-align: left;\n",
       "  }\n",
       "</style><div class='table-result-container'><table class='table-result'><thead style='background-color: white'><tr><th>client_id</th><th>calendar_date</th><th>col_1</th><th>col_10</th><th>col_11</th><th>col_12</th><th>col_13</th><th>col_14</th><th>col_15</th><th>col_16</th><th>col_17</th><th>col_18</th><th>col_19</th><th>col_2</th><th>col_20</th><th>col_3</th><th>col_4</th><th>col_5</th><th>col_6</th><th>col_7</th><th>col_8</th><th>col_9</th></tr></thead><tbody><tr><td>170</td><td>2024-03-19</td><td>2</td><td>9</td><td>6</td><td>0</td><td>9</td><td>3</td><td>2</td><td>9</td><td>7</td><td>6</td><td>2</td><td>1</td><td>7</td><td>5</td><td>7</td><td>4</td><td>8</td><td>2</td><td>8</td><td>0</td></tr><tr><td>170</td><td>2024-03-07</td><td>6</td><td>1</td><td>2</td><td>9</td><td>4</td><td>1</td><td>4</td><td>7</td><td>7</td><td>2</td><td>1</td><td>6</td><td>7</td><td>1</td><td>0</td><td>0</td><td>1</td><td>2</td><td>0</td><td>9</td></tr><tr><td>170</td><td>2024-01-17</td><td>6</td><td>1</td><td>6</td><td>5</td><td>4</td><td>9</td><td>7</td><td>9</td><td>5</td><td>8</td><td>3</td><td>9</td><td>1</td><td>6</td><td>5</td><td>2</td><td>4</td><td>4</td><td>8</td><td>6</td></tr><tr><td>170</td><td>2024-01-31</td><td>5</td><td>2</td><td>6</td><td>2</td><td>5</td><td>6</td><td>0</td><td>9</td><td>0</td><td>5</td><td>0</td><td>9</td><td>1</td><td>8</td><td>2</td><td>6</td><td>6</td><td>1</td><td>0</td><td>6</td></tr><tr><td>170</td><td>2024-02-26</td><td>9</td><td>9</td><td>8</td><td>5</td><td>1</td><td>2</td><td>9</td><td>0</td><td>1</td><td>1</td><td>1</td><td>4</td><td>5</td><td>0</td><td>9</td><td>0</td><td>7</td><td>3</td><td>5</td><td>4</td></tr><tr><td>170</td><td>2024-03-21</td><td>5</td><td>8</td><td>1</td><td>8</td><td>2</td><td>2</td><td>1</td><td>3</td><td>5</td><td>1</td><td>5</td><td>8</td><td>4</td><td>3</td><td>7</td><td>4</td><td>2</td><td>8</td><td>9</td><td>1</td></tr><tr><td>170</td><td>2024-01-29</td><td>8</td><td>7</td><td>4</td><td>7</td><td>5</td><td>2</td><td>8</td><td>1</td><td>0</td><td>7</td><td>8</td><td>7</td><td>7</td><td>7</td><td>8</td><td>3</td><td>3</td><td>1</td><td>1</td><td>4</td></tr><tr><td>170</td><td>2024-03-24</td><td>7</td><td>2</td><td>7</td><td>9</td><td>9</td><td>9</td><td>0</td><td>3</td><td>8</td><td>0</td><td>4</td><td>3</td><td>5</td><td>8</td><td>5</td><td>3</td><td>5</td><td>3</td><td>1</td><td>2</td></tr><tr><td>170</td><td>2024-02-24</td><td>9</td><td>4</td><td>9</td><td>0</td><td>7</td><td>8</td><td>7</td><td>2</td><td>8</td><td>6</td><td>0</td><td>2</td><td>5</td><td>2</td><td>2</td><td>0</td><td>6</td><td>0</td><td>9</td><td>1</td></tr><tr><td>170</td><td>2024-02-29</td><td>0</td><td>2</td><td>3</td><td>3</td><td>4</td><td>4</td><td>6</td><td>7</td><td>5</td><td>8</td><td>8</td><td>2</td><td>6</td><td>8</td><td>4</td><td>4</td><td>5</td><td>8</td><td>1</td><td>7</td></tr></tbody></table></div>"
      ]
     },
     "metadata": {
      "application/vnd.databricks.v1+output": {
       "addedWidgets": {},
       "aggData": [],
       "aggError": "",
       "aggOverflow": false,
       "aggSchema": [],
       "aggSeriesLimitReached": false,
       "aggType": "",
       "arguments": {},
       "columnCustomDisplayInfos": {},
       "data": [
        [
         170,
         "2024-03-19",
         2,
         9,
         6,
         0,
         9,
         3,
         2,
         9,
         7,
         6,
         2,
         1,
         7,
         5,
         7,
         4,
         8,
         2,
         8,
         0
        ],
        [
         170,
         "2024-03-07",
         6,
         1,
         2,
         9,
         4,
         1,
         4,
         7,
         7,
         2,
         1,
         6,
         7,
         1,
         0,
         0,
         1,
         2,
         0,
         9
        ],
        [
         170,
         "2024-01-17",
         6,
         1,
         6,
         5,
         4,
         9,
         7,
         9,
         5,
         8,
         3,
         9,
         1,
         6,
         5,
         2,
         4,
         4,
         8,
         6
        ],
        [
         170,
         "2024-01-31",
         5,
         2,
         6,
         2,
         5,
         6,
         0,
         9,
         0,
         5,
         0,
         9,
         1,
         8,
         2,
         6,
         6,
         1,
         0,
         6
        ],
        [
         170,
         "2024-02-26",
         9,
         9,
         8,
         5,
         1,
         2,
         9,
         0,
         1,
         1,
         1,
         4,
         5,
         0,
         9,
         0,
         7,
         3,
         5,
         4
        ],
        [
         170,
         "2024-03-21",
         5,
         8,
         1,
         8,
         2,
         2,
         1,
         3,
         5,
         1,
         5,
         8,
         4,
         3,
         7,
         4,
         2,
         8,
         9,
         1
        ],
        [
         170,
         "2024-01-29",
         8,
         7,
         4,
         7,
         5,
         2,
         8,
         1,
         0,
         7,
         8,
         7,
         7,
         7,
         8,
         3,
         3,
         1,
         1,
         4
        ],
        [
         170,
         "2024-03-24",
         7,
         2,
         7,
         9,
         9,
         9,
         0,
         3,
         8,
         0,
         4,
         3,
         5,
         8,
         5,
         3,
         5,
         3,
         1,
         2
        ],
        [
         170,
         "2024-02-24",
         9,
         4,
         9,
         0,
         7,
         8,
         7,
         2,
         8,
         6,
         0,
         2,
         5,
         2,
         2,
         0,
         6,
         0,
         9,
         1
        ],
        [
         170,
         "2024-02-29",
         0,
         2,
         3,
         3,
         4,
         4,
         6,
         7,
         5,
         8,
         8,
         2,
         6,
         8,
         4,
         4,
         5,
         8,
         1,
         7
        ]
       ],
       "datasetInfos": [],
       "dbfsResultPath": null,
       "isJsonSchema": true,
       "metadata": {},
       "overflow": false,
       "plotOptions": {
        "customPlotOptions": {},
        "displayType": "table",
        "pivotAggregation": null,
        "pivotColumns": null,
        "xColumns": null,
        "yColumns": null
       },
       "removedWidgets": [],
       "schema": [
        {
         "metadata": "{}",
         "name": "client_id",
         "type": "\"long\""
        },
        {
         "metadata": "{}",
         "name": "calendar_date",
         "type": "\"date\""
        },
        {
         "metadata": "{}",
         "name": "col_1",
         "type": "\"long\""
        },
        {
         "metadata": "{}",
         "name": "col_10",
         "type": "\"long\""
        },
        {
         "metadata": "{}",
         "name": "col_11",
         "type": "\"long\""
        },
        {
         "metadata": "{}",
         "name": "col_12",
         "type": "\"long\""
        },
        {
         "metadata": "{}",
         "name": "col_13",
         "type": "\"long\""
        },
        {
         "metadata": "{}",
         "name": "col_14",
         "type": "\"long\""
        },
        {
         "metadata": "{}",
         "name": "col_15",
         "type": "\"long\""
        },
        {
         "metadata": "{}",
         "name": "col_16",
         "type": "\"long\""
        },
        {
         "metadata": "{}",
         "name": "col_17",
         "type": "\"long\""
        },
        {
         "metadata": "{}",
         "name": "col_18",
         "type": "\"long\""
        },
        {
         "metadata": "{}",
         "name": "col_19",
         "type": "\"long\""
        },
        {
         "metadata": "{}",
         "name": "col_2",
         "type": "\"long\""
        },
        {
         "metadata": "{}",
         "name": "col_20",
         "type": "\"long\""
        },
        {
         "metadata": "{}",
         "name": "col_3",
         "type": "\"long\""
        },
        {
         "metadata": "{}",
         "name": "col_4",
         "type": "\"long\""
        },
        {
         "metadata": "{}",
         "name": "col_5",
         "type": "\"long\""
        },
        {
         "metadata": "{}",
         "name": "col_6",
         "type": "\"long\""
        },
        {
         "metadata": "{}",
         "name": "col_7",
         "type": "\"long\""
        },
        {
         "metadata": "{}",
         "name": "col_8",
         "type": "\"long\""
        },
        {
         "metadata": "{}",
         "name": "col_9",
         "type": "\"long\""
        }
       ],
       "type": "table"
      }
     },
     "output_type": "display_data"
    }
   ],
   "source": [
    "from pyspark.sql.functions import first, rand, count\n",
    "dates = spark.sql(\"SELECT explode(sequence(DATE'2024-01-01', DATE'2024-03-24', INTERVAL 1 DAY)) as  calendar_date\")\n",
    "c_id = spark.sql(\"SELECT explode(sequence(1,200, 1)) as  client_id\")\n",
    "types = spark.sql(\"\"\"SELECT concat(\"col_\", colName) as col_name from (SELECT explode(sequence(1,20, 1)) as  colName)\"\"\")\n",
    " \n",
    "dates = dates.repartition(99)\n",
    "c_id = c_id.repartition(11)\n",
    "types = types.repartition(1)\n",
    " \n",
    "df_cartesian = c_id.crossJoin(dates.select(\"calendar_date\")).crossJoin(types.select(\"col_name\")).select(\"client_id\",\"calendar_date\",\"col_name\")\n",
    "df_cartesian2 = df_cartesian.groupBy(\"calendar_date\").agg(count(\"client_id\"))\n",
    " \n",
    "# display(df_cartesian2.limit(1000))\n",
    " \n",
    "df_cartesian = df_cartesian.withColumn(\"val\", (rand()*10).cast(\"int\"))\n",
    "\n",
    "df_grp = df_cartesian.groupBy(\"client_id\",\"calendar_date\").pivot(\"col_name\").agg((first(\"val\").alias(\"val\")))\n",
    "\n",
    "display(df_grp.head(10))\n"
   ]
  },
  {
   "cell_type": "code",
   "execution_count": 0,
   "metadata": {
    "application/vnd.databricks.v1+cell": {
     "cellMetadata": {
      "byteLimit": 2048000,
      "rowLimit": 10000
     },
     "inputWidgets": {},
     "nuid": "5de765bf-7918-4a34-931f-cecae174fb33",
     "showTitle": false,
     "tableResultSettingsMap": {},
     "title": ""
    }
   },
   "outputs": [
    {
     "output_type": "display_data",
     "data": {
      "text/html": [
       "<style scoped>\n",
       "  .table-result-container {\n",
       "    max-height: 300px;\n",
       "    overflow: auto;\n",
       "  }\n",
       "  table, th, td {\n",
       "    border: 1px solid black;\n",
       "    border-collapse: collapse;\n",
       "  }\n",
       "  th, td {\n",
       "    padding: 5px;\n",
       "  }\n",
       "  th {\n",
       "    text-align: left;\n",
       "  }\n",
       "</style><div class='table-result-container'><table class='table-result'><thead style='background-color: white'><tr><th>client_id</th><th>col_name</th><th>val</th><th>calendar_date</th><th>total_clients</th></tr></thead><tbody><tr><td>170</td><td>col_1</td><td>2</td><td>2024-03-19</td><td>4000</td></tr><tr><td>170</td><td>col_2</td><td>6</td><td>2024-03-19</td><td>4000</td></tr><tr><td>170</td><td>col_3</td><td>6</td><td>2024-03-19</td><td>4000</td></tr><tr><td>170</td><td>col_4</td><td>5</td><td>2024-03-19</td><td>4000</td></tr><tr><td>170</td><td>col_5</td><td>9</td><td>2024-03-19</td><td>4000</td></tr><tr><td>170</td><td>col_6</td><td>5</td><td>2024-03-19</td><td>4000</td></tr><tr><td>170</td><td>col_7</td><td>8</td><td>2024-03-19</td><td>4000</td></tr><tr><td>170</td><td>col_8</td><td>7</td><td>2024-03-19</td><td>4000</td></tr><tr><td>170</td><td>col_9</td><td>9</td><td>2024-03-19</td><td>4000</td></tr><tr><td>170</td><td>col_10</td><td>0</td><td>2024-03-19</td><td>4000</td></tr></tbody></table></div>"
      ]
     },
     "metadata": {
      "application/vnd.databricks.v1+output": {
       "addedWidgets": {},
       "aggData": [],
       "aggError": "",
       "aggOverflow": false,
       "aggSchema": [],
       "aggSeriesLimitReached": false,
       "aggType": "",
       "arguments": {},
       "columnCustomDisplayInfos": {},
       "data": [
        [
         170,
         "col_1",
         2,
         "2024-03-19",
         4000
        ],
        [
         170,
         "col_2",
         6,
         "2024-03-19",
         4000
        ],
        [
         170,
         "col_3",
         6,
         "2024-03-19",
         4000
        ],
        [
         170,
         "col_4",
         5,
         "2024-03-19",
         4000
        ],
        [
         170,
         "col_5",
         9,
         "2024-03-19",
         4000
        ],
        [
         170,
         "col_6",
         5,
         "2024-03-19",
         4000
        ],
        [
         170,
         "col_7",
         8,
         "2024-03-19",
         4000
        ],
        [
         170,
         "col_8",
         7,
         "2024-03-19",
         4000
        ],
        [
         170,
         "col_9",
         9,
         "2024-03-19",
         4000
        ],
        [
         170,
         "col_10",
         0,
         "2024-03-19",
         4000
        ]
       ],
       "datasetInfos": [],
       "dbfsResultPath": null,
       "isJsonSchema": true,
       "metadata": {},
       "overflow": false,
       "plotOptions": {
        "customPlotOptions": {},
        "displayType": "table",
        "pivotAggregation": null,
        "pivotColumns": null,
        "xColumns": null,
        "yColumns": null
       },
       "removedWidgets": [],
       "schema": [
        {
         "metadata": "{}",
         "name": "client_id",
         "type": "\"long\""
        },
        {
         "metadata": "{}",
         "name": "col_name",
         "type": "\"string\""
        },
        {
         "metadata": "{}",
         "name": "val",
         "type": "\"long\""
        },
        {
         "metadata": "{}",
         "name": "calendar_date",
         "type": "\"date\""
        },
        {
         "metadata": "{}",
         "name": "total_clients",
         "type": "\"long\""
        }
       ],
       "type": "table"
      }
     },
     "output_type": "display_data"
    }
   ],
   "source": [
    "left_join=df_cartesian.join(df_cartesian2, df_cartesian.calendar_date==df_cartesian2.calendar_date, 'inner').drop(df_cartesian2.calendar_date).withColumnRenamed(\"count(client_id)\", \"total_clients\")\n",
    "display(left_join.head(10))"
   ]
  },
  {
   "cell_type": "code",
   "execution_count": 0,
   "metadata": {
    "application/vnd.databricks.v1+cell": {
     "cellMetadata": {
      "byteLimit": 2048000,
      "rowLimit": 10000
     },
     "inputWidgets": {},
     "nuid": "1c4a254b-0f5d-4717-8a54-42e2f9adae48",
     "showTitle": false,
     "tableResultSettingsMap": {},
     "title": ""
    }
   },
   "outputs": [
    {
     "output_type": "display_data",
     "data": {
      "text/html": [
       "<style scoped>\n",
       "  .table-result-container {\n",
       "    max-height: 300px;\n",
       "    overflow: auto;\n",
       "  }\n",
       "  table, th, td {\n",
       "    border: 1px solid black;\n",
       "    border-collapse: collapse;\n",
       "  }\n",
       "  th, td {\n",
       "    padding: 5px;\n",
       "  }\n",
       "  th {\n",
       "    text-align: left;\n",
       "  }\n",
       "</style><div class='table-result-container'><table class='table-result'><thead style='background-color: white'><tr><th>client_id</th><th>col_name</th><th>val</th><th>calendar_date</th><th>total_clients</th></tr></thead><tbody><tr><td>170</td><td>col_1</td><td>2</td><td>2024-03-19</td><td>4000</td></tr><tr><td>170</td><td>col_2</td><td>6</td><td>2024-03-19</td><td>4000</td></tr><tr><td>170</td><td>col_3</td><td>6</td><td>2024-03-19</td><td>4000</td></tr><tr><td>170</td><td>col_4</td><td>5</td><td>2024-03-19</td><td>4000</td></tr><tr><td>170</td><td>col_5</td><td>9</td><td>2024-03-19</td><td>4000</td></tr><tr><td>170</td><td>col_6</td><td>5</td><td>2024-03-19</td><td>4000</td></tr><tr><td>170</td><td>col_7</td><td>8</td><td>2024-03-19</td><td>4000</td></tr><tr><td>170</td><td>col_8</td><td>7</td><td>2024-03-19</td><td>4000</td></tr><tr><td>170</td><td>col_9</td><td>9</td><td>2024-03-19</td><td>4000</td></tr><tr><td>170</td><td>col_10</td><td>0</td><td>2024-03-19</td><td>4000</td></tr></tbody></table></div>"
      ]
     },
     "metadata": {
      "application/vnd.databricks.v1+output": {
       "addedWidgets": {},
       "aggData": [],
       "aggError": "",
       "aggOverflow": false,
       "aggSchema": [],
       "aggSeriesLimitReached": false,
       "aggType": "",
       "arguments": {},
       "columnCustomDisplayInfos": {},
       "data": [
        [
         170,
         "col_1",
         2,
         "2024-03-19",
         4000
        ],
        [
         170,
         "col_2",
         6,
         "2024-03-19",
         4000
        ],
        [
         170,
         "col_3",
         6,
         "2024-03-19",
         4000
        ],
        [
         170,
         "col_4",
         5,
         "2024-03-19",
         4000
        ],
        [
         170,
         "col_5",
         9,
         "2024-03-19",
         4000
        ],
        [
         170,
         "col_6",
         5,
         "2024-03-19",
         4000
        ],
        [
         170,
         "col_7",
         8,
         "2024-03-19",
         4000
        ],
        [
         170,
         "col_8",
         7,
         "2024-03-19",
         4000
        ],
        [
         170,
         "col_9",
         9,
         "2024-03-19",
         4000
        ],
        [
         170,
         "col_10",
         0,
         "2024-03-19",
         4000
        ]
       ],
       "datasetInfos": [],
       "dbfsResultPath": null,
       "isJsonSchema": true,
       "metadata": {},
       "overflow": false,
       "plotOptions": {
        "customPlotOptions": {},
        "displayType": "table",
        "pivotAggregation": null,
        "pivotColumns": null,
        "xColumns": null,
        "yColumns": null
       },
       "removedWidgets": [],
       "schema": [
        {
         "metadata": "{}",
         "name": "client_id",
         "type": "\"long\""
        },
        {
         "metadata": "{}",
         "name": "col_name",
         "type": "\"string\""
        },
        {
         "metadata": "{}",
         "name": "val",
         "type": "\"long\""
        },
        {
         "metadata": "{}",
         "name": "calendar_date",
         "type": "\"date\""
        },
        {
         "metadata": "{}",
         "name": "total_clients",
         "type": "\"long\""
        }
       ],
       "type": "table"
      }
     },
     "output_type": "display_data"
    }
   ],
   "source": [
    "left_join=df_cartesian.join(df_cartesian2, df_cartesian.calendar_date==df_cartesian2.calendar_date, 'left').drop(df_cartesian2.calendar_date).withColumnRenamed(\"count(client_id)\", \"total_clients\")\n",
    "display(left_join.head(10))"
   ]
  },
  {
   "cell_type": "code",
   "execution_count": 0,
   "metadata": {
    "application/vnd.databricks.v1+cell": {
     "cellMetadata": {},
     "inputWidgets": {},
     "nuid": "f6c0b7b9-9275-46b6-8d84-2772edc932d2",
     "showTitle": false,
     "tableResultSettingsMap": {},
     "title": ""
    }
   },
   "outputs": [],
   "source": []
  }
 ],
 "metadata": {
  "application/vnd.databricks.v1+notebook": {
   "computePreferences": null,
   "dashboards": [],
   "environmentMetadata": null,
   "inputWidgetPreferences": null,
   "language": "python",
   "notebookMetadata": {
    "pythonIndentUnit": 4
   },
   "notebookName": "Generator",
   "widgets": {}
  }
 },
 "nbformat": 4,
 "nbformat_minor": 0
}