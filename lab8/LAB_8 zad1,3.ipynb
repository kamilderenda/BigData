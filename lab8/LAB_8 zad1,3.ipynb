{
 "cells": [
  {
   "cell_type": "markdown",
   "metadata": {
    "application/vnd.databricks.v1+cell": {
     "cellMetadata": {
      "byteLimit": 2048000,
      "rowLimit": 10000
     },
     "inputWidgets": {},
     "nuid": "aef02971-e85f-4c7f-9fca-5ef247198165",
     "showTitle": false,
     "tableResultSettingsMap": {},
     "title": ""
    }
   },
   "source": [
    "# ZADANIE 1\n"
   ]
  },
  {
   "cell_type": "code",
   "execution_count": 0,
   "metadata": {
    "application/vnd.databricks.v1+cell": {
     "cellMetadata": {
      "byteLimit": 2048000,
      "rowLimit": 10000
     },
     "inputWidgets": {},
     "nuid": "d1dcb152-03b4-4d2b-9220-ed09fa91f1ea",
     "showTitle": false,
     "tableResultSettingsMap": {},
     "title": ""
    }
   },
   "outputs": [
    {
     "output_type": "display_data",
     "data": {
      "text/html": [
       "<style scoped>\n",
       "  .table-result-container {\n",
       "    max-height: 300px;\n",
       "    overflow: auto;\n",
       "  }\n",
       "  table, th, td {\n",
       "    border: 1px solid black;\n",
       "    border-collapse: collapse;\n",
       "  }\n",
       "  th, td {\n",
       "    padding: 5px;\n",
       "  }\n",
       "  th {\n",
       "    text-align: left;\n",
       "  }\n",
       "</style><div class='table-result-container'><table class='table-result'><thead style='background-color: white'><tr><th>features</th><th>jobDetails</th><th>maiaExtractProcessDetails</th><th>numberOfFeatures</th><th>type</th></tr></thead><tbody><tr><td>List(List(List(List(List([445751.0,244970.0,138.984], [446492.041,244970.0,101.861], [446492.041,245088.372,102.604], [445751.0,245088.372,140.312], [445751.0,244970.0,138.984])), Polygon), List(null, null, null, List(), null, null, List(List(), a6a7e7ff-232fg-e222-e040-adg354fg345, Named Thoroughfare, null, List(Unknown, Confident, 2005-09-20, 2005-09-20, 0, Refinement), 1), List(), null, update, List(List(2003-03-13, New), List(2005-09-20, Modified), List(2018-07-27, Modified), List(2022-08-03, Attributes)), null, null, null, null, null, Named Extent+Group+None, a6a7e7ff-71d3-e455-0a2c5c6a, null, null, null, List(List(), 2342432jj-71dc-e222-e040-a234j324k5c6a, List(as344fr-8385-bbae-e040-a40a262c31b2, 9eeb7c1a-d123-41ca-b531-ssdf44556), List(), null, List(Collection, Confident, 2022-08-03, 2019-07-05, 34567535, Real), 3, List()), null, null, null, null, 3453654, null, List(List(), a6a7e7ff-71d7-e222-e040-a40a262c5c6a, Defined, null, List(Unknown, Confident, 2005-09-20, 2005-09-20, 0, Refinement), 1), null, null, null, List(List(List(), List(List(Initial Load, Product History, 2005-09-20, Name, null)), a6a7e7ff-71d8-e222-e040-bsfds3243, Lane, English, null, List(Unknown, Confident, 2005-09-20, 2005-09-20, 0, Refinement), 1)), null, null, null, null, null, List(List(), List(), a6a7e7ff-71d5-e222-e040-qwe234234rw, Not Applicable, null, Stylised, List(Photogrammetry, Confident, 2022-08-03, 2019-07-05, 34567535, Real), 3), null, null, null, null, null, null, null, List(), List(), List(List(List(), 689a801f-9b91-4d72-b19b-851b6c88144f, null, List(List(Lower Left, Normal Text, 2.75 m, 1, 357.3, List(List(446819.26, 245084.52), Point), MILL LANE (TRACK))), List(Collection, Confident, 2018-07-26, 2018-07-26, 42334591, Real), 1), List(List(), a6ae45e5-3439-f291-e040-a40a262c1e53, null, List(List(Centre, Normal Text, 2.75 m, 1, 10.2, List(List(445975.95, 245013.95), Point), MILL LANE)), List(Unknown, Confident, 2005-03-07, 2005-03-07, 0, Refinement), 1)), null, null, 3544354345349395541, null, 2022-08-06T03:29:46Z, null, null, null, null, null), Feature), List(List(List(List(446492.041, 245087.712, 102.616), List(446498.463, 245087.71, 103.178), List(446503.199, 245088.442, 103.205), List(446510.93, 245089.636, 102.862)), LineString), List(null, null, null, List(), null, null, List(List(), 3cf5b258-fe22-4ebc-a779-75932395e98e, Single Carriageway, null, List(Collection, Confident, 2018-07-26, 2018-07-26, 42334591, Real), 1), List(List(List(), ad7234f3fa-1fbc-4880-b55f-b0e04ab14430, Restricted Access, Active, List(), null, List(Collection, Confident, 2018-07-26, 2018-07-26, 42334591, Real), 1)), null, delete, List(List(2018-07-28, New)), null, null, null, null, null, Network+Line+None, 17e3f1c4-1802-4952-a826-ba148d063716, null, List(List(), ae22d84d-dab4-409d-9637-sdfs34234, 0, 0, null, List(Collection, Confident, 2018-07-26, 2018-07-26, 42334591, Real), 1), null, null, null, null, null, null, 34567535, null, List(List(), 709b0382-2b30-4ad3-9f6f-ere334te332ret, Defined, null, List(Collection, Confident, 2018-07-26, 2018-07-26, 42334591, Real), 1), List(List(), cd23423-ffea-4217-89b4-344frfre334, Level, 2018-07-28, null, List(Interpolation, Confident, 2018-07-28, 2018-07-28, 423424391, Real), 1), List(List(), 2342342-342435-45dc-83d3-34612b1d74a8, 3973b6cf-a2e4-432c-8f61-13e2da62bcd1, null, null, null, null, a6a39ce2-2abd-7486-e040-de3452c6e95, null, null, null, List(Collection, Confident, 2018-07-26, 2018-07-26, 42334591, Real), 1), null, List(), null, null, null, null, null, null, List(List(), List(), 0021b346-8a3c-46ca-9d2e-75e0c96a46c9, Unknown, null, Exact, List(Photogrammetry, Confident, 2018-07-26, 2018-07-26, 42334591, Real), 1), null, null, null, List(List(), 3f009479-0b1d-4c95-98dc-61064233d85b, false, false, null, List(Collection, Confident, 2018-07-26, 2018-07-26, 42334591, Real), 1), null, null, List(), List(), List(), null, null, osgb5000005233652043, null, 2022-08-06T03:29:46Z, null, null, null, null, null), Feature))</td><td>List(2022-08-06T03:29:46Z, 345345, XSDR_344985_WGZX_2022_A008_V, Stereo, 345353)</td><td>List(Incremental Update, 2022-08-06T03:30:35Z, 1.10, 110572, null, null)</td><td>2</td><td>Collection</td></tr></tbody></table></div>"
      ]
     },
     "metadata": {
      "application/vnd.databricks.v1+output": {
       "addedWidgets": {},
       "aggData": [],
       "aggError": "",
       "aggOverflow": false,
       "aggSchema": [],
       "aggSeriesLimitReached": false,
       "aggType": "",
       "arguments": {},
       "columnCustomDisplayInfos": {},
       "data": [
        [
         [
          [
           [
            [
             [
              "[445751.0,244970.0,138.984]",
              "[446492.041,244970.0,101.861]",
              "[446492.041,245088.372,102.604]",
              "[445751.0,245088.372,140.312]",
              "[445751.0,244970.0,138.984]"
             ]
            ],
            "Polygon"
           ],
           [
            null,
            null,
            null,
            [],
            null,
            null,
            [
             [],
             "a6a7e7ff-232fg-e222-e040-adg354fg345",
             "Named Thoroughfare",
             null,
             [
              "Unknown",
              "Confident",
              "2005-09-20",
              "2005-09-20",
              0,
              "Refinement"
             ],
             1
            ],
            [],
            null,
            "update",
            [
             [
              "2003-03-13",
              "New"
             ],
             [
              "2005-09-20",
              "Modified"
             ],
             [
              "2018-07-27",
              "Modified"
             ],
             [
              "2022-08-03",
              "Attributes"
             ]
            ],
            null,
            null,
            null,
            null,
            null,
            "Named Extent+Group+None",
            "a6a7e7ff-71d3-e455-0a2c5c6a",
            null,
            null,
            null,
            [
             [],
             "2342432jj-71dc-e222-e040-a234j324k5c6a",
             [
              "as344fr-8385-bbae-e040-a40a262c31b2",
              "9eeb7c1a-d123-41ca-b531-ssdf44556"
             ],
             [],
             null,
             [
              "Collection",
              "Confident",
              "2022-08-03",
              "2019-07-05",
              34567535,
              "Real"
             ],
             3,
             []
            ],
            null,
            null,
            null,
            null,
            3453654,
            null,
            [
             [],
             "a6a7e7ff-71d7-e222-e040-a40a262c5c6a",
             "Defined",
             null,
             [
              "Unknown",
              "Confident",
              "2005-09-20",
              "2005-09-20",
              0,
              "Refinement"
             ],
             1
            ],
            null,
            null,
            null,
            [
             [
              [],
              [
               [
                "Initial Load",
                "Product History",
                "2005-09-20",
                "Name",
                null
               ]
              ],
              "a6a7e7ff-71d8-e222-e040-bsfds3243",
              "Lane",
              "English",
              null,
              [
               "Unknown",
               "Confident",
               "2005-09-20",
               "2005-09-20",
               0,
               "Refinement"
              ],
              1
             ]
            ],
            null,
            null,
            null,
            null,
            null,
            [
             [],
             [],
             "a6a7e7ff-71d5-e222-e040-qwe234234rw",
             "Not Applicable",
             null,
             "Stylised",
             [
              "Photogrammetry",
              "Confident",
              "2022-08-03",
              "2019-07-05",
              34567535,
              "Real"
             ],
             3
            ],
            null,
            null,
            null,
            null,
            null,
            null,
            null,
            [],
            [],
            [
             [
              [],
              "689a801f-9b91-4d72-b19b-851b6c88144f",
              null,
              [
               [
                "Lower Left",
                "Normal Text",
                "2.75 m",
                1,
                357.3,
                [
                 [
                  446819.26,
                  245084.52
                 ],
                 "Point"
                ],
                "MILL LANE (TRACK)"
               ]
              ],
              [
               "Collection",
               "Confident",
               "2018-07-26",
               "2018-07-26",
               42334591,
               "Real"
              ],
              1
             ],
             [
              [],
              "a6ae45e5-3439-f291-e040-a40a262c1e53",
              null,
              [
               [
                "Centre",
                "Normal Text",
                "2.75 m",
                1,
                10.2,
                [
                 [
                  445975.95,
                  245013.95
                 ],
                 "Point"
                ],
                "MILL LANE"
               ]
              ],
              [
               "Unknown",
               "Confident",
               "2005-03-07",
               "2005-03-07",
               0,
               "Refinement"
              ],
              1
             ]
            ],
            null,
            null,
            "3544354345349395541",
            null,
            "2022-08-06T03:29:46Z",
            null,
            null,
            null,
            null,
            null
           ],
           "Feature"
          ],
          [
           [
            [
             [
              "446492.041",
              "245087.712",
              "102.616"
             ],
             [
              "446498.463",
              "245087.71",
              "103.178"
             ],
             [
              "446503.199",
              "245088.442",
              "103.205"
             ],
             [
              "446510.93",
              "245089.636",
              "102.862"
             ]
            ],
            "LineString"
           ],
           [
            null,
            null,
            null,
            [],
            null,
            null,
            [
             [],
             "3cf5b258-fe22-4ebc-a779-75932395e98e",
             "Single Carriageway",
             null,
             [
              "Collection",
              "Confident",
              "2018-07-26",
              "2018-07-26",
              42334591,
              "Real"
             ],
             1
            ],
            [
             [
              [],
              "ad7234f3fa-1fbc-4880-b55f-b0e04ab14430",
              "Restricted Access",
              "Active",
              [],
              null,
              [
               "Collection",
               "Confident",
               "2018-07-26",
               "2018-07-26",
               42334591,
               "Real"
              ],
              1
             ]
            ],
            null,
            "delete",
            [
             [
              "2018-07-28",
              "New"
             ]
            ],
            null,
            null,
            null,
            null,
            null,
            "Network+Line+None",
            "17e3f1c4-1802-4952-a826-ba148d063716",
            null,
            [
             [],
             "ae22d84d-dab4-409d-9637-sdfs34234",
             0,
             0,
             null,
             [
              "Collection",
              "Confident",
              "2018-07-26",
              "2018-07-26",
              42334591,
              "Real"
             ],
             1
            ],
            null,
            null,
            null,
            null,
            null,
            null,
            34567535,
            null,
            [
             [],
             "709b0382-2b30-4ad3-9f6f-ere334te332ret",
             "Defined",
             null,
             [
              "Collection",
              "Confident",
              "2018-07-26",
              "2018-07-26",
              42334591,
              "Real"
             ],
             1
            ],
            [
             [],
             "cd23423-ffea-4217-89b4-344frfre334",
             "Level",
             "2018-07-28",
             null,
             [
              "Interpolation",
              "Confident",
              "2018-07-28",
              "2018-07-28",
              423424391,
              "Real"
             ],
             1
            ],
            [
             [],
             "2342342-342435-45dc-83d3-34612b1d74a8",
             "3973b6cf-a2e4-432c-8f61-13e2da62bcd1",
             null,
             null,
             null,
             null,
             "a6a39ce2-2abd-7486-e040-de3452c6e95",
             null,
             null,
             null,
             [
              "Collection",
              "Confident",
              "2018-07-26",
              "2018-07-26",
              42334591,
              "Real"
             ],
             1
            ],
            null,
            [],
            null,
            null,
            null,
            null,
            null,
            null,
            [
             [],
             [],
             "0021b346-8a3c-46ca-9d2e-75e0c96a46c9",
             "Unknown",
             null,
             "Exact",
             [
              "Photogrammetry",
              "Confident",
              "2018-07-26",
              "2018-07-26",
              42334591,
              "Real"
             ],
             1
            ],
            null,
            null,
            null,
            [
             [],
             "3f009479-0b1d-4c95-98dc-61064233d85b",
             false,
             false,
             null,
             [
              "Collection",
              "Confident",
              "2018-07-26",
              "2018-07-26",
              42334591,
              "Real"
             ],
             1
            ],
            null,
            null,
            [],
            [],
            [],
            null,
            null,
            "osgb5000005233652043",
            null,
            "2022-08-06T03:29:46Z",
            null,
            null,
            null,
            null,
            null
           ],
           "Feature"
          ]
         ],
         [
          "2022-08-06T03:29:46Z",
          345345,
          "XSDR_344985_WGZX_2022_A008_V",
          "Stereo",
          345353
         ],
         [
          "Incremental Update",
          "2022-08-06T03:30:35Z",
          "1.10",
          110572,
          null,
          null
         ],
         2,
         "Collection"
        ]
       ],
       "datasetInfos": [],
       "dbfsResultPath": null,
       "isJsonSchema": true,
       "metadata": {},
       "overflow": false,
       "plotOptions": {
        "customPlotOptions": {},
        "displayType": "table",
        "pivotAggregation": null,
        "pivotColumns": null,
        "xColumns": null,
        "yColumns": null
       },
       "removedWidgets": [],
       "schema": [
        {
         "metadata": "{}",
         "name": "features",
         "type": "{\"type\":\"array\",\"elementType\":{\"type\":\"struct\",\"fields\":[{\"name\":\"geometry\",\"type\":{\"type\":\"struct\",\"fields\":[{\"name\":\"coordinates\",\"type\":{\"type\":\"array\",\"elementType\":{\"type\":\"array\",\"elementType\":\"string\",\"containsNull\":true},\"containsNull\":true},\"nullable\":true,\"metadata\":{}},{\"name\":\"type\",\"type\":\"string\",\"nullable\":true,\"metadata\":{}}]},\"nullable\":true,\"metadata\":{}},{\"name\":\"properties\",\"type\":{\"type\":\"struct\",\"fields\":[{\"name\":\"accessTopologyComponent\",\"type\":\"string\",\"nullable\":true,\"metadata\":{}},{\"name\":\"administrativeExceptionComponent\",\"type\":\"string\",\"nullable\":true,\"metadata\":{}},{\"name\":\"administrativeUnitComponent\",\"type\":\"string\",\"nullable\":true,\"metadata\":{}},{\"name\":\"alternativeToids\",\"type\":{\"type\":\"array\",\"elementType\":\"string\",\"containsNull\":true},\"nullable\":true,\"metadata\":{}},{\"name\":\"anomalyComponent\",\"type\":\"string\",\"nullable\":true,\"metadata\":{}},{\"name\":\"areaHeightComponent\",\"type\":\"string\",\"nullable\":true,\"metadata\":{}},{\"name\":\"baseFormComponent\",\"type\":{\"type\":\"struct\",\"fields\":[{\"name\":\"applicableContracts\",\"type\":{\"type\":\"array\",\"elementType\":\"string\",\"containsNull\":true},\"nullable\":true,\"metadata\":{}},{\"name\":\"componentId\",\"type\":\"string\",\"nullable\":true,\"metadata\":{}},{\"name\":\"form\",\"type\":\"string\",\"nullable\":true,\"metadata\":{}},{\"name\":\"source\",\"type\":\"string\",\"nullable\":true,\"metadata\":{}},{\"name\":\"versionCreationMetadata\",\"type\":{\"type\":\"struct\",\"fields\":[{\"name\":\"captureMethod\",\"type\":\"string\",\"nullable\":true,\"metadata\":{}},{\"name\":\"confidenceLevel\",\"type\":\"string\",\"nullable\":true,\"metadata\":{}},{\"name\":\"editDate\",\"type\":\"string\",\"nullable\":true,\"metadata\":{}},{\"name\":\"evidenceDate\",\"type\":\"string\",\"nullable\":true,\"metadata\":{}},{\"name\":\"jobReference\",\"type\":\"long\",\"nullable\":true,\"metadata\":{}},{\"name\":\"reasonForChange\",\"type\":\"string\",\"nullable\":true,\"metadata\":{}}]},\"nullable\":true,\"metadata\":{}},{\"name\":\"versionNumber\",\"type\":\"long\",\"nullable\":true,\"metadata\":{}}]},\"nullable\":true,\"metadata\":{}},{\"name\":\"baseFunctionComponents\",\"type\":{\"type\":\"array\",\"elementType\":{\"type\":\"struct\",\"fields\":[{\"name\":\"applicableContracts\",\"type\":{\"type\":\"array\",\"elementType\":\"string\",\"containsNull\":true},\"nullable\":true,\"metadata\":{}},{\"name\":\"componentId\",\"type\":\"string\",\"nullable\":true,\"metadata\":{}},{\"name\":\"function\",\"type\":\"string\",\"nullable\":true,\"metadata\":{}},{\"name\":\"operationalStatus\",\"type\":\"string\",\"nullable\":true,\"metadata\":{}},{\"name\":\"qualifiers\",\"type\":{\"type\":\"array\",\"elementType\":\"string\",\"containsNull\":true},\"nullable\":true,\"metadata\":{}},{\"name\":\"source\",\"type\":\"string\",\"nullable\":true,\"metadata\":{}},{\"name\":\"versionCreationMetadata\",\"type\":{\"type\":\"struct\",\"fields\":[{\"name\":\"captureMethod\",\"type\":\"string\",\"nullable\":true,\"metadata\":{}},{\"name\":\"confidenceLevel\",\"type\":\"string\",\"nullable\":true,\"metadata\":{}},{\"name\":\"editDate\",\"type\":\"string\",\"nullable\":true,\"metadata\":{}},{\"name\":\"evidenceDate\",\"type\":\"string\",\"nullable\":true,\"metadata\":{}},{\"name\":\"jobReference\",\"type\":\"long\",\"nullable\":true,\"metadata\":{}},{\"name\":\"reasonForChange\",\"type\":\"string\",\"nullable\":true,\"metadata\":{}}]},\"nullable\":true,\"metadata\":{}},{\"name\":\"versionNumber\",\"type\":\"long\",\"nullable\":true,\"metadata\":{}}]},\"containsNull\":true},\"nullable\":true,\"metadata\":{}},{\"name\":\"boundaryLinkComponent\",\"type\":\"string\",\"nullable\":true,\"metadata\":{}},{\"name\":\"changeEventType\",\"type\":\"string\",\"nullable\":true,\"metadata\":{}},{\"name\":\"changeHistory\",\"type\":{\"type\":\"array\",\"elementType\":{\"type\":\"struct\",\"fields\":[{\"name\":\"changeDate\",\"type\":\"string\",\"nullable\":true,\"metadata\":{}},{\"name\":\"reasonForChange\",\"type\":\"string\",\"nullable\":true,\"metadata\":{}}]},\"containsNull\":true},\"nullable\":true,\"metadata\":{}},{\"name\":\"controlComponent\",\"type\":\"string\",\"nullable\":true,\"metadata\":{}},{\"name\":\"crossingComponent\",\"type\":\"string\",\"nullable\":true,\"metadata\":{}},{\"name\":\"dmuComponent\",\"type\":\"string\",\"nullable\":true,\"metadata\":{}},{\"name\":\"evidenceComponent\",\"type\":\"string\",\"nullable\":true,\"metadata\":{}},{\"name\":\"externalSourceComponent\",\"type\":\"string\",\"nullable\":true,\"metadata\":{}},{\"name\":\"featureGroup\",\"type\":\"string\",\"nullable\":true,\"metadata\":{}},{\"name\":\"featureId\",\"type\":\"string\",\"nullable\":true,\"metadata\":{}},{\"name\":\"geometricZoneComponent\",\"type\":\"string\",\"nullable\":true,\"metadata\":{}},{\"name\":\"gradeSeparationComponent\",\"type\":{\"type\":\"struct\",\"fields\":[{\"name\":\"applicableContracts\",\"type\":{\"type\":\"array\",\"elementType\":\"string\",\"containsNull\":true},\"nullable\":true,\"metadata\":{}},{\"name\":\"componentId\",\"type\":\"string\",\"nullable\":true,\"metadata\":{}},{\"name\":\"gradeAtEnd\",\"type\":\"long\",\"nullable\":true,\"metadata\":{}},{\"name\":\"gradeAtStart\",\"type\":\"long\",\"nullable\":true,\"metadata\":{}},{\"name\":\"source\",\"type\":\"string\",\"nullable\":true,\"metadata\":{}},{\"name\":\"versionCreationMetadata\",\"type\":{\"type\":\"struct\",\"fields\":[{\"name\":\"captureMethod\",\"type\":\"string\",\"nullable\":true,\"metadata\":{}},{\"name\":\"confidenceLevel\",\"type\":\"string\",\"nullable\":true,\"metadata\":{}},{\"name\":\"editDate\",\"type\":\"string\",\"nullable\":true,\"metadata\":{}},{\"name\":\"evidenceDate\",\"type\":\"string\",\"nullable\":true,\"metadata\":{}},{\"name\":\"jobReference\",\"type\":\"long\",\"nullable\":true,\"metadata\":{}},{\"name\":\"reasonForChange\",\"type\":\"string\",\"nullable\":true,\"metadata\":{}}]},\"nullable\":true,\"metadata\":{}},{\"name\":\"versionNumber\",\"type\":\"long\",\"nullable\":true,\"metadata\":{}}]},\"nullable\":true,\"metadata\":{}},{\"name\":\"hasContentDefinedByComponent\",\"type\":\"string\",\"nullable\":true,\"metadata\":{}},{\"name\":\"hasDetailDefinedByComponent\",\"type\":{\"type\":\"struct\",\"fields\":[{\"name\":\"applicableContracts\",\"type\":{\"type\":\"array\",\"elementType\":\"string\",\"containsNull\":true},\"nullable\":true,\"metadata\":{}},{\"name\":\"componentId\",\"type\":\"string\",\"nullable\":true,\"metadata\":{}},{\"name\":\"networkLinkReferences\",\"type\":{\"type\":\"array\",\"elementType\":\"string\",\"containsNull\":true},\"nullable\":true,\"metadata\":{}},{\"name\":\"networkNodeReferences\",\"type\":{\"type\":\"array\",\"elementType\":\"string\",\"containsNull\":true},\"nullable\":true,\"metadata\":{}},{\"name\":\"source\",\"type\":\"string\",\"nullable\":true,\"metadata\":{}},{\"name\":\"versionCreationMetadata\",\"type\":{\"type\":\"struct\",\"fields\":[{\"name\":\"captureMethod\",\"type\":\"string\",\"nullable\":true,\"metadata\":{}},{\"name\":\"confidenceLevel\",\"type\":\"string\",\"nullable\":true,\"metadata\":{}},{\"name\":\"editDate\",\"type\":\"string\",\"nullable\":true,\"metadata\":{}},{\"name\":\"evidenceDate\",\"type\":\"string\",\"nullable\":true,\"metadata\":{}},{\"name\":\"jobReference\",\"type\":\"long\",\"nullable\":true,\"metadata\":{}},{\"name\":\"reasonForChange\",\"type\":\"string\",\"nullable\":true,\"metadata\":{}}]},\"nullable\":true,\"metadata\":{}},{\"name\":\"versionNumber\",\"type\":\"long\",\"nullable\":true,\"metadata\":{}},{\"name\":\"waterLinkReferences\",\"type\":{\"type\":\"array\",\"elementType\":\"string\",\"containsNull\":true},\"nullable\":true,\"metadata\":{}}]},\"nullable\":true,\"metadata\":{}},{\"name\":\"hasParentComponent\",\"type\":\"string\",\"nullable\":true,\"metadata\":{}},{\"name\":\"heightDatumComponent\",\"type\":\"string\",\"nullable\":true,\"metadata\":{}},{\"name\":\"indicatesBeginningOfComponent\",\"type\":\"string\",\"nullable\":true,\"metadata\":{}},{\"name\":\"interactsComponent\",\"type\":\"string\",\"nullable\":true,\"metadata\":{}},{\"name\":\"jobReference\",\"type\":\"long\",\"nullable\":true,\"metadata\":{}},{\"name\":\"legalDocumentAttribution\",\"type\":\"string\",\"nullable\":true,\"metadata\":{}},{\"name\":\"lifecycleStatusComponent\",\"type\":{\"type\":\"struct\",\"fields\":[{\"name\":\"applicableContracts\",\"type\":{\"type\":\"array\",\"elementType\":\"string\",\"containsNull\":true},\"nullable\":true,\"metadata\":{}},{\"name\":\"componentId\",\"type\":\"string\",\"nullable\":true,\"metadata\":{}},{\"name\":\"lifecycleStatus\",\"type\":\"string\",\"nullable\":true,\"metadata\":{}},{\"name\":\"source\",\"type\":\"string\",\"nullable\":true,\"metadata\":{}},{\"name\":\"versionCreationMetadata\",\"type\":{\"type\":\"struct\",\"fields\":[{\"name\":\"captureMethod\",\"type\":\"string\",\"nullable\":true,\"metadata\":{}},{\"name\":\"confidenceLevel\",\"type\":\"string\",\"nullable\":true,\"metadata\":{}},{\"name\":\"editDate\",\"type\":\"string\",\"nullable\":true,\"metadata\":{}},{\"name\":\"evidenceDate\",\"type\":\"string\",\"nullable\":true,\"metadata\":{}},{\"name\":\"jobReference\",\"type\":\"long\",\"nullable\":true,\"metadata\":{}},{\"name\":\"reasonForChange\",\"type\":\"string\",\"nullable\":true,\"metadata\":{}}]},\"nullable\":true,\"metadata\":{}},{\"name\":\"versionNumber\",\"type\":\"long\",\"nullable\":true,\"metadata\":{}}]},\"nullable\":true,\"metadata\":{}},{\"name\":\"linearHeightComponent\",\"type\":{\"type\":\"struct\",\"fields\":[{\"name\":\"applicableContracts\",\"type\":{\"type\":\"array\",\"elementType\":\"string\",\"containsNull\":true},\"nullable\":true,\"metadata\":{}},{\"name\":\"componentId\",\"type\":\"string\",\"nullable\":true,\"metadata\":{}},{\"name\":\"heightLocationType\",\"type\":\"string\",\"nullable\":true,\"metadata\":{}},{\"name\":\"lastInterpolationDate\",\"type\":\"string\",\"nullable\":true,\"metadata\":{}},{\"name\":\"source\",\"type\":\"string\",\"nullable\":true,\"metadata\":{}},{\"name\":\"versionCreationMetadata\",\"type\":{\"type\":\"struct\",\"fields\":[{\"name\":\"captureMethod\",\"type\":\"string\",\"nullable\":true,\"metadata\":{}},{\"name\":\"confidenceLevel\",\"type\":\"string\",\"nullable\":true,\"metadata\":{}},{\"name\":\"editDate\",\"type\":\"string\",\"nullable\":true,\"metadata\":{}},{\"name\":\"evidenceDate\",\"type\":\"string\",\"nullable\":true,\"metadata\":{}},{\"name\":\"jobReference\",\"type\":\"long\",\"nullable\":true,\"metadata\":{}},{\"name\":\"reasonForChange\",\"type\":\"string\",\"nullable\":true,\"metadata\":{}}]},\"nullable\":true,\"metadata\":{}},{\"name\":\"versionNumber\",\"type\":\"long\",\"nullable\":true,\"metadata\":{}}]},\"nullable\":true,\"metadata\":{}},{\"name\":\"linkTopologyComponent\",\"type\":{\"type\":\"struct\",\"fields\":[{\"name\":\"applicableContracts\",\"type\":{\"type\":\"array\",\"elementType\":\"string\",\"containsNull\":true},\"nullable\":true,\"metadata\":{}},{\"name\":\"componentId\",\"type\":\"string\",\"nullable\":true,\"metadata\":{}},{\"name\":\"endNetworkNodeReference\",\"type\":\"string\",\"nullable\":true,\"metadata\":{}},{\"name\":\"endOverheadSupportAreaReference\",\"type\":\"string\",\"nullable\":true,\"metadata\":{}},{\"name\":\"endOverheadSupportPointReference\",\"type\":\"string\",\"nullable\":true,\"metadata\":{}},{\"name\":\"endWaterNodeReference\",\"type\":\"string\",\"nullable\":true,\"metadata\":{}},{\"name\":\"source\",\"type\":\"string\",\"nullable\":true,\"metadata\":{}},{\"name\":\"startNetworkNodeReference\",\"type\":\"string\",\"nullable\":true,\"metadata\":{}},{\"name\":\"startOverheadSupportAreaReference\",\"type\":\"string\",\"nullable\":true,\"metadata\":{}},{\"name\":\"startOverheadSupportPointReference\",\"type\":\"string\",\"nullable\":true,\"metadata\":{}},{\"name\":\"startWaterNodeReference\",\"type\":\"string\",\"nullable\":true,\"metadata\":{}},{\"name\":\"versionCreationMetadata\",\"type\":{\"type\":\"struct\",\"fields\":[{\"name\":\"captureMethod\",\"type\":\"string\",\"nullable\":true,\"metadata\":{}},{\"name\":\"confidenceLevel\",\"type\":\"string\",\"nullable\":true,\"metadata\":{}},{\"name\":\"editDate\",\"type\":\"string\",\"nullable\":true,\"metadata\":{}},{\"name\":\"evidenceDate\",\"type\":\"string\",\"nullable\":true,\"metadata\":{}},{\"name\":\"jobReference\",\"type\":\"long\",\"nullable\":true,\"metadata\":{}},{\"name\":\"reasonForChange\",\"type\":\"string\",\"nullable\":true,\"metadata\":{}}]},\"nullable\":true,\"metadata\":{}},{\"name\":\"versionNumber\",\"type\":\"long\",\"nullable\":true,\"metadata\":{}}]},\"nullable\":true,\"metadata\":{}},{\"name\":\"maintainersNoteComponent\",\"type\":\"string\",\"nullable\":true,\"metadata\":{}},{\"name\":\"nameComponents\",\"type\":{\"type\":\"array\",\"elementType\":{\"type\":\"struct\",\"fields\":[{\"name\":\"applicableContracts\",\"type\":{\"type\":\"array\",\"elementType\":\"string\",\"containsNull\":true},\"nullable\":true,\"metadata\":{}},{\"name\":\"authorities\",\"type\":{\"type\":\"array\",\"elementType\":{\"type\":\"struct\",\"fields\":[{\"name\":\"authorisingRole\",\"type\":\"string\",\"nullable\":true,\"metadata\":{}},{\"name\":\"authorityType\",\"type\":\"string\",\"nullable\":true,\"metadata\":{}},{\"name\":\"confirmationDate\",\"type\":\"string\",\"nullable\":true,\"metadata\":{}},{\"name\":\"confirmationType\",\"type\":\"string\",\"nullable\":true,\"metadata\":{}},{\"name\":\"note\",\"type\":\"string\",\"nullable\":true,\"metadata\":{}}]},\"containsNull\":true},\"nullable\":true,\"metadata\":{}},{\"name\":\"componentId\",\"type\":\"string\",\"nullable\":true,\"metadata\":{}},{\"name\":\"distinctiveNameOrNumber\",\"type\":\"string\",\"nullable\":true,\"metadata\":{}},{\"name\":\"language\",\"type\":\"string\",\"nullable\":true,\"metadata\":{}},{\"name\":\"source\",\"type\":\"string\",\"nullable\":true,\"metadata\":{}},{\"name\":\"versionCreationMetadata\",\"type\":{\"type\":\"struct\",\"fields\":[{\"name\":\"captureMethod\",\"type\":\"string\",\"nullable\":true,\"metadata\":{}},{\"name\":\"confidenceLevel\",\"type\":\"string\",\"nullable\":true,\"metadata\":{}},{\"name\":\"editDate\",\"type\":\"string\",\"nullable\":true,\"metadata\":{}},{\"name\":\"evidenceDate\",\"type\":\"string\",\"nullable\":true,\"metadata\":{}},{\"name\":\"jobReference\",\"type\":\"long\",\"nullable\":true,\"metadata\":{}},{\"name\":\"reasonForChange\",\"type\":\"string\",\"nullable\":true,\"metadata\":{}}]},\"nullable\":true,\"metadata\":{}},{\"name\":\"versionNumber\",\"type\":\"long\",\"nullable\":true,\"metadata\":{}}]},\"containsNull\":true},\"nullable\":true,\"metadata\":{}},{\"name\":\"networkReferenceComponent\",\"type\":\"string\",\"nullable\":true,\"metadata\":{}},{\"name\":\"oneWayRouteInformationComponent\",\"type\":\"string\",\"nullable\":true,\"metadata\":{}},{\"name\":\"overheadNodeComponent\",\"type\":\"string\",\"nullable\":true,\"metadata\":{}},{\"name\":\"overheadPointsComponent\",\"type\":\"string\",\"nullable\":true,\"metadata\":{}},{\"name\":\"physicalRestrictionComponent\",\"type\":\"string\",\"nullable\":true,\"metadata\":{}},{\"name\":\"planarAreaLocationComponent\",\"type\":{\"type\":\"struct\",\"fields\":[{\"name\":\"applicableContracts\",\"type\":{\"type\":\"array\",\"elementType\":\"string\",\"containsNull\":true},\"nullable\":true,\"metadata\":{}},{\"name\":\"authorities\",\"type\":{\"type\":\"array\",\"elementType\":\"string\",\"containsNull\":true},\"nullable\":true,\"metadata\":{}},{\"name\":\"componentId\",\"type\":\"string\",\"nullable\":true,\"metadata\":{}},{\"name\":\"locationType\",\"type\":\"string\",\"nullable\":true,\"metadata\":{}},{\"name\":\"source\",\"type\":\"string\",\"nullable\":true,\"metadata\":{}},{\"name\":\"vagueness\",\"type\":\"string\",\"nullable\":true,\"metadata\":{}},{\"name\":\"versionCreationMetadata\",\"type\":{\"type\":\"struct\",\"fields\":[{\"name\":\"captureMethod\",\"type\":\"string\",\"nullable\":true,\"metadata\":{}},{\"name\":\"confidenceLevel\",\"type\":\"string\",\"nullable\":true,\"metadata\":{}},{\"name\":\"editDate\",\"type\":\"string\",\"nullable\":true,\"metadata\":{}},{\"name\":\"evidenceDate\",\"type\":\"string\",\"nullable\":true,\"metadata\":{}},{\"name\":\"jobReference\",\"type\":\"long\",\"nullable\":true,\"metadata\":{}},{\"name\":\"reasonForChange\",\"type\":\"string\",\"nullable\":true,\"metadata\":{}}]},\"nullable\":true,\"metadata\":{}},{\"name\":\"versionNumber\",\"type\":\"long\",\"nullable\":true,\"metadata\":{}}]},\"nullable\":true,\"metadata\":{}},{\"name\":\"planarLinearLocationComponent\",\"type\":{\"type\":\"struct\",\"fields\":[{\"name\":\"applicableContracts\",\"type\":{\"type\":\"array\",\"elementType\":\"string\",\"containsNull\":true},\"nullable\":true,\"metadata\":{}},{\"name\":\"authorities\",\"type\":{\"type\":\"array\",\"elementType\":\"string\",\"containsNull\":true},\"nullable\":true,\"metadata\":{}},{\"name\":\"componentId\",\"type\":\"string\",\"nullable\":true,\"metadata\":{}},{\"name\":\"locationType\",\"type\":\"string\",\"nullable\":true,\"metadata\":{}},{\"name\":\"source\",\"type\":\"string\",\"nullable\":true,\"metadata\":{}},{\"name\":\"vagueness\",\"type\":\"string\",\"nullable\":true,\"metadata\":{}},{\"name\":\"versionCreationMetadata\",\"type\":{\"type\":\"struct\",\"fields\":[{\"name\":\"captureMethod\",\"type\":\"string\",\"nullable\":true,\"metadata\":{}},{\"name\":\"confidenceLevel\",\"type\":\"string\",\"nullable\":true,\"metadata\":{}},{\"name\":\"editDate\",\"type\":\"string\",\"nullable\":true,\"metadata\":{}},{\"name\":\"evidenceDate\",\"type\":\"string\",\"nullable\":true,\"metadata\":{}},{\"name\":\"jobReference\",\"type\":\"long\",\"nullable\":true,\"metadata\":{}},{\"name\":\"reasonForChange\",\"type\":\"string\",\"nullable\":true,\"metadata\":{}}]},\"nullable\":true,\"metadata\":{}},{\"name\":\"versionNumber\",\"type\":\"long\",\"nullable\":true,\"metadata\":{}}]},\"nullable\":true,\"metadata\":{}},{\"name\":\"planarPointLocationComponent\",\"type\":\"string\",\"nullable\":true,\"metadata\":{}},{\"name\":\"pointHeightComponent\",\"type\":\"string\",\"nullable\":true,\"metadata\":{}},{\"name\":\"primaryStructureComponent\",\"type\":\"string\",\"nullable\":true,\"metadata\":{}},{\"name\":\"roadLinkComponent\",\"type\":{\"type\":\"struct\",\"fields\":[{\"name\":\"applicableContracts\",\"type\":{\"type\":\"array\",\"elementType\":\"string\",\"containsNull\":true},\"nullable\":true,\"metadata\":{}},{\"name\":\"componentId\",\"type\":\"string\",\"nullable\":true,\"metadata\":{}},{\"name\":\"isPrimary\",\"type\":\"boolean\",\"nullable\":true,\"metadata\":{}},{\"name\":\"isTrunk\",\"type\":\"boolean\",\"nullable\":true,\"metadata\":{}},{\"name\":\"source\",\"type\":\"string\",\"nullable\":true,\"metadata\":{}},{\"name\":\"versionCreationMetadata\",\"type\":{\"type\":\"struct\",\"fields\":[{\"name\":\"captureMethod\",\"type\":\"string\",\"nullable\":true,\"metadata\":{}},{\"name\":\"confidenceLevel\",\"type\":\"string\",\"nullable\":true,\"metadata\":{}},{\"name\":\"editDate\",\"type\":\"string\",\"nullable\":true,\"metadata\":{}},{\"name\":\"evidenceDate\",\"type\":\"string\",\"nullable\":true,\"metadata\":{}},{\"name\":\"jobReference\",\"type\":\"long\",\"nullable\":true,\"metadata\":{}},{\"name\":\"reasonForChange\",\"type\":\"string\",\"nullable\":true,\"metadata\":{}}]},\"nullable\":true,\"metadata\":{}},{\"name\":\"versionNumber\",\"type\":\"long\",\"nullable\":true,\"metadata\":{}}]},\"nullable\":true,\"metadata\":{}},{\"name\":\"routeLocationComponent\",\"type\":\"string\",\"nullable\":true,\"metadata\":{}},{\"name\":\"siteNodeComponent\",\"type\":\"string\",\"nullable\":true,\"metadata\":{}},{\"name\":\"stakeholderComponents\",\"type\":{\"type\":\"array\",\"elementType\":\"string\",\"containsNull\":true},\"nullable\":true,\"metadata\":{}},{\"name\":\"symbolCartographyComponents\",\"type\":{\"type\":\"array\",\"elementType\":\"string\",\"containsNull\":true},\"nullable\":true,\"metadata\":{}},{\"name\":\"textCartographyComponents\",\"type\":{\"type\":\"array\",\"elementType\":{\"type\":\"struct\",\"fields\":[{\"name\":\"applicableContracts\",\"type\":{\"type\":\"array\",\"elementType\":\"string\",\"containsNull\":true},\"nullable\":true,\"metadata\":{}},{\"name\":\"componentId\",\"type\":\"string\",\"nullable\":true,\"metadata\":{}},{\"name\":\"source\",\"type\":\"string\",\"nullable\":true,\"metadata\":{}},{\"name\":\"textElements\",\"type\":{\"type\":\"array\",\"elementType\":{\"type\":\"struct\",\"fields\":[{\"name\":\"anchorPoint\",\"type\":\"string\",\"nullable\":true,\"metadata\":{}},{\"name\":\"font\",\"type\":\"string\",\"nullable\":true,\"metadata\":{}},{\"name\":\"fontHeight\",\"type\":\"string\",\"nullable\":true,\"metadata\":{}},{\"name\":\"groupOrder\",\"type\":\"long\",\"nullable\":true,\"metadata\":{}},{\"name\":\"orientation\",\"type\":\"double\",\"nullable\":true,\"metadata\":{}},{\"name\":\"position\",\"type\":{\"type\":\"struct\",\"fields\":[{\"name\":\"coordinates\",\"type\":{\"type\":\"array\",\"elementType\":\"double\",\"containsNull\":true},\"nullable\":true,\"metadata\":{}},{\"name\":\"type\",\"type\":\"string\",\"nullable\":true,\"metadata\":{}}]},\"nullable\":true,\"metadata\":{}},{\"name\":\"textString\",\"type\":\"string\",\"nullable\":true,\"metadata\":{}}]},\"containsNull\":true},\"nullable\":true,\"metadata\":{}},{\"name\":\"versionCreationMetadata\",\"type\":{\"type\":\"struct\",\"fields\":[{\"name\":\"captureMethod\",\"type\":\"string\",\"nullable\":true,\"metadata\":{}},{\"name\":\"confidenceLevel\",\"type\":\"string\",\"nullable\":true,\"metadata\":{}},{\"name\":\"editDate\",\"type\":\"string\",\"nullable\":true,\"metadata\":{}},{\"name\":\"evidenceDate\",\"type\":\"string\",\"nullable\":true,\"metadata\":{}},{\"name\":\"jobReference\",\"type\":\"long\",\"nullable\":true,\"metadata\":{}},{\"name\":\"reasonForChange\",\"type\":\"string\",\"nullable\":true,\"metadata\":{}}]},\"nullable\":true,\"metadata\":{}},{\"name\":\"versionNumber\",\"type\":\"long\",\"nullable\":true,\"metadata\":{}}]},\"containsNull\":true},\"nullable\":true,\"metadata\":{}},{\"name\":\"thirdPartyInformationComponent\",\"type\":\"string\",\"nullable\":true,\"metadata\":{}},{\"name\":\"tideInformationComponent\",\"type\":\"string\",\"nullable\":true,\"metadata\":{}},{\"name\":\"toid\",\"type\":\"string\",\"nullable\":true,\"metadata\":{}},{\"name\":\"topo93SeedGeometryComponent\",\"type\":\"string\",\"nullable\":true,\"metadata\":{}},{\"name\":\"validFromTimestamp\",\"type\":\"string\",\"nullable\":true,\"metadata\":{}},{\"name\":\"waterFlowComponent\",\"type\":\"string\",\"nullable\":true,\"metadata\":{}},{\"name\":\"waterNavigabilityComponent\",\"type\":\"string\",\"nullable\":true,\"metadata\":{}},{\"name\":\"waterPermanenceComponent\",\"type\":\"string\",\"nullable\":true,\"metadata\":{}},{\"name\":\"waterProvenanceComponent\",\"type\":\"string\",\"nullable\":true,\"metadata\":{}},{\"name\":\"zoneLocationComponent\",\"type\":\"string\",\"nullable\":true,\"metadata\":{}}]},\"nullable\":true,\"metadata\":{}},{\"name\":\"type\",\"type\":\"string\",\"nullable\":true,\"metadata\":{}}]},\"containsNull\":true}"
        },
        {
         "metadata": "{}",
         "name": "jobDetails",
         "type": "{\"type\":\"struct\",\"fields\":[{\"name\":\"changesTimestamp\",\"type\":\"string\",\"nullable\":true,\"metadata\":{}},{\"name\":\"jobId\",\"type\":\"long\",\"nullable\":true,\"metadata\":{}},{\"name\":\"jobName\",\"type\":\"string\",\"nullable\":true,\"metadata\":{}},{\"name\":\"jobType\",\"type\":\"string\",\"nullable\":true,\"metadata\":{}},{\"name\":\"workspaceId\",\"type\":\"long\",\"nullable\":true,\"metadata\":{}}]}"
        },
        {
         "metadata": "{}",
         "name": "maiaExtractProcessDetails",
         "type": "{\"type\":\"struct\",\"fields\":[{\"name\":\"extractMode\",\"type\":\"string\",\"nullable\":true,\"metadata\":{}},{\"name\":\"extractionTimestamp\",\"type\":\"string\",\"nullable\":true,\"metadata\":{}},{\"name\":\"extractorVersion\",\"type\":\"string\",\"nullable\":true,\"metadata\":{}},{\"name\":\"fileSequenceNumber\",\"type\":\"long\",\"nullable\":true,\"metadata\":{}},{\"name\":\"maiaSavepoint\",\"type\":\"string\",\"nullable\":true,\"metadata\":{}},{\"name\":\"queryBox\",\"type\":\"string\",\"nullable\":true,\"metadata\":{}}]}"
        },
        {
         "metadata": "{}",
         "name": "numberOfFeatures",
         "type": "\"long\""
        },
        {
         "metadata": "{}",
         "name": "type",
         "type": "\"string\""
        }
       ],
       "type": "table"
      }
     },
     "output_type": "display_data"
    }
   ],
   "source": [
    "# File location and type\n",
    "file_location = \"dbfs:/FileStore/shared_uploads/kamilderenda@student.agh.edu.pl/brzydki.json\"\n",
    "df = spark.read.option(\"multiline\",\"true\").json(file_location)\n",
    "\n",
    "display(df)"
   ]
  },
  {
   "cell_type": "code",
   "execution_count": 0,
   "metadata": {
    "application/vnd.databricks.v1+cell": {
     "cellMetadata": {
      "byteLimit": 2048000,
      "rowLimit": 10000
     },
     "inputWidgets": {},
     "nuid": "5450ae0b-576b-4ec8-9899-20e64aa20a7d",
     "showTitle": false,
     "tableResultSettingsMap": {},
     "title": ""
    }
   },
   "outputs": [
    {
     "output_type": "display_data",
     "data": {
      "text/html": [
       "<style scoped>\n",
       "  .table-result-container {\n",
       "    max-height: 300px;\n",
       "    overflow: auto;\n",
       "  }\n",
       "  table, th, td {\n",
       "    border: 1px solid black;\n",
       "    border-collapse: collapse;\n",
       "  }\n",
       "  th, td {\n",
       "    padding: 5px;\n",
       "  }\n",
       "  th {\n",
       "    text-align: left;\n",
       "  }\n",
       "</style><div class='table-result-container'><table class='table-result'><thead style='background-color: white'><tr><th>numberOfFeatures</th><th>type</th><th>jobDetails_changesTimestamp</th><th>jobDetails_jobId</th><th>jobDetails_jobName</th><th>jobDetails_jobType</th><th>jobDetails_workspaceId</th><th>maiaExtractProcessDetails_extractMode</th><th>maiaExtractProcessDetails_extractionTimestamp</th><th>maiaExtractProcessDetails_extractorVersion</th><th>maiaExtractProcessDetails_fileSequenceNumber</th><th>maiaExtractProcessDetails_maiaSavepoint</th><th>maiaExtractProcessDetails_queryBox</th></tr></thead><tbody><tr><td>2</td><td>Collection</td><td>2022-08-06T03:29:46Z</td><td>345345</td><td>XSDR_344985_WGZX_2022_A008_V</td><td>Stereo</td><td>345353</td><td>Incremental Update</td><td>2022-08-06T03:30:35Z</td><td>1.10</td><td>110572</td><td>null</td><td>null</td></tr></tbody></table></div>"
      ]
     },
     "metadata": {
      "application/vnd.databricks.v1+output": {
       "addedWidgets": {},
       "aggData": [],
       "aggError": "",
       "aggOverflow": false,
       "aggSchema": [],
       "aggSeriesLimitReached": false,
       "aggType": "",
       "arguments": {},
       "columnCustomDisplayInfos": {},
       "data": [
        [
         2,
         "Collection",
         "2022-08-06T03:29:46Z",
         345345,
         "XSDR_344985_WGZX_2022_A008_V",
         "Stereo",
         345353,
         "Incremental Update",
         "2022-08-06T03:30:35Z",
         "1.10",
         110572,
         null,
         null
        ]
       ],
       "datasetInfos": [],
       "dbfsResultPath": null,
       "isJsonSchema": true,
       "metadata": {},
       "overflow": false,
       "plotOptions": {
        "customPlotOptions": {},
        "displayType": "table",
        "pivotAggregation": null,
        "pivotColumns": null,
        "xColumns": null,
        "yColumns": null
       },
       "removedWidgets": [],
       "schema": [
        {
         "metadata": "{}",
         "name": "numberOfFeatures",
         "type": "\"long\""
        },
        {
         "metadata": "{}",
         "name": "type",
         "type": "\"string\""
        },
        {
         "metadata": "{}",
         "name": "jobDetails_changesTimestamp",
         "type": "\"string\""
        },
        {
         "metadata": "{}",
         "name": "jobDetails_jobId",
         "type": "\"long\""
        },
        {
         "metadata": "{}",
         "name": "jobDetails_jobName",
         "type": "\"string\""
        },
        {
         "metadata": "{}",
         "name": "jobDetails_jobType",
         "type": "\"string\""
        },
        {
         "metadata": "{}",
         "name": "jobDetails_workspaceId",
         "type": "\"long\""
        },
        {
         "metadata": "{}",
         "name": "maiaExtractProcessDetails_extractMode",
         "type": "\"string\""
        },
        {
         "metadata": "{}",
         "name": "maiaExtractProcessDetails_extractionTimestamp",
         "type": "\"string\""
        },
        {
         "metadata": "{}",
         "name": "maiaExtractProcessDetails_extractorVersion",
         "type": "\"string\""
        },
        {
         "metadata": "{}",
         "name": "maiaExtractProcessDetails_fileSequenceNumber",
         "type": "\"long\""
        },
        {
         "metadata": "{}",
         "name": "maiaExtractProcessDetails_maiaSavepoint",
         "type": "\"string\""
        },
        {
         "metadata": "{}",
         "name": "maiaExtractProcessDetails_queryBox",
         "type": "\"string\""
        }
       ],
       "type": "table"
      }
     },
     "output_type": "display_data"
    }
   ],
   "source": [
    "import pyspark.sql.functions as F\n",
    "\n",
    "def flatten_df(nested_df):\n",
    "    flat_cols = [c[0] for c in nested_df.dtypes if c[1][:6] != 'struct']\n",
    "    nested_cols = [c[0] for c in nested_df.dtypes if c[1][:6] == 'struct']\n",
    "\n",
    "    flat_df = nested_df.select(flat_cols +\n",
    "                               [F.col(nc+'.'+c).alias(nc+'_'+c)\n",
    "                                for nc in nested_cols\n",
    "                                for c in nested_df.select(nc+'.*').columns])\n",
    "    return flat_df\n",
    "\n",
    "result = flatten_df(df)\n",
    "result = result.drop(\"features\")\n",
    "display(result)"
   ]
  },
  {
   "cell_type": "code",
   "execution_count": 0,
   "metadata": {
    "application/vnd.databricks.v1+cell": {
     "cellMetadata": {
      "byteLimit": 2048000,
      "rowLimit": 10000
     },
     "inputWidgets": {},
     "nuid": "74c0d3e3-52f4-4a88-8e77-0086dce96902",
     "showTitle": false,
     "tableResultSettingsMap": {},
     "title": ""
    }
   },
   "outputs": [
    {
     "output_type": "display_data",
     "data": {
      "text/html": [
       "<style scoped>\n",
       "  .table-result-container {\n",
       "    max-height: 300px;\n",
       "    overflow: auto;\n",
       "  }\n",
       "  table, th, td {\n",
       "    border: 1px solid black;\n",
       "    border-collapse: collapse;\n",
       "  }\n",
       "  th, td {\n",
       "    padding: 5px;\n",
       "  }\n",
       "  th {\n",
       "    text-align: left;\n",
       "  }\n",
       "</style><div class='table-result-container'><table class='table-result'><thead style='background-color: white'><tr><th>col_type</th><th>col_geometry_coordinates</th><th>col_geometry_type</th><th>col_properties_accessTopologyComponent</th><th>col_properties_administrativeExceptionComponent</th><th>col_properties_administrativeUnitComponent</th><th>col_properties_alternativeToids</th><th>col_properties_anomalyComponent</th><th>col_properties_areaHeightComponent</th><th>col_properties_baseFunctionComponents</th><th>col_properties_boundaryLinkComponent</th><th>col_properties_changeEventType</th><th>col_properties_changeHistory</th><th>col_properties_controlComponent</th><th>col_properties_crossingComponent</th><th>col_properties_dmuComponent</th><th>col_properties_evidenceComponent</th><th>col_properties_externalSourceComponent</th><th>col_properties_featureGroup</th><th>col_properties_featureId</th><th>col_properties_geometricZoneComponent</th><th>col_properties_hasContentDefinedByComponent</th><th>col_properties_hasParentComponent</th><th>col_properties_heightDatumComponent</th><th>col_properties_indicatesBeginningOfComponent</th><th>col_properties_interactsComponent</th><th>col_properties_jobReference</th><th>col_properties_legalDocumentAttribution</th><th>col_properties_maintainersNoteComponent</th><th>col_properties_nameComponents</th><th>col_properties_networkReferenceComponent</th><th>col_properties_oneWayRouteInformationComponent</th><th>col_properties_overheadNodeComponent</th><th>col_properties_overheadPointsComponent</th><th>col_properties_physicalRestrictionComponent</th><th>col_properties_planarPointLocationComponent</th><th>col_properties_pointHeightComponent</th><th>col_properties_primaryStructureComponent</th><th>col_properties_routeLocationComponent</th><th>col_properties_siteNodeComponent</th><th>col_properties_stakeholderComponents</th><th>col_properties_symbolCartographyComponents</th><th>col_properties_textCartographyComponents</th><th>col_properties_thirdPartyInformationComponent</th><th>col_properties_tideInformationComponent</th><th>col_properties_toid</th><th>col_properties_topo93SeedGeometryComponent</th><th>col_properties_validFromTimestamp</th><th>col_properties_waterFlowComponent</th><th>col_properties_waterNavigabilityComponent</th><th>col_properties_waterPermanenceComponent</th><th>col_properties_waterProvenanceComponent</th><th>col_properties_zoneLocationComponent</th><th>col_properties_baseFormComponent_applicableContracts</th><th>col_properties_baseFormComponent_componentId</th><th>col_properties_baseFormComponent_form</th><th>col_properties_baseFormComponent_source</th><th>col_properties_baseFormComponent_versionNumber</th><th>col_properties_gradeSeparationComponent_applicableContracts</th><th>col_properties_gradeSeparationComponent_componentId</th><th>col_properties_gradeSeparationComponent_gradeAtEnd</th><th>col_properties_gradeSeparationComponent_gradeAtStart</th><th>col_properties_gradeSeparationComponent_source</th><th>col_properties_gradeSeparationComponent_versionNumber</th><th>col_properties_hasDetailDefinedByComponent_applicableContracts</th><th>col_properties_hasDetailDefinedByComponent_componentId</th><th>col_properties_hasDetailDefinedByComponent_networkLinkReferences</th><th>col_properties_hasDetailDefinedByComponent_networkNodeReferences</th><th>col_properties_hasDetailDefinedByComponent_source</th><th>col_properties_hasDetailDefinedByComponent_versionNumber</th><th>col_properties_hasDetailDefinedByComponent_waterLinkReferences</th><th>col_properties_lifecycleStatusComponent_applicableContracts</th><th>col_properties_lifecycleStatusComponent_componentId</th><th>col_properties_lifecycleStatusComponent_lifecycleStatus</th><th>col_properties_lifecycleStatusComponent_source</th><th>col_properties_lifecycleStatusComponent_versionNumber</th><th>col_properties_linearHeightComponent_applicableContracts</th><th>col_properties_linearHeightComponent_componentId</th><th>col_properties_linearHeightComponent_heightLocationType</th><th>col_properties_linearHeightComponent_lastInterpolationDate</th><th>col_properties_linearHeightComponent_source</th><th>col_properties_linearHeightComponent_versionNumber</th><th>col_properties_linkTopologyComponent_applicableContracts</th><th>col_properties_linkTopologyComponent_componentId</th><th>col_properties_linkTopologyComponent_endNetworkNodeReference</th><th>col_properties_linkTopologyComponent_endOverheadSupportAreaReference</th><th>col_properties_linkTopologyComponent_endOverheadSupportPointReference</th><th>col_properties_linkTopologyComponent_endWaterNodeReference</th><th>col_properties_linkTopologyComponent_source</th><th>col_properties_linkTopologyComponent_startNetworkNodeReference</th><th>col_properties_linkTopologyComponent_startOverheadSupportAreaReference</th><th>col_properties_linkTopologyComponent_startOverheadSupportPointReference</th><th>col_properties_linkTopologyComponent_startWaterNodeReference</th><th>col_properties_linkTopologyComponent_versionNumber</th><th>col_properties_planarAreaLocationComponent_applicableContracts</th><th>col_properties_planarAreaLocationComponent_authorities</th><th>col_properties_planarAreaLocationComponent_componentId</th><th>col_properties_planarAreaLocationComponent_locationType</th><th>col_properties_planarAreaLocationComponent_source</th><th>col_properties_planarAreaLocationComponent_vagueness</th><th>col_properties_planarAreaLocationComponent_versionNumber</th><th>col_properties_planarLinearLocationComponent_applicableContracts</th><th>col_properties_planarLinearLocationComponent_authorities</th><th>col_properties_planarLinearLocationComponent_componentId</th><th>col_properties_planarLinearLocationComponent_locationType</th><th>col_properties_planarLinearLocationComponent_source</th><th>col_properties_planarLinearLocationComponent_vagueness</th><th>col_properties_planarLinearLocationComponent_versionNumber</th><th>col_properties_roadLinkComponent_applicableContracts</th><th>col_properties_roadLinkComponent_componentId</th><th>col_properties_roadLinkComponent_isPrimary</th><th>col_properties_roadLinkComponent_isTrunk</th><th>col_properties_roadLinkComponent_source</th><th>col_properties_roadLinkComponent_versionNumber</th><th>col_properties_baseFormComponent_versionCreationMetadata_captureMethod</th><th>col_properties_baseFormComponent_versionCreationMetadata_confidenceLevel</th><th>col_properties_baseFormComponent_versionCreationMetadata_editDate</th><th>col_properties_baseFormComponent_versionCreationMetadata_evidenceDate</th><th>col_properties_baseFormComponent_versionCreationMetadata_jobReference</th><th>col_properties_baseFormComponent_versionCreationMetadata_reasonForChange</th><th>col_properties_gradeSeparationComponent_versionCreationMetadata_captureMethod</th><th>col_properties_gradeSeparationComponent_versionCreationMetadata_confidenceLevel</th><th>col_properties_gradeSeparationComponent_versionCreationMetadata_editDate</th><th>col_properties_gradeSeparationComponent_versionCreationMetadata_evidenceDate</th><th>col_properties_gradeSeparationComponent_versionCreationMetadata_jobReference</th><th>col_properties_gradeSeparationComponent_versionCreationMetadata_reasonForChange</th><th>col_properties_hasDetailDefinedByComponent_versionCreationMetadata_captureMethod</th><th>col_properties_hasDetailDefinedByComponent_versionCreationMetadata_confidenceLevel</th><th>col_properties_hasDetailDefinedByComponent_versionCreationMetadata_editDate</th><th>col_properties_hasDetailDefinedByComponent_versionCreationMetadata_evidenceDate</th><th>col_properties_hasDetailDefinedByComponent_versionCreationMetadata_jobReference</th><th>col_properties_hasDetailDefinedByComponent_versionCreationMetadata_reasonForChange</th><th>col_properties_lifecycleStatusComponent_versionCreationMetadata_captureMethod</th><th>col_properties_lifecycleStatusComponent_versionCreationMetadata_confidenceLevel</th><th>col_properties_lifecycleStatusComponent_versionCreationMetadata_editDate</th><th>col_properties_lifecycleStatusComponent_versionCreationMetadata_evidenceDate</th><th>col_properties_lifecycleStatusComponent_versionCreationMetadata_jobReference</th><th>col_properties_lifecycleStatusComponent_versionCreationMetadata_reasonForChange</th><th>col_properties_linearHeightComponent_versionCreationMetadata_captureMethod</th><th>col_properties_linearHeightComponent_versionCreationMetadata_confidenceLevel</th><th>col_properties_linearHeightComponent_versionCreationMetadata_editDate</th><th>col_properties_linearHeightComponent_versionCreationMetadata_evidenceDate</th><th>col_properties_linearHeightComponent_versionCreationMetadata_jobReference</th><th>col_properties_linearHeightComponent_versionCreationMetadata_reasonForChange</th><th>col_properties_linkTopologyComponent_versionCreationMetadata_captureMethod</th><th>col_properties_linkTopologyComponent_versionCreationMetadata_confidenceLevel</th><th>col_properties_linkTopologyComponent_versionCreationMetadata_editDate</th><th>col_properties_linkTopologyComponent_versionCreationMetadata_evidenceDate</th><th>col_properties_linkTopologyComponent_versionCreationMetadata_jobReference</th><th>col_properties_linkTopologyComponent_versionCreationMetadata_reasonForChange</th><th>col_properties_planarAreaLocationComponent_versionCreationMetadata_captureMethod</th><th>col_properties_planarAreaLocationComponent_versionCreationMetadata_confidenceLevel</th><th>col_properties_planarAreaLocationComponent_versionCreationMetadata_editDate</th><th>col_properties_planarAreaLocationComponent_versionCreationMetadata_evidenceDate</th><th>col_properties_planarAreaLocationComponent_versionCreationMetadata_jobReference</th><th>col_properties_planarAreaLocationComponent_versionCreationMetadata_reasonForChange</th><th>col_properties_planarLinearLocationComponent_versionCreationMetadata_captureMethod</th><th>col_properties_planarLinearLocationComponent_versionCreationMetadata_confidenceLevel</th><th>col_properties_planarLinearLocationComponent_versionCreationMetadata_editDate</th><th>col_properties_planarLinearLocationComponent_versionCreationMetadata_evidenceDate</th><th>col_properties_planarLinearLocationComponent_versionCreationMetadata_jobReference</th><th>col_properties_planarLinearLocationComponent_versionCreationMetadata_reasonForChange</th><th>col_properties_roadLinkComponent_versionCreationMetadata_captureMethod</th><th>col_properties_roadLinkComponent_versionCreationMetadata_confidenceLevel</th><th>col_properties_roadLinkComponent_versionCreationMetadata_editDate</th><th>col_properties_roadLinkComponent_versionCreationMetadata_evidenceDate</th><th>col_properties_roadLinkComponent_versionCreationMetadata_jobReference</th><th>col_properties_roadLinkComponent_versionCreationMetadata_reasonForChange</th></tr></thead><tbody><tr><td>Feature</td><td>List(List([445751.0,244970.0,138.984], [446492.041,244970.0,101.861], [446492.041,245088.372,102.604], [445751.0,245088.372,140.312], [445751.0,244970.0,138.984]))</td><td>Polygon</td><td>null</td><td>null</td><td>null</td><td>List()</td><td>null</td><td>null</td><td>List()</td><td>null</td><td>update</td><td>List(List(2003-03-13, New), List(2005-09-20, Modified), List(2018-07-27, Modified), List(2022-08-03, Attributes))</td><td>null</td><td>null</td><td>null</td><td>null</td><td>null</td><td>Named Extent+Group+None</td><td>a6a7e7ff-71d3-e455-0a2c5c6a</td><td>null</td><td>null</td><td>null</td><td>null</td><td>null</td><td>null</td><td>3453654</td><td>null</td><td>null</td><td>List(List(List(), List(List(Initial Load, Product History, 2005-09-20, Name, null)), a6a7e7ff-71d8-e222-e040-bsfds3243, Lane, English, null, List(Unknown, Confident, 2005-09-20, 2005-09-20, 0, Refinement), 1))</td><td>null</td><td>null</td><td>null</td><td>null</td><td>null</td><td>null</td><td>null</td><td>null</td><td>null</td><td>null</td><td>List()</td><td>List()</td><td>List(List(List(), 689a801f-9b91-4d72-b19b-851b6c88144f, null, List(List(Lower Left, Normal Text, 2.75 m, 1, 357.3, List(List(446819.26, 245084.52), Point), MILL LANE (TRACK))), List(Collection, Confident, 2018-07-26, 2018-07-26, 42334591, Real), 1), List(List(), a6ae45e5-3439-f291-e040-a40a262c1e53, null, List(List(Centre, Normal Text, 2.75 m, 1, 10.2, List(List(445975.95, 245013.95), Point), MILL LANE)), List(Unknown, Confident, 2005-03-07, 2005-03-07, 0, Refinement), 1))</td><td>null</td><td>null</td><td>3544354345349395541</td><td>null</td><td>2022-08-06T03:29:46Z</td><td>null</td><td>null</td><td>null</td><td>null</td><td>null</td><td>List()</td><td>a6a7e7ff-232fg-e222-e040-adg354fg345</td><td>Named Thoroughfare</td><td>null</td><td>1</td><td>null</td><td>null</td><td>null</td><td>null</td><td>null</td><td>null</td><td>List()</td><td>2342432jj-71dc-e222-e040-a234j324k5c6a</td><td>List(as344fr-8385-bbae-e040-a40a262c31b2, 9eeb7c1a-d123-41ca-b531-ssdf44556)</td><td>List()</td><td>null</td><td>3</td><td>List()</td><td>List()</td><td>a6a7e7ff-71d7-e222-e040-a40a262c5c6a</td><td>Defined</td><td>null</td><td>1</td><td>null</td><td>null</td><td>null</td><td>null</td><td>null</td><td>null</td><td>null</td><td>null</td><td>null</td><td>null</td><td>null</td><td>null</td><td>null</td><td>null</td><td>null</td><td>null</td><td>null</td><td>null</td><td>List()</td><td>List()</td><td>a6a7e7ff-71d5-e222-e040-qwe234234rw</td><td>Not Applicable</td><td>null</td><td>Stylised</td><td>3</td><td>null</td><td>null</td><td>null</td><td>null</td><td>null</td><td>null</td><td>null</td><td>null</td><td>null</td><td>null</td><td>null</td><td>null</td><td>null</td><td>Unknown</td><td>Confident</td><td>2005-09-20</td><td>2005-09-20</td><td>0</td><td>Refinement</td><td>null</td><td>null</td><td>null</td><td>null</td><td>null</td><td>null</td><td>Collection</td><td>Confident</td><td>2022-08-03</td><td>2019-07-05</td><td>34567535</td><td>Real</td><td>Unknown</td><td>Confident</td><td>2005-09-20</td><td>2005-09-20</td><td>0</td><td>Refinement</td><td>null</td><td>null</td><td>null</td><td>null</td><td>null</td><td>null</td><td>null</td><td>null</td><td>null</td><td>null</td><td>null</td><td>null</td><td>Photogrammetry</td><td>Confident</td><td>2022-08-03</td><td>2019-07-05</td><td>34567535</td><td>Real</td><td>null</td><td>null</td><td>null</td><td>null</td><td>null</td><td>null</td><td>null</td><td>null</td><td>null</td><td>null</td><td>null</td><td>null</td></tr><tr><td>Feature</td><td>List(List(446492.041, 245087.712, 102.616), List(446498.463, 245087.71, 103.178), List(446503.199, 245088.442, 103.205), List(446510.93, 245089.636, 102.862))</td><td>LineString</td><td>null</td><td>null</td><td>null</td><td>List()</td><td>null</td><td>null</td><td>List(List(List(), ad7234f3fa-1fbc-4880-b55f-b0e04ab14430, Restricted Access, Active, List(), null, List(Collection, Confident, 2018-07-26, 2018-07-26, 42334591, Real), 1))</td><td>null</td><td>delete</td><td>List(List(2018-07-28, New))</td><td>null</td><td>null</td><td>null</td><td>null</td><td>null</td><td>Network+Line+None</td><td>17e3f1c4-1802-4952-a826-ba148d063716</td><td>null</td><td>null</td><td>null</td><td>null</td><td>null</td><td>null</td><td>34567535</td><td>null</td><td>null</td><td>List()</td><td>null</td><td>null</td><td>null</td><td>null</td><td>null</td><td>null</td><td>null</td><td>null</td><td>null</td><td>null</td><td>List()</td><td>List()</td><td>List()</td><td>null</td><td>null</td><td>osgb5000005233652043</td><td>null</td><td>2022-08-06T03:29:46Z</td><td>null</td><td>null</td><td>null</td><td>null</td><td>null</td><td>List()</td><td>3cf5b258-fe22-4ebc-a779-75932395e98e</td><td>Single Carriageway</td><td>null</td><td>1</td><td>List()</td><td>ae22d84d-dab4-409d-9637-sdfs34234</td><td>0</td><td>0</td><td>null</td><td>1</td><td>null</td><td>null</td><td>null</td><td>null</td><td>null</td><td>null</td><td>null</td><td>List()</td><td>709b0382-2b30-4ad3-9f6f-ere334te332ret</td><td>Defined</td><td>null</td><td>1</td><td>List()</td><td>cd23423-ffea-4217-89b4-344frfre334</td><td>Level</td><td>2018-07-28</td><td>null</td><td>1</td><td>List()</td><td>2342342-342435-45dc-83d3-34612b1d74a8</td><td>3973b6cf-a2e4-432c-8f61-13e2da62bcd1</td><td>null</td><td>null</td><td>null</td><td>null</td><td>a6a39ce2-2abd-7486-e040-de3452c6e95</td><td>null</td><td>null</td><td>null</td><td>1</td><td>null</td><td>null</td><td>null</td><td>null</td><td>null</td><td>null</td><td>null</td><td>List()</td><td>List()</td><td>0021b346-8a3c-46ca-9d2e-75e0c96a46c9</td><td>Unknown</td><td>null</td><td>Exact</td><td>1</td><td>List()</td><td>3f009479-0b1d-4c95-98dc-61064233d85b</td><td>false</td><td>false</td><td>null</td><td>1</td><td>Collection</td><td>Confident</td><td>2018-07-26</td><td>2018-07-26</td><td>42334591</td><td>Real</td><td>Collection</td><td>Confident</td><td>2018-07-26</td><td>2018-07-26</td><td>42334591</td><td>Real</td><td>null</td><td>null</td><td>null</td><td>null</td><td>null</td><td>null</td><td>Collection</td><td>Confident</td><td>2018-07-26</td><td>2018-07-26</td><td>42334591</td><td>Real</td><td>Interpolation</td><td>Confident</td><td>2018-07-28</td><td>2018-07-28</td><td>423424391</td><td>Real</td><td>Collection</td><td>Confident</td><td>2018-07-26</td><td>2018-07-26</td><td>42334591</td><td>Real</td><td>null</td><td>null</td><td>null</td><td>null</td><td>null</td><td>null</td><td>Photogrammetry</td><td>Confident</td><td>2018-07-26</td><td>2018-07-26</td><td>42334591</td><td>Real</td><td>Collection</td><td>Confident</td><td>2018-07-26</td><td>2018-07-26</td><td>42334591</td><td>Real</td></tr></tbody></table></div>"
      ]
     },
     "metadata": {
      "application/vnd.databricks.v1+output": {
       "addedWidgets": {},
       "aggData": [],
       "aggError": "",
       "aggOverflow": false,
       "aggSchema": [],
       "aggSeriesLimitReached": false,
       "aggType": "",
       "arguments": {},
       "columnCustomDisplayInfos": {},
       "data": [
        [
         "Feature",
         [
          [
           "[445751.0,244970.0,138.984]",
           "[446492.041,244970.0,101.861]",
           "[446492.041,245088.372,102.604]",
           "[445751.0,245088.372,140.312]",
           "[445751.0,244970.0,138.984]"
          ]
         ],
         "Polygon",
         null,
         null,
         null,
         [],
         null,
         null,
         [],
         null,
         "update",
         [
          [
           "2003-03-13",
           "New"
          ],
          [
           "2005-09-20",
           "Modified"
          ],
          [
           "2018-07-27",
           "Modified"
          ],
          [
           "2022-08-03",
           "Attributes"
          ]
         ],
         null,
         null,
         null,
         null,
         null,
         "Named Extent+Group+None",
         "a6a7e7ff-71d3-e455-0a2c5c6a",
         null,
         null,
         null,
         null,
         null,
         null,
         3453654,
         null,
         null,
         [
          [
           [],
           [
            [
             "Initial Load",
             "Product History",
             "2005-09-20",
             "Name",
             null
            ]
           ],
           "a6a7e7ff-71d8-e222-e040-bsfds3243",
           "Lane",
           "English",
           null,
           [
            "Unknown",
            "Confident",
            "2005-09-20",
            "2005-09-20",
            0,
            "Refinement"
           ],
           1
          ]
         ],
         null,
         null,
         null,
         null,
         null,
         null,
         null,
         null,
         null,
         null,
         [],
         [],
         [
          [
           [],
           "689a801f-9b91-4d72-b19b-851b6c88144f",
           null,
           [
            [
             "Lower Left",
             "Normal Text",
             "2.75 m",
             1,
             357.3,
             [
              [
               446819.26,
               245084.52
              ],
              "Point"
             ],
             "MILL LANE (TRACK)"
            ]
           ],
           [
            "Collection",
            "Confident",
            "2018-07-26",
            "2018-07-26",
            42334591,
            "Real"
           ],
           1
          ],
          [
           [],
           "a6ae45e5-3439-f291-e040-a40a262c1e53",
           null,
           [
            [
             "Centre",
             "Normal Text",
             "2.75 m",
             1,
             10.2,
             [
              [
               445975.95,
               245013.95
              ],
              "Point"
             ],
             "MILL LANE"
            ]
           ],
           [
            "Unknown",
            "Confident",
            "2005-03-07",
            "2005-03-07",
            0,
            "Refinement"
           ],
           1
          ]
         ],
         null,
         null,
         "3544354345349395541",
         null,
         "2022-08-06T03:29:46Z",
         null,
         null,
         null,
         null,
         null,
         [],
         "a6a7e7ff-232fg-e222-e040-adg354fg345",
         "Named Thoroughfare",
         null,
         1,
         null,
         null,
         null,
         null,
         null,
         null,
         [],
         "2342432jj-71dc-e222-e040-a234j324k5c6a",
         [
          "as344fr-8385-bbae-e040-a40a262c31b2",
          "9eeb7c1a-d123-41ca-b531-ssdf44556"
         ],
         [],
         null,
         3,
         [],
         [],
         "a6a7e7ff-71d7-e222-e040-a40a262c5c6a",
         "Defined",
         null,
         1,
         null,
         null,
         null,
         null,
         null,
         null,
         null,
         null,
         null,
         null,
         null,
         null,
         null,
         null,
         null,
         null,
         null,
         null,
         [],
         [],
         "a6a7e7ff-71d5-e222-e040-qwe234234rw",
         "Not Applicable",
         null,
         "Stylised",
         3,
         null,
         null,
         null,
         null,
         null,
         null,
         null,
         null,
         null,
         null,
         null,
         null,
         null,
         "Unknown",
         "Confident",
         "2005-09-20",
         "2005-09-20",
         0,
         "Refinement",
         null,
         null,
         null,
         null,
         null,
         null,
         "Collection",
         "Confident",
         "2022-08-03",
         "2019-07-05",
         34567535,
         "Real",
         "Unknown",
         "Confident",
         "2005-09-20",
         "2005-09-20",
         0,
         "Refinement",
         null,
         null,
         null,
         null,
         null,
         null,
         null,
         null,
         null,
         null,
         null,
         null,
         "Photogrammetry",
         "Confident",
         "2022-08-03",
         "2019-07-05",
         34567535,
         "Real",
         null,
         null,
         null,
         null,
         null,
         null,
         null,
         null,
         null,
         null,
         null,
         null
        ],
        [
         "Feature",
         [
          [
           "446492.041",
           "245087.712",
           "102.616"
          ],
          [
           "446498.463",
           "245087.71",
           "103.178"
          ],
          [
           "446503.199",
           "245088.442",
           "103.205"
          ],
          [
           "446510.93",
           "245089.636",
           "102.862"
          ]
         ],
         "LineString",
         null,
         null,
         null,
         [],
         null,
         null,
         [
          [
           [],
           "ad7234f3fa-1fbc-4880-b55f-b0e04ab14430",
           "Restricted Access",
           "Active",
           [],
           null,
           [
            "Collection",
            "Confident",
            "2018-07-26",
            "2018-07-26",
            42334591,
            "Real"
           ],
           1
          ]
         ],
         null,
         "delete",
         [
          [
           "2018-07-28",
           "New"
          ]
         ],
         null,
         null,
         null,
         null,
         null,
         "Network+Line+None",
         "17e3f1c4-1802-4952-a826-ba148d063716",
         null,
         null,
         null,
         null,
         null,
         null,
         34567535,
         null,
         null,
         [],
         null,
         null,
         null,
         null,
         null,
         null,
         null,
         null,
         null,
         null,
         [],
         [],
         [],
         null,
         null,
         "osgb5000005233652043",
         null,
         "2022-08-06T03:29:46Z",
         null,
         null,
         null,
         null,
         null,
         [],
         "3cf5b258-fe22-4ebc-a779-75932395e98e",
         "Single Carriageway",
         null,
         1,
         [],
         "ae22d84d-dab4-409d-9637-sdfs34234",
         0,
         0,
         null,
         1,
         null,
         null,
         null,
         null,
         null,
         null,
         null,
         [],
         "709b0382-2b30-4ad3-9f6f-ere334te332ret",
         "Defined",
         null,
         1,
         [],
         "cd23423-ffea-4217-89b4-344frfre334",
         "Level",
         "2018-07-28",
         null,
         1,
         [],
         "2342342-342435-45dc-83d3-34612b1d74a8",
         "3973b6cf-a2e4-432c-8f61-13e2da62bcd1",
         null,
         null,
         null,
         null,
         "a6a39ce2-2abd-7486-e040-de3452c6e95",
         null,
         null,
         null,
         1,
         null,
         null,
         null,
         null,
         null,
         null,
         null,
         [],
         [],
         "0021b346-8a3c-46ca-9d2e-75e0c96a46c9",
         "Unknown",
         null,
         "Exact",
         1,
         [],
         "3f009479-0b1d-4c95-98dc-61064233d85b",
         false,
         false,
         null,
         1,
         "Collection",
         "Confident",
         "2018-07-26",
         "2018-07-26",
         42334591,
         "Real",
         "Collection",
         "Confident",
         "2018-07-26",
         "2018-07-26",
         42334591,
         "Real",
         null,
         null,
         null,
         null,
         null,
         null,
         "Collection",
         "Confident",
         "2018-07-26",
         "2018-07-26",
         42334591,
         "Real",
         "Interpolation",
         "Confident",
         "2018-07-28",
         "2018-07-28",
         423424391,
         "Real",
         "Collection",
         "Confident",
         "2018-07-26",
         "2018-07-26",
         42334591,
         "Real",
         null,
         null,
         null,
         null,
         null,
         null,
         "Photogrammetry",
         "Confident",
         "2018-07-26",
         "2018-07-26",
         42334591,
         "Real",
         "Collection",
         "Confident",
         "2018-07-26",
         "2018-07-26",
         42334591,
         "Real"
        ]
       ],
       "datasetInfos": [],
       "dbfsResultPath": null,
       "isJsonSchema": true,
       "metadata": {},
       "overflow": false,
       "plotOptions": {
        "customPlotOptions": {},
        "displayType": "table",
        "pivotAggregation": null,
        "pivotColumns": null,
        "xColumns": null,
        "yColumns": null
       },
       "removedWidgets": [],
       "schema": [
        {
         "metadata": "{}",
         "name": "col_type",
         "type": "\"string\""
        },
        {
         "metadata": "{}",
         "name": "col_geometry_coordinates",
         "type": "{\"type\":\"array\",\"elementType\":{\"type\":\"array\",\"elementType\":\"string\",\"containsNull\":true},\"containsNull\":true}"
        },
        {
         "metadata": "{}",
         "name": "col_geometry_type",
         "type": "\"string\""
        },
        {
         "metadata": "{}",
         "name": "col_properties_accessTopologyComponent",
         "type": "\"string\""
        },
        {
         "metadata": "{}",
         "name": "col_properties_administrativeExceptionComponent",
         "type": "\"string\""
        },
        {
         "metadata": "{}",
         "name": "col_properties_administrativeUnitComponent",
         "type": "\"string\""
        },
        {
         "metadata": "{}",
         "name": "col_properties_alternativeToids",
         "type": "{\"type\":\"array\",\"elementType\":\"string\",\"containsNull\":true}"
        },
        {
         "metadata": "{}",
         "name": "col_properties_anomalyComponent",
         "type": "\"string\""
        },
        {
         "metadata": "{}",
         "name": "col_properties_areaHeightComponent",
         "type": "\"string\""
        },
        {
         "metadata": "{}",
         "name": "col_properties_baseFunctionComponents",
         "type": "{\"type\":\"array\",\"elementType\":{\"type\":\"struct\",\"fields\":[{\"name\":\"applicableContracts\",\"type\":{\"type\":\"array\",\"elementType\":\"string\",\"containsNull\":true},\"nullable\":true,\"metadata\":{}},{\"name\":\"componentId\",\"type\":\"string\",\"nullable\":true,\"metadata\":{}},{\"name\":\"function\",\"type\":\"string\",\"nullable\":true,\"metadata\":{}},{\"name\":\"operationalStatus\",\"type\":\"string\",\"nullable\":true,\"metadata\":{}},{\"name\":\"qualifiers\",\"type\":{\"type\":\"array\",\"elementType\":\"string\",\"containsNull\":true},\"nullable\":true,\"metadata\":{}},{\"name\":\"source\",\"type\":\"string\",\"nullable\":true,\"metadata\":{}},{\"name\":\"versionCreationMetadata\",\"type\":{\"type\":\"struct\",\"fields\":[{\"name\":\"captureMethod\",\"type\":\"string\",\"nullable\":true,\"metadata\":{}},{\"name\":\"confidenceLevel\",\"type\":\"string\",\"nullable\":true,\"metadata\":{}},{\"name\":\"editDate\",\"type\":\"string\",\"nullable\":true,\"metadata\":{}},{\"name\":\"evidenceDate\",\"type\":\"string\",\"nullable\":true,\"metadata\":{}},{\"name\":\"jobReference\",\"type\":\"long\",\"nullable\":true,\"metadata\":{}},{\"name\":\"reasonForChange\",\"type\":\"string\",\"nullable\":true,\"metadata\":{}}]},\"nullable\":true,\"metadata\":{}},{\"name\":\"versionNumber\",\"type\":\"long\",\"nullable\":true,\"metadata\":{}}]},\"containsNull\":true}"
        },
        {
         "metadata": "{}",
         "name": "col_properties_boundaryLinkComponent",
         "type": "\"string\""
        },
        {
         "metadata": "{}",
         "name": "col_properties_changeEventType",
         "type": "\"string\""
        },
        {
         "metadata": "{}",
         "name": "col_properties_changeHistory",
         "type": "{\"type\":\"array\",\"elementType\":{\"type\":\"struct\",\"fields\":[{\"name\":\"changeDate\",\"type\":\"string\",\"nullable\":true,\"metadata\":{}},{\"name\":\"reasonForChange\",\"type\":\"string\",\"nullable\":true,\"metadata\":{}}]},\"containsNull\":true}"
        },
        {
         "metadata": "{}",
         "name": "col_properties_controlComponent",
         "type": "\"string\""
        },
        {
         "metadata": "{}",
         "name": "col_properties_crossingComponent",
         "type": "\"string\""
        },
        {
         "metadata": "{}",
         "name": "col_properties_dmuComponent",
         "type": "\"string\""
        },
        {
         "metadata": "{}",
         "name": "col_properties_evidenceComponent",
         "type": "\"string\""
        },
        {
         "metadata": "{}",
         "name": "col_properties_externalSourceComponent",
         "type": "\"string\""
        },
        {
         "metadata": "{}",
         "name": "col_properties_featureGroup",
         "type": "\"string\""
        },
        {
         "metadata": "{}",
         "name": "col_properties_featureId",
         "type": "\"string\""
        },
        {
         "metadata": "{}",
         "name": "col_properties_geometricZoneComponent",
         "type": "\"string\""
        },
        {
         "metadata": "{}",
         "name": "col_properties_hasContentDefinedByComponent",
         "type": "\"string\""
        },
        {
         "metadata": "{}",
         "name": "col_properties_hasParentComponent",
         "type": "\"string\""
        },
        {
         "metadata": "{}",
         "name": "col_properties_heightDatumComponent",
         "type": "\"string\""
        },
        {
         "metadata": "{}",
         "name": "col_properties_indicatesBeginningOfComponent",
         "type": "\"string\""
        },
        {
         "metadata": "{}",
         "name": "col_properties_interactsComponent",
         "type": "\"string\""
        },
        {
         "metadata": "{}",
         "name": "col_properties_jobReference",
         "type": "\"long\""
        },
        {
         "metadata": "{}",
         "name": "col_properties_legalDocumentAttribution",
         "type": "\"string\""
        },
        {
         "metadata": "{}",
         "name": "col_properties_maintainersNoteComponent",
         "type": "\"string\""
        },
        {
         "metadata": "{}",
         "name": "col_properties_nameComponents",
         "type": "{\"type\":\"array\",\"elementType\":{\"type\":\"struct\",\"fields\":[{\"name\":\"applicableContracts\",\"type\":{\"type\":\"array\",\"elementType\":\"string\",\"containsNull\":true},\"nullable\":true,\"metadata\":{}},{\"name\":\"authorities\",\"type\":{\"type\":\"array\",\"elementType\":{\"type\":\"struct\",\"fields\":[{\"name\":\"authorisingRole\",\"type\":\"string\",\"nullable\":true,\"metadata\":{}},{\"name\":\"authorityType\",\"type\":\"string\",\"nullable\":true,\"metadata\":{}},{\"name\":\"confirmationDate\",\"type\":\"string\",\"nullable\":true,\"metadata\":{}},{\"name\":\"confirmationType\",\"type\":\"string\",\"nullable\":true,\"metadata\":{}},{\"name\":\"note\",\"type\":\"string\",\"nullable\":true,\"metadata\":{}}]},\"containsNull\":true},\"nullable\":true,\"metadata\":{}},{\"name\":\"componentId\",\"type\":\"string\",\"nullable\":true,\"metadata\":{}},{\"name\":\"distinctiveNameOrNumber\",\"type\":\"string\",\"nullable\":true,\"metadata\":{}},{\"name\":\"language\",\"type\":\"string\",\"nullable\":true,\"metadata\":{}},{\"name\":\"source\",\"type\":\"string\",\"nullable\":true,\"metadata\":{}},{\"name\":\"versionCreationMetadata\",\"type\":{\"type\":\"struct\",\"fields\":[{\"name\":\"captureMethod\",\"type\":\"string\",\"nullable\":true,\"metadata\":{}},{\"name\":\"confidenceLevel\",\"type\":\"string\",\"nullable\":true,\"metadata\":{}},{\"name\":\"editDate\",\"type\":\"string\",\"nullable\":true,\"metadata\":{}},{\"name\":\"evidenceDate\",\"type\":\"string\",\"nullable\":true,\"metadata\":{}},{\"name\":\"jobReference\",\"type\":\"long\",\"nullable\":true,\"metadata\":{}},{\"name\":\"reasonForChange\",\"type\":\"string\",\"nullable\":true,\"metadata\":{}}]},\"nullable\":true,\"metadata\":{}},{\"name\":\"versionNumber\",\"type\":\"long\",\"nullable\":true,\"metadata\":{}}]},\"containsNull\":true}"
        },
        {
         "metadata": "{}",
         "name": "col_properties_networkReferenceComponent",
         "type": "\"string\""
        },
        {
         "metadata": "{}",
         "name": "col_properties_oneWayRouteInformationComponent",
         "type": "\"string\""
        },
        {
         "metadata": "{}",
         "name": "col_properties_overheadNodeComponent",
         "type": "\"string\""
        },
        {
         "metadata": "{}",
         "name": "col_properties_overheadPointsComponent",
         "type": "\"string\""
        },
        {
         "metadata": "{}",
         "name": "col_properties_physicalRestrictionComponent",
         "type": "\"string\""
        },
        {
         "metadata": "{}",
         "name": "col_properties_planarPointLocationComponent",
         "type": "\"string\""
        },
        {
         "metadata": "{}",
         "name": "col_properties_pointHeightComponent",
         "type": "\"string\""
        },
        {
         "metadata": "{}",
         "name": "col_properties_primaryStructureComponent",
         "type": "\"string\""
        },
        {
         "metadata": "{}",
         "name": "col_properties_routeLocationComponent",
         "type": "\"string\""
        },
        {
         "metadata": "{}",
         "name": "col_properties_siteNodeComponent",
         "type": "\"string\""
        },
        {
         "metadata": "{}",
         "name": "col_properties_stakeholderComponents",
         "type": "{\"type\":\"array\",\"elementType\":\"string\",\"containsNull\":true}"
        },
        {
         "metadata": "{}",
         "name": "col_properties_symbolCartographyComponents",
         "type": "{\"type\":\"array\",\"elementType\":\"string\",\"containsNull\":true}"
        },
        {
         "metadata": "{}",
         "name": "col_properties_textCartographyComponents",
         "type": "{\"type\":\"array\",\"elementType\":{\"type\":\"struct\",\"fields\":[{\"name\":\"applicableContracts\",\"type\":{\"type\":\"array\",\"elementType\":\"string\",\"containsNull\":true},\"nullable\":true,\"metadata\":{}},{\"name\":\"componentId\",\"type\":\"string\",\"nullable\":true,\"metadata\":{}},{\"name\":\"source\",\"type\":\"string\",\"nullable\":true,\"metadata\":{}},{\"name\":\"textElements\",\"type\":{\"type\":\"array\",\"elementType\":{\"type\":\"struct\",\"fields\":[{\"name\":\"anchorPoint\",\"type\":\"string\",\"nullable\":true,\"metadata\":{}},{\"name\":\"font\",\"type\":\"string\",\"nullable\":true,\"metadata\":{}},{\"name\":\"fontHeight\",\"type\":\"string\",\"nullable\":true,\"metadata\":{}},{\"name\":\"groupOrder\",\"type\":\"long\",\"nullable\":true,\"metadata\":{}},{\"name\":\"orientation\",\"type\":\"double\",\"nullable\":true,\"metadata\":{}},{\"name\":\"position\",\"type\":{\"type\":\"struct\",\"fields\":[{\"name\":\"coordinates\",\"type\":{\"type\":\"array\",\"elementType\":\"double\",\"containsNull\":true},\"nullable\":true,\"metadata\":{}},{\"name\":\"type\",\"type\":\"string\",\"nullable\":true,\"metadata\":{}}]},\"nullable\":true,\"metadata\":{}},{\"name\":\"textString\",\"type\":\"string\",\"nullable\":true,\"metadata\":{}}]},\"containsNull\":true},\"nullable\":true,\"metadata\":{}},{\"name\":\"versionCreationMetadata\",\"type\":{\"type\":\"struct\",\"fields\":[{\"name\":\"captureMethod\",\"type\":\"string\",\"nullable\":true,\"metadata\":{}},{\"name\":\"confidenceLevel\",\"type\":\"string\",\"nullable\":true,\"metadata\":{}},{\"name\":\"editDate\",\"type\":\"string\",\"nullable\":true,\"metadata\":{}},{\"name\":\"evidenceDate\",\"type\":\"string\",\"nullable\":true,\"metadata\":{}},{\"name\":\"jobReference\",\"type\":\"long\",\"nullable\":true,\"metadata\":{}},{\"name\":\"reasonForChange\",\"type\":\"string\",\"nullable\":true,\"metadata\":{}}]},\"nullable\":true,\"metadata\":{}},{\"name\":\"versionNumber\",\"type\":\"long\",\"nullable\":true,\"metadata\":{}}]},\"containsNull\":true}"
        },
        {
         "metadata": "{}",
         "name": "col_properties_thirdPartyInformationComponent",
         "type": "\"string\""
        },
        {
         "metadata": "{}",
         "name": "col_properties_tideInformationComponent",
         "type": "\"string\""
        },
        {
         "metadata": "{}",
         "name": "col_properties_toid",
         "type": "\"string\""
        },
        {
         "metadata": "{}",
         "name": "col_properties_topo93SeedGeometryComponent",
         "type": "\"string\""
        },
        {
         "metadata": "{}",
         "name": "col_properties_validFromTimestamp",
         "type": "\"string\""
        },
        {
         "metadata": "{}",
         "name": "col_properties_waterFlowComponent",
         "type": "\"string\""
        },
        {
         "metadata": "{}",
         "name": "col_properties_waterNavigabilityComponent",
         "type": "\"string\""
        },
        {
         "metadata": "{}",
         "name": "col_properties_waterPermanenceComponent",
         "type": "\"string\""
        },
        {
         "metadata": "{}",
         "name": "col_properties_waterProvenanceComponent",
         "type": "\"string\""
        },
        {
         "metadata": "{}",
         "name": "col_properties_zoneLocationComponent",
         "type": "\"string\""
        },
        {
         "metadata": "{}",
         "name": "col_properties_baseFormComponent_applicableContracts",
         "type": "{\"type\":\"array\",\"elementType\":\"string\",\"containsNull\":true}"
        },
        {
         "metadata": "{}",
         "name": "col_properties_baseFormComponent_componentId",
         "type": "\"string\""
        },
        {
         "metadata": "{}",
         "name": "col_properties_baseFormComponent_form",
         "type": "\"string\""
        },
        {
         "metadata": "{}",
         "name": "col_properties_baseFormComponent_source",
         "type": "\"string\""
        },
        {
         "metadata": "{}",
         "name": "col_properties_baseFormComponent_versionNumber",
         "type": "\"long\""
        },
        {
         "metadata": "{}",
         "name": "col_properties_gradeSeparationComponent_applicableContracts",
         "type": "{\"type\":\"array\",\"elementType\":\"string\",\"containsNull\":true}"
        },
        {
         "metadata": "{}",
         "name": "col_properties_gradeSeparationComponent_componentId",
         "type": "\"string\""
        },
        {
         "metadata": "{}",
         "name": "col_properties_gradeSeparationComponent_gradeAtEnd",
         "type": "\"long\""
        },
        {
         "metadata": "{}",
         "name": "col_properties_gradeSeparationComponent_gradeAtStart",
         "type": "\"long\""
        },
        {
         "metadata": "{}",
         "name": "col_properties_gradeSeparationComponent_source",
         "type": "\"string\""
        },
        {
         "metadata": "{}",
         "name": "col_properties_gradeSeparationComponent_versionNumber",
         "type": "\"long\""
        },
        {
         "metadata": "{}",
         "name": "col_properties_hasDetailDefinedByComponent_applicableContracts",
         "type": "{\"type\":\"array\",\"elementType\":\"string\",\"containsNull\":true}"
        },
        {
         "metadata": "{}",
         "name": "col_properties_hasDetailDefinedByComponent_componentId",
         "type": "\"string\""
        },
        {
         "metadata": "{}",
         "name": "col_properties_hasDetailDefinedByComponent_networkLinkReferences",
         "type": "{\"type\":\"array\",\"elementType\":\"string\",\"containsNull\":true}"
        },
        {
         "metadata": "{}",
         "name": "col_properties_hasDetailDefinedByComponent_networkNodeReferences",
         "type": "{\"type\":\"array\",\"elementType\":\"string\",\"containsNull\":true}"
        },
        {
         "metadata": "{}",
         "name": "col_properties_hasDetailDefinedByComponent_source",
         "type": "\"string\""
        },
        {
         "metadata": "{}",
         "name": "col_properties_hasDetailDefinedByComponent_versionNumber",
         "type": "\"long\""
        },
        {
         "metadata": "{}",
         "name": "col_properties_hasDetailDefinedByComponent_waterLinkReferences",
         "type": "{\"type\":\"array\",\"elementType\":\"string\",\"containsNull\":true}"
        },
        {
         "metadata": "{}",
         "name": "col_properties_lifecycleStatusComponent_applicableContracts",
         "type": "{\"type\":\"array\",\"elementType\":\"string\",\"containsNull\":true}"
        },
        {
         "metadata": "{}",
         "name": "col_properties_lifecycleStatusComponent_componentId",
         "type": "\"string\""
        },
        {
         "metadata": "{}",
         "name": "col_properties_lifecycleStatusComponent_lifecycleStatus",
         "type": "\"string\""
        },
        {
         "metadata": "{}",
         "name": "col_properties_lifecycleStatusComponent_source",
         "type": "\"string\""
        },
        {
         "metadata": "{}",
         "name": "col_properties_lifecycleStatusComponent_versionNumber",
         "type": "\"long\""
        },
        {
         "metadata": "{}",
         "name": "col_properties_linearHeightComponent_applicableContracts",
         "type": "{\"type\":\"array\",\"elementType\":\"string\",\"containsNull\":true}"
        },
        {
         "metadata": "{}",
         "name": "col_properties_linearHeightComponent_componentId",
         "type": "\"string\""
        },
        {
         "metadata": "{}",
         "name": "col_properties_linearHeightComponent_heightLocationType",
         "type": "\"string\""
        },
        {
         "metadata": "{}",
         "name": "col_properties_linearHeightComponent_lastInterpolationDate",
         "type": "\"string\""
        },
        {
         "metadata": "{}",
         "name": "col_properties_linearHeightComponent_source",
         "type": "\"string\""
        },
        {
         "metadata": "{}",
         "name": "col_properties_linearHeightComponent_versionNumber",
         "type": "\"long\""
        },
        {
         "metadata": "{}",
         "name": "col_properties_linkTopologyComponent_applicableContracts",
         "type": "{\"type\":\"array\",\"elementType\":\"string\",\"containsNull\":true}"
        },
        {
         "metadata": "{}",
         "name": "col_properties_linkTopologyComponent_componentId",
         "type": "\"string\""
        },
        {
         "metadata": "{}",
         "name": "col_properties_linkTopologyComponent_endNetworkNodeReference",
         "type": "\"string\""
        },
        {
         "metadata": "{}",
         "name": "col_properties_linkTopologyComponent_endOverheadSupportAreaReference",
         "type": "\"string\""
        },
        {
         "metadata": "{}",
         "name": "col_properties_linkTopologyComponent_endOverheadSupportPointReference",
         "type": "\"string\""
        },
        {
         "metadata": "{}",
         "name": "col_properties_linkTopologyComponent_endWaterNodeReference",
         "type": "\"string\""
        },
        {
         "metadata": "{}",
         "name": "col_properties_linkTopologyComponent_source",
         "type": "\"string\""
        },
        {
         "metadata": "{}",
         "name": "col_properties_linkTopologyComponent_startNetworkNodeReference",
         "type": "\"string\""
        },
        {
         "metadata": "{}",
         "name": "col_properties_linkTopologyComponent_startOverheadSupportAreaReference",
         "type": "\"string\""
        },
        {
         "metadata": "{}",
         "name": "col_properties_linkTopologyComponent_startOverheadSupportPointReference",
         "type": "\"string\""
        },
        {
         "metadata": "{}",
         "name": "col_properties_linkTopologyComponent_startWaterNodeReference",
         "type": "\"string\""
        },
        {
         "metadata": "{}",
         "name": "col_properties_linkTopologyComponent_versionNumber",
         "type": "\"long\""
        },
        {
         "metadata": "{}",
         "name": "col_properties_planarAreaLocationComponent_applicableContracts",
         "type": "{\"type\":\"array\",\"elementType\":\"string\",\"containsNull\":true}"
        },
        {
         "metadata": "{}",
         "name": "col_properties_planarAreaLocationComponent_authorities",
         "type": "{\"type\":\"array\",\"elementType\":\"string\",\"containsNull\":true}"
        },
        {
         "metadata": "{}",
         "name": "col_properties_planarAreaLocationComponent_componentId",
         "type": "\"string\""
        },
        {
         "metadata": "{}",
         "name": "col_properties_planarAreaLocationComponent_locationType",
         "type": "\"string\""
        },
        {
         "metadata": "{}",
         "name": "col_properties_planarAreaLocationComponent_source",
         "type": "\"string\""
        },
        {
         "metadata": "{}",
         "name": "col_properties_planarAreaLocationComponent_vagueness",
         "type": "\"string\""
        },
        {
         "metadata": "{}",
         "name": "col_properties_planarAreaLocationComponent_versionNumber",
         "type": "\"long\""
        },
        {
         "metadata": "{}",
         "name": "col_properties_planarLinearLocationComponent_applicableContracts",
         "type": "{\"type\":\"array\",\"elementType\":\"string\",\"containsNull\":true}"
        },
        {
         "metadata": "{}",
         "name": "col_properties_planarLinearLocationComponent_authorities",
         "type": "{\"type\":\"array\",\"elementType\":\"string\",\"containsNull\":true}"
        },
        {
         "metadata": "{}",
         "name": "col_properties_planarLinearLocationComponent_componentId",
         "type": "\"string\""
        },
        {
         "metadata": "{}",
         "name": "col_properties_planarLinearLocationComponent_locationType",
         "type": "\"string\""
        },
        {
         "metadata": "{}",
         "name": "col_properties_planarLinearLocationComponent_source",
         "type": "\"string\""
        },
        {
         "metadata": "{}",
         "name": "col_properties_planarLinearLocationComponent_vagueness",
         "type": "\"string\""
        },
        {
         "metadata": "{}",
         "name": "col_properties_planarLinearLocationComponent_versionNumber",
         "type": "\"long\""
        },
        {
         "metadata": "{}",
         "name": "col_properties_roadLinkComponent_applicableContracts",
         "type": "{\"type\":\"array\",\"elementType\":\"string\",\"containsNull\":true}"
        },
        {
         "metadata": "{}",
         "name": "col_properties_roadLinkComponent_componentId",
         "type": "\"string\""
        },
        {
         "metadata": "{}",
         "name": "col_properties_roadLinkComponent_isPrimary",
         "type": "\"boolean\""
        },
        {
         "metadata": "{}",
         "name": "col_properties_roadLinkComponent_isTrunk",
         "type": "\"boolean\""
        },
        {
         "metadata": "{}",
         "name": "col_properties_roadLinkComponent_source",
         "type": "\"string\""
        },
        {
         "metadata": "{}",
         "name": "col_properties_roadLinkComponent_versionNumber",
         "type": "\"long\""
        },
        {
         "metadata": "{}",
         "name": "col_properties_baseFormComponent_versionCreationMetadata_captureMethod",
         "type": "\"string\""
        },
        {
         "metadata": "{}",
         "name": "col_properties_baseFormComponent_versionCreationMetadata_confidenceLevel",
         "type": "\"string\""
        },
        {
         "metadata": "{}",
         "name": "col_properties_baseFormComponent_versionCreationMetadata_editDate",
         "type": "\"string\""
        },
        {
         "metadata": "{}",
         "name": "col_properties_baseFormComponent_versionCreationMetadata_evidenceDate",
         "type": "\"string\""
        },
        {
         "metadata": "{}",
         "name": "col_properties_baseFormComponent_versionCreationMetadata_jobReference",
         "type": "\"long\""
        },
        {
         "metadata": "{}",
         "name": "col_properties_baseFormComponent_versionCreationMetadata_reasonForChange",
         "type": "\"string\""
        },
        {
         "metadata": "{}",
         "name": "col_properties_gradeSeparationComponent_versionCreationMetadata_captureMethod",
         "type": "\"string\""
        },
        {
         "metadata": "{}",
         "name": "col_properties_gradeSeparationComponent_versionCreationMetadata_confidenceLevel",
         "type": "\"string\""
        },
        {
         "metadata": "{}",
         "name": "col_properties_gradeSeparationComponent_versionCreationMetadata_editDate",
         "type": "\"string\""
        },
        {
         "metadata": "{}",
         "name": "col_properties_gradeSeparationComponent_versionCreationMetadata_evidenceDate",
         "type": "\"string\""
        },
        {
         "metadata": "{}",
         "name": "col_properties_gradeSeparationComponent_versionCreationMetadata_jobReference",
         "type": "\"long\""
        },
        {
         "metadata": "{}",
         "name": "col_properties_gradeSeparationComponent_versionCreationMetadata_reasonForChange",
         "type": "\"string\""
        },
        {
         "metadata": "{}",
         "name": "col_properties_hasDetailDefinedByComponent_versionCreationMetadata_captureMethod",
         "type": "\"string\""
        },
        {
         "metadata": "{}",
         "name": "col_properties_hasDetailDefinedByComponent_versionCreationMetadata_confidenceLevel",
         "type": "\"string\""
        },
        {
         "metadata": "{}",
         "name": "col_properties_hasDetailDefinedByComponent_versionCreationMetadata_editDate",
         "type": "\"string\""
        },
        {
         "metadata": "{}",
         "name": "col_properties_hasDetailDefinedByComponent_versionCreationMetadata_evidenceDate",
         "type": "\"string\""
        },
        {
         "metadata": "{}",
         "name": "col_properties_hasDetailDefinedByComponent_versionCreationMetadata_jobReference",
         "type": "\"long\""
        },
        {
         "metadata": "{}",
         "name": "col_properties_hasDetailDefinedByComponent_versionCreationMetadata_reasonForChange",
         "type": "\"string\""
        },
        {
         "metadata": "{}",
         "name": "col_properties_lifecycleStatusComponent_versionCreationMetadata_captureMethod",
         "type": "\"string\""
        },
        {
         "metadata": "{}",
         "name": "col_properties_lifecycleStatusComponent_versionCreationMetadata_confidenceLevel",
         "type": "\"string\""
        },
        {
         "metadata": "{}",
         "name": "col_properties_lifecycleStatusComponent_versionCreationMetadata_editDate",
         "type": "\"string\""
        },
        {
         "metadata": "{}",
         "name": "col_properties_lifecycleStatusComponent_versionCreationMetadata_evidenceDate",
         "type": "\"string\""
        },
        {
         "metadata": "{}",
         "name": "col_properties_lifecycleStatusComponent_versionCreationMetadata_jobReference",
         "type": "\"long\""
        },
        {
         "metadata": "{}",
         "name": "col_properties_lifecycleStatusComponent_versionCreationMetadata_reasonForChange",
         "type": "\"string\""
        },
        {
         "metadata": "{}",
         "name": "col_properties_linearHeightComponent_versionCreationMetadata_captureMethod",
         "type": "\"string\""
        },
        {
         "metadata": "{}",
         "name": "col_properties_linearHeightComponent_versionCreationMetadata_confidenceLevel",
         "type": "\"string\""
        },
        {
         "metadata": "{}",
         "name": "col_properties_linearHeightComponent_versionCreationMetadata_editDate",
         "type": "\"string\""
        },
        {
         "metadata": "{}",
         "name": "col_properties_linearHeightComponent_versionCreationMetadata_evidenceDate",
         "type": "\"string\""
        },
        {
         "metadata": "{}",
         "name": "col_properties_linearHeightComponent_versionCreationMetadata_jobReference",
         "type": "\"long\""
        },
        {
         "metadata": "{}",
         "name": "col_properties_linearHeightComponent_versionCreationMetadata_reasonForChange",
         "type": "\"string\""
        },
        {
         "metadata": "{}",
         "name": "col_properties_linkTopologyComponent_versionCreationMetadata_captureMethod",
         "type": "\"string\""
        },
        {
         "metadata": "{}",
         "name": "col_properties_linkTopologyComponent_versionCreationMetadata_confidenceLevel",
         "type": "\"string\""
        },
        {
         "metadata": "{}",
         "name": "col_properties_linkTopologyComponent_versionCreationMetadata_editDate",
         "type": "\"string\""
        },
        {
         "metadata": "{}",
         "name": "col_properties_linkTopologyComponent_versionCreationMetadata_evidenceDate",
         "type": "\"string\""
        },
        {
         "metadata": "{}",
         "name": "col_properties_linkTopologyComponent_versionCreationMetadata_jobReference",
         "type": "\"long\""
        },
        {
         "metadata": "{}",
         "name": "col_properties_linkTopologyComponent_versionCreationMetadata_reasonForChange",
         "type": "\"string\""
        },
        {
         "metadata": "{}",
         "name": "col_properties_planarAreaLocationComponent_versionCreationMetadata_captureMethod",
         "type": "\"string\""
        },
        {
         "metadata": "{}",
         "name": "col_properties_planarAreaLocationComponent_versionCreationMetadata_confidenceLevel",
         "type": "\"string\""
        },
        {
         "metadata": "{}",
         "name": "col_properties_planarAreaLocationComponent_versionCreationMetadata_editDate",
         "type": "\"string\""
        },
        {
         "metadata": "{}",
         "name": "col_properties_planarAreaLocationComponent_versionCreationMetadata_evidenceDate",
         "type": "\"string\""
        },
        {
         "metadata": "{}",
         "name": "col_properties_planarAreaLocationComponent_versionCreationMetadata_jobReference",
         "type": "\"long\""
        },
        {
         "metadata": "{}",
         "name": "col_properties_planarAreaLocationComponent_versionCreationMetadata_reasonForChange",
         "type": "\"string\""
        },
        {
         "metadata": "{}",
         "name": "col_properties_planarLinearLocationComponent_versionCreationMetadata_captureMethod",
         "type": "\"string\""
        },
        {
         "metadata": "{}",
         "name": "col_properties_planarLinearLocationComponent_versionCreationMetadata_confidenceLevel",
         "type": "\"string\""
        },
        {
         "metadata": "{}",
         "name": "col_properties_planarLinearLocationComponent_versionCreationMetadata_editDate",
         "type": "\"string\""
        },
        {
         "metadata": "{}",
         "name": "col_properties_planarLinearLocationComponent_versionCreationMetadata_evidenceDate",
         "type": "\"string\""
        },
        {
         "metadata": "{}",
         "name": "col_properties_planarLinearLocationComponent_versionCreationMetadata_jobReference",
         "type": "\"long\""
        },
        {
         "metadata": "{}",
         "name": "col_properties_planarLinearLocationComponent_versionCreationMetadata_reasonForChange",
         "type": "\"string\""
        },
        {
         "metadata": "{}",
         "name": "col_properties_roadLinkComponent_versionCreationMetadata_captureMethod",
         "type": "\"string\""
        },
        {
         "metadata": "{}",
         "name": "col_properties_roadLinkComponent_versionCreationMetadata_confidenceLevel",
         "type": "\"string\""
        },
        {
         "metadata": "{}",
         "name": "col_properties_roadLinkComponent_versionCreationMetadata_editDate",
         "type": "\"string\""
        },
        {
         "metadata": "{}",
         "name": "col_properties_roadLinkComponent_versionCreationMetadata_evidenceDate",
         "type": "\"string\""
        },
        {
         "metadata": "{}",
         "name": "col_properties_roadLinkComponent_versionCreationMetadata_jobReference",
         "type": "\"long\""
        },
        {
         "metadata": "{}",
         "name": "col_properties_roadLinkComponent_versionCreationMetadata_reasonForChange",
         "type": "\"string\""
        }
       ],
       "type": "table"
      }
     },
     "output_type": "display_data"
    }
   ],
   "source": [
    "features = df.select(F.explode(\"features\"))\n",
    "for i in range(5):\n",
    "    output = flatten_df(features)\n",
    "    features = output\n",
    "display(output)"
   ]
  },
  {
   "cell_type": "markdown",
   "metadata": {
    "application/vnd.databricks.v1+cell": {
     "cellMetadata": {
      "byteLimit": 2048000,
      "rowLimit": 10000
     },
     "inputWidgets": {},
     "nuid": "a0052474-abf2-4a48-98cd-bc41803bdcbe",
     "showTitle": false,
     "tableResultSettingsMap": {},
     "title": ""
    }
   },
   "source": [
    "# ZADANIE 3\n"
   ]
  },
  {
   "cell_type": "markdown",
   "metadata": {
    "application/vnd.databricks.v1+cell": {
     "cellMetadata": {},
     "inputWidgets": {},
     "nuid": "5e9009b5-2a0f-4352-866f-1f74653c626a",
     "showTitle": false,
     "tableResultSettingsMap": {},
     "title": ""
    }
   },
   "source": [
    "1. Weryfikacja istnienia pliku przed wczytaniem\n",
    "2. Sprawdzanie schematu i obecności wymaganych kolumn\n",
    "3. Czyszczenie danych i wymuszanie typów danych\n",
    "4. Rejestrowanie metadanych i logowanie stanu danych\n",
    "5. Obsługa wyjątków z bezpiecznym przejściem dalej"
   ]
  },
  {
   "cell_type": "code",
   "execution_count": 0,
   "metadata": {
    "application/vnd.databricks.v1+cell": {
     "cellMetadata": {},
     "inputWidgets": {},
     "nuid": "ba3b3677-16f1-41eb-875b-8328cc635561",
     "showTitle": false,
     "tableResultSettingsMap": {},
     "title": ""
    }
   },
   "outputs": [],
   "source": []
  }
 ],
 "metadata": {
  "application/vnd.databricks.v1+notebook": {
   "computePreferences": null,
   "dashboards": [],
   "environmentMetadata": {
    "base_environment": "",
    "environment_version": "1"
   },
   "inputWidgetPreferences": null,
   "language": "python",
   "notebookMetadata": {
    "pythonIndentUnit": 4
   },
   "notebookName": "LAB_8 zad1,3",
   "widgets": {}
  }
 },
 "nbformat": 4,
 "nbformat_minor": 0
}